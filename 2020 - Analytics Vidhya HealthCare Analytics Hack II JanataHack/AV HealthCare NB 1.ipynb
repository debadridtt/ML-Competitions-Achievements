{
 "cells": [
  {
   "cell_type": "code",
   "execution_count": 1,
   "metadata": {
    "ExecuteTime": {
     "end_time": "2020-09-04T16:47:41.892206Z",
     "start_time": "2020-09-04T16:47:40.807145Z"
    }
   },
   "outputs": [],
   "source": [
    "import pandas as pd\n",
    "import numpy as np\n",
    "import warnings\n",
    "warnings.filterwarnings('ignore')"
   ]
  },
  {
   "cell_type": "markdown",
   "metadata": {},
   "source": [
    "### Data QC & Pre-Processing"
   ]
  },
  {
   "cell_type": "code",
   "execution_count": 2,
   "metadata": {
    "ExecuteTime": {
     "end_time": "2020-09-04T16:47:44.332679Z",
     "start_time": "2020-09-04T16:47:41.895197Z"
    }
   },
   "outputs": [
    {
     "data": {
      "text/html": [
       "<div>\n",
       "<style scoped>\n",
       "    .dataframe tbody tr th:only-of-type {\n",
       "        vertical-align: middle;\n",
       "    }\n",
       "\n",
       "    .dataframe tbody tr th {\n",
       "        vertical-align: top;\n",
       "    }\n",
       "\n",
       "    .dataframe thead th {\n",
       "        text-align: right;\n",
       "    }\n",
       "</style>\n",
       "<table border=\"1\" class=\"dataframe\">\n",
       "  <thead>\n",
       "    <tr style=\"text-align: right;\">\n",
       "      <th></th>\n",
       "      <th>case_id</th>\n",
       "      <th>Hospital_code</th>\n",
       "      <th>Hospital_type_code</th>\n",
       "      <th>City_Code_Hospital</th>\n",
       "      <th>Hospital_region_code</th>\n",
       "      <th>Available Extra Rooms in Hospital</th>\n",
       "      <th>Department</th>\n",
       "      <th>Ward_Type</th>\n",
       "      <th>Ward_Facility_Code</th>\n",
       "      <th>Bed Grade</th>\n",
       "      <th>patientid</th>\n",
       "      <th>City_Code_Patient</th>\n",
       "      <th>Type of Admission</th>\n",
       "      <th>Severity of Illness</th>\n",
       "      <th>Visitors with Patient</th>\n",
       "      <th>Age</th>\n",
       "      <th>Admission_Deposit</th>\n",
       "      <th>Stay</th>\n",
       "    </tr>\n",
       "  </thead>\n",
       "  <tbody>\n",
       "    <tr>\n",
       "      <th>0</th>\n",
       "      <td>1</td>\n",
       "      <td>8</td>\n",
       "      <td>c</td>\n",
       "      <td>3</td>\n",
       "      <td>Z</td>\n",
       "      <td>3</td>\n",
       "      <td>radiotherapy</td>\n",
       "      <td>R</td>\n",
       "      <td>F</td>\n",
       "      <td>2.0</td>\n",
       "      <td>31397</td>\n",
       "      <td>7.0</td>\n",
       "      <td>Emergency</td>\n",
       "      <td>Extreme</td>\n",
       "      <td>2</td>\n",
       "      <td>51-60</td>\n",
       "      <td>4911.0</td>\n",
       "      <td>0-10</td>\n",
       "    </tr>\n",
       "    <tr>\n",
       "      <th>1</th>\n",
       "      <td>2</td>\n",
       "      <td>2</td>\n",
       "      <td>c</td>\n",
       "      <td>5</td>\n",
       "      <td>Z</td>\n",
       "      <td>2</td>\n",
       "      <td>radiotherapy</td>\n",
       "      <td>S</td>\n",
       "      <td>F</td>\n",
       "      <td>2.0</td>\n",
       "      <td>31397</td>\n",
       "      <td>7.0</td>\n",
       "      <td>Trauma</td>\n",
       "      <td>Extreme</td>\n",
       "      <td>2</td>\n",
       "      <td>51-60</td>\n",
       "      <td>5954.0</td>\n",
       "      <td>41-50</td>\n",
       "    </tr>\n",
       "    <tr>\n",
       "      <th>2</th>\n",
       "      <td>3</td>\n",
       "      <td>10</td>\n",
       "      <td>e</td>\n",
       "      <td>1</td>\n",
       "      <td>X</td>\n",
       "      <td>2</td>\n",
       "      <td>anesthesia</td>\n",
       "      <td>S</td>\n",
       "      <td>E</td>\n",
       "      <td>2.0</td>\n",
       "      <td>31397</td>\n",
       "      <td>7.0</td>\n",
       "      <td>Trauma</td>\n",
       "      <td>Extreme</td>\n",
       "      <td>2</td>\n",
       "      <td>51-60</td>\n",
       "      <td>4745.0</td>\n",
       "      <td>31-40</td>\n",
       "    </tr>\n",
       "    <tr>\n",
       "      <th>3</th>\n",
       "      <td>4</td>\n",
       "      <td>26</td>\n",
       "      <td>b</td>\n",
       "      <td>2</td>\n",
       "      <td>Y</td>\n",
       "      <td>2</td>\n",
       "      <td>radiotherapy</td>\n",
       "      <td>R</td>\n",
       "      <td>D</td>\n",
       "      <td>2.0</td>\n",
       "      <td>31397</td>\n",
       "      <td>7.0</td>\n",
       "      <td>Trauma</td>\n",
       "      <td>Extreme</td>\n",
       "      <td>2</td>\n",
       "      <td>51-60</td>\n",
       "      <td>7272.0</td>\n",
       "      <td>41-50</td>\n",
       "    </tr>\n",
       "    <tr>\n",
       "      <th>4</th>\n",
       "      <td>5</td>\n",
       "      <td>26</td>\n",
       "      <td>b</td>\n",
       "      <td>2</td>\n",
       "      <td>Y</td>\n",
       "      <td>2</td>\n",
       "      <td>radiotherapy</td>\n",
       "      <td>S</td>\n",
       "      <td>D</td>\n",
       "      <td>2.0</td>\n",
       "      <td>31397</td>\n",
       "      <td>7.0</td>\n",
       "      <td>Trauma</td>\n",
       "      <td>Extreme</td>\n",
       "      <td>2</td>\n",
       "      <td>51-60</td>\n",
       "      <td>5558.0</td>\n",
       "      <td>41-50</td>\n",
       "    </tr>\n",
       "  </tbody>\n",
       "</table>\n",
       "</div>"
      ],
      "text/plain": [
       "   case_id  Hospital_code Hospital_type_code  City_Code_Hospital  \\\n",
       "0        1              8                  c                   3   \n",
       "1        2              2                  c                   5   \n",
       "2        3             10                  e                   1   \n",
       "3        4             26                  b                   2   \n",
       "4        5             26                  b                   2   \n",
       "\n",
       "  Hospital_region_code  Available Extra Rooms in Hospital    Department  \\\n",
       "0                    Z                                  3  radiotherapy   \n",
       "1                    Z                                  2  radiotherapy   \n",
       "2                    X                                  2    anesthesia   \n",
       "3                    Y                                  2  radiotherapy   \n",
       "4                    Y                                  2  radiotherapy   \n",
       "\n",
       "  Ward_Type Ward_Facility_Code  Bed Grade  patientid  City_Code_Patient  \\\n",
       "0         R                  F        2.0      31397                7.0   \n",
       "1         S                  F        2.0      31397                7.0   \n",
       "2         S                  E        2.0      31397                7.0   \n",
       "3         R                  D        2.0      31397                7.0   \n",
       "4         S                  D        2.0      31397                7.0   \n",
       "\n",
       "  Type of Admission Severity of Illness  Visitors with Patient    Age  \\\n",
       "0         Emergency             Extreme                      2  51-60   \n",
       "1            Trauma             Extreme                      2  51-60   \n",
       "2            Trauma             Extreme                      2  51-60   \n",
       "3            Trauma             Extreme                      2  51-60   \n",
       "4            Trauma             Extreme                      2  51-60   \n",
       "\n",
       "   Admission_Deposit   Stay  \n",
       "0             4911.0   0-10  \n",
       "1             5954.0  41-50  \n",
       "2             4745.0  31-40  \n",
       "3             7272.0  41-50  \n",
       "4             5558.0  41-50  "
      ]
     },
     "execution_count": 2,
     "metadata": {},
     "output_type": "execute_result"
    }
   ],
   "source": [
    "train = pd.read_csv('train.csv')\n",
    "train_backup_fin = train.copy()\n",
    "train.head()"
   ]
  },
  {
   "cell_type": "code",
   "execution_count": 3,
   "metadata": {
    "ExecuteTime": {
     "end_time": "2020-09-04T16:47:44.379719Z",
     "start_time": "2020-09-04T16:47:44.336669Z"
    }
   },
   "outputs": [
    {
     "data": {
      "text/plain": [
       "array(['51-60', '71-80', '31-40', '41-50', '81-90', '61-70', '21-30',\n",
       "       '11-20', '0-10', '91-100'], dtype=object)"
      ]
     },
     "execution_count": 3,
     "metadata": {},
     "output_type": "execute_result"
    }
   ],
   "source": [
    "train['Age'].unique()"
   ]
  },
  {
   "cell_type": "code",
   "execution_count": 4,
   "metadata": {
    "ExecuteTime": {
     "end_time": "2020-09-04T16:47:44.395513Z",
     "start_time": "2020-09-04T16:47:44.382583Z"
    }
   },
   "outputs": [
    {
     "data": {
      "text/plain": [
       "(318438, 18)"
      ]
     },
     "execution_count": 4,
     "metadata": {},
     "output_type": "execute_result"
    }
   ],
   "source": [
    "train.shape"
   ]
  },
  {
   "cell_type": "code",
   "execution_count": 5,
   "metadata": {
    "ExecuteTime": {
     "end_time": "2020-09-04T16:47:44.930283Z",
     "start_time": "2020-09-04T16:47:44.399499Z"
    }
   },
   "outputs": [
    {
     "data": {
      "text/plain": [
       "((318373, 17), (318438, 18))"
      ]
     },
     "execution_count": 5,
     "metadata": {},
     "output_type": "execute_result"
    }
   ],
   "source": [
    "train.drop('case_id', axis=1).drop_duplicates().shape, train.shape"
   ]
  },
  {
   "cell_type": "code",
   "execution_count": 6,
   "metadata": {
    "ExecuteTime": {
     "end_time": "2020-09-04T16:47:45.264236Z",
     "start_time": "2020-09-04T16:47:44.933116Z"
    }
   },
   "outputs": [
    {
     "data": {
      "text/html": [
       "<div>\n",
       "<style scoped>\n",
       "    .dataframe tbody tr th:only-of-type {\n",
       "        vertical-align: middle;\n",
       "    }\n",
       "\n",
       "    .dataframe tbody tr th {\n",
       "        vertical-align: top;\n",
       "    }\n",
       "\n",
       "    .dataframe thead th {\n",
       "        text-align: right;\n",
       "    }\n",
       "</style>\n",
       "<table border=\"1\" class=\"dataframe\">\n",
       "  <thead>\n",
       "    <tr style=\"text-align: right;\">\n",
       "      <th></th>\n",
       "      <th>case_id</th>\n",
       "      <th>Hospital_code</th>\n",
       "      <th>City_Code_Hospital</th>\n",
       "      <th>Available Extra Rooms in Hospital</th>\n",
       "      <th>Bed Grade</th>\n",
       "      <th>patientid</th>\n",
       "      <th>City_Code_Patient</th>\n",
       "      <th>Visitors with Patient</th>\n",
       "      <th>Admission_Deposit</th>\n",
       "    </tr>\n",
       "  </thead>\n",
       "  <tbody>\n",
       "    <tr>\n",
       "      <th>count</th>\n",
       "      <td>318438.000000</td>\n",
       "      <td>318438.000000</td>\n",
       "      <td>318438.000000</td>\n",
       "      <td>318438.000000</td>\n",
       "      <td>318325.000000</td>\n",
       "      <td>318438.000000</td>\n",
       "      <td>313906.000000</td>\n",
       "      <td>318438.000000</td>\n",
       "      <td>318438.000000</td>\n",
       "    </tr>\n",
       "    <tr>\n",
       "      <th>mean</th>\n",
       "      <td>159219.500000</td>\n",
       "      <td>18.318841</td>\n",
       "      <td>4.771717</td>\n",
       "      <td>3.197627</td>\n",
       "      <td>2.625807</td>\n",
       "      <td>65747.579472</td>\n",
       "      <td>7.251859</td>\n",
       "      <td>3.284099</td>\n",
       "      <td>4880.749392</td>\n",
       "    </tr>\n",
       "    <tr>\n",
       "      <th>std</th>\n",
       "      <td>91925.276847</td>\n",
       "      <td>8.633755</td>\n",
       "      <td>3.102535</td>\n",
       "      <td>1.168171</td>\n",
       "      <td>0.873146</td>\n",
       "      <td>37979.936440</td>\n",
       "      <td>4.745266</td>\n",
       "      <td>1.764061</td>\n",
       "      <td>1086.776254</td>\n",
       "    </tr>\n",
       "    <tr>\n",
       "      <th>min</th>\n",
       "      <td>1.000000</td>\n",
       "      <td>1.000000</td>\n",
       "      <td>1.000000</td>\n",
       "      <td>0.000000</td>\n",
       "      <td>1.000000</td>\n",
       "      <td>1.000000</td>\n",
       "      <td>1.000000</td>\n",
       "      <td>0.000000</td>\n",
       "      <td>1800.000000</td>\n",
       "    </tr>\n",
       "    <tr>\n",
       "      <th>25%</th>\n",
       "      <td>79610.250000</td>\n",
       "      <td>11.000000</td>\n",
       "      <td>2.000000</td>\n",
       "      <td>2.000000</td>\n",
       "      <td>2.000000</td>\n",
       "      <td>32847.000000</td>\n",
       "      <td>4.000000</td>\n",
       "      <td>2.000000</td>\n",
       "      <td>4186.000000</td>\n",
       "    </tr>\n",
       "    <tr>\n",
       "      <th>50%</th>\n",
       "      <td>159219.500000</td>\n",
       "      <td>19.000000</td>\n",
       "      <td>5.000000</td>\n",
       "      <td>3.000000</td>\n",
       "      <td>3.000000</td>\n",
       "      <td>65724.500000</td>\n",
       "      <td>8.000000</td>\n",
       "      <td>3.000000</td>\n",
       "      <td>4741.000000</td>\n",
       "    </tr>\n",
       "    <tr>\n",
       "      <th>75%</th>\n",
       "      <td>238828.750000</td>\n",
       "      <td>26.000000</td>\n",
       "      <td>7.000000</td>\n",
       "      <td>4.000000</td>\n",
       "      <td>3.000000</td>\n",
       "      <td>98470.000000</td>\n",
       "      <td>8.000000</td>\n",
       "      <td>4.000000</td>\n",
       "      <td>5409.000000</td>\n",
       "    </tr>\n",
       "    <tr>\n",
       "      <th>max</th>\n",
       "      <td>318438.000000</td>\n",
       "      <td>32.000000</td>\n",
       "      <td>13.000000</td>\n",
       "      <td>24.000000</td>\n",
       "      <td>4.000000</td>\n",
       "      <td>131624.000000</td>\n",
       "      <td>38.000000</td>\n",
       "      <td>32.000000</td>\n",
       "      <td>11008.000000</td>\n",
       "    </tr>\n",
       "  </tbody>\n",
       "</table>\n",
       "</div>"
      ],
      "text/plain": [
       "             case_id  Hospital_code  City_Code_Hospital  \\\n",
       "count  318438.000000  318438.000000       318438.000000   \n",
       "mean   159219.500000      18.318841            4.771717   \n",
       "std     91925.276847       8.633755            3.102535   \n",
       "min         1.000000       1.000000            1.000000   \n",
       "25%     79610.250000      11.000000            2.000000   \n",
       "50%    159219.500000      19.000000            5.000000   \n",
       "75%    238828.750000      26.000000            7.000000   \n",
       "max    318438.000000      32.000000           13.000000   \n",
       "\n",
       "       Available Extra Rooms in Hospital      Bed Grade      patientid  \\\n",
       "count                      318438.000000  318325.000000  318438.000000   \n",
       "mean                            3.197627       2.625807   65747.579472   \n",
       "std                             1.168171       0.873146   37979.936440   \n",
       "min                             0.000000       1.000000       1.000000   \n",
       "25%                             2.000000       2.000000   32847.000000   \n",
       "50%                             3.000000       3.000000   65724.500000   \n",
       "75%                             4.000000       3.000000   98470.000000   \n",
       "max                            24.000000       4.000000  131624.000000   \n",
       "\n",
       "       City_Code_Patient  Visitors with Patient  Admission_Deposit  \n",
       "count      313906.000000          318438.000000      318438.000000  \n",
       "mean            7.251859               3.284099        4880.749392  \n",
       "std             4.745266               1.764061        1086.776254  \n",
       "min             1.000000               0.000000        1800.000000  \n",
       "25%             4.000000               2.000000        4186.000000  \n",
       "50%             8.000000               3.000000        4741.000000  \n",
       "75%             8.000000               4.000000        5409.000000  \n",
       "max            38.000000              32.000000       11008.000000  "
      ]
     },
     "execution_count": 6,
     "metadata": {},
     "output_type": "execute_result"
    }
   ],
   "source": [
    "train.describe()"
   ]
  },
  {
   "cell_type": "code",
   "execution_count": 7,
   "metadata": {
    "ExecuteTime": {
     "end_time": "2020-09-04T16:47:45.280146Z",
     "start_time": "2020-09-04T16:47:45.267187Z"
    }
   },
   "outputs": [
    {
     "data": {
      "text/plain": [
       "(318438, 18)"
      ]
     },
     "execution_count": 7,
     "metadata": {},
     "output_type": "execute_result"
    }
   ],
   "source": [
    "train.shape"
   ]
  },
  {
   "cell_type": "code",
   "execution_count": 8,
   "metadata": {
    "ExecuteTime": {
     "end_time": "2020-09-04T16:47:45.565424Z",
     "start_time": "2020-09-04T16:47:45.283141Z"
    }
   },
   "outputs": [
    {
     "data": {
      "text/plain": [
       "case_id                                 0\n",
       "Hospital_code                           0\n",
       "Hospital_type_code                      0\n",
       "City_Code_Hospital                      0\n",
       "Hospital_region_code                    0\n",
       "Available Extra Rooms in Hospital       0\n",
       "Department                              0\n",
       "Ward_Type                               0\n",
       "Ward_Facility_Code                      0\n",
       "Bed Grade                             113\n",
       "patientid                               0\n",
       "City_Code_Patient                    4532\n",
       "Type of Admission                       0\n",
       "Severity of Illness                     0\n",
       "Visitors with Patient                   0\n",
       "Age                                     0\n",
       "Admission_Deposit                       0\n",
       "Stay                                    0\n",
       "dtype: int64"
      ]
     },
     "execution_count": 8,
     "metadata": {},
     "output_type": "execute_result"
    }
   ],
   "source": [
    "train.isnull().sum()"
   ]
  },
  {
   "cell_type": "code",
   "execution_count": 9,
   "metadata": {
    "ExecuteTime": {
     "end_time": "2020-09-04T16:47:46.649485Z",
     "start_time": "2020-09-04T16:47:45.568410Z"
    }
   },
   "outputs": [
    {
     "data": {
      "text/html": [
       "<div>\n",
       "<style scoped>\n",
       "    .dataframe tbody tr th:only-of-type {\n",
       "        vertical-align: middle;\n",
       "    }\n",
       "\n",
       "    .dataframe tbody tr th {\n",
       "        vertical-align: top;\n",
       "    }\n",
       "\n",
       "    .dataframe thead th {\n",
       "        text-align: right;\n",
       "    }\n",
       "</style>\n",
       "<table border=\"1\" class=\"dataframe\">\n",
       "  <thead>\n",
       "    <tr style=\"text-align: right;\">\n",
       "      <th></th>\n",
       "      <th>case_id</th>\n",
       "      <th>Hospital_code</th>\n",
       "      <th>Hospital_type_code</th>\n",
       "      <th>City_Code_Hospital</th>\n",
       "      <th>Hospital_region_code</th>\n",
       "      <th>Available Extra Rooms in Hospital</th>\n",
       "      <th>Department</th>\n",
       "      <th>Ward_Type</th>\n",
       "      <th>Ward_Facility_Code</th>\n",
       "      <th>Bed Grade</th>\n",
       "      <th>patientid</th>\n",
       "      <th>City_Code_Patient</th>\n",
       "      <th>Type of Admission</th>\n",
       "      <th>Severity of Illness</th>\n",
       "      <th>Visitors with Patient</th>\n",
       "      <th>Age</th>\n",
       "      <th>Admission_Deposit</th>\n",
       "    </tr>\n",
       "  </thead>\n",
       "  <tbody>\n",
       "    <tr>\n",
       "      <th>0</th>\n",
       "      <td>318439</td>\n",
       "      <td>21</td>\n",
       "      <td>c</td>\n",
       "      <td>3</td>\n",
       "      <td>Z</td>\n",
       "      <td>3</td>\n",
       "      <td>gynecology</td>\n",
       "      <td>S</td>\n",
       "      <td>A</td>\n",
       "      <td>2.0</td>\n",
       "      <td>17006</td>\n",
       "      <td>2.0</td>\n",
       "      <td>Emergency</td>\n",
       "      <td>Moderate</td>\n",
       "      <td>2</td>\n",
       "      <td>71-80</td>\n",
       "      <td>3095.0</td>\n",
       "    </tr>\n",
       "    <tr>\n",
       "      <th>1</th>\n",
       "      <td>318440</td>\n",
       "      <td>29</td>\n",
       "      <td>a</td>\n",
       "      <td>4</td>\n",
       "      <td>X</td>\n",
       "      <td>2</td>\n",
       "      <td>gynecology</td>\n",
       "      <td>S</td>\n",
       "      <td>F</td>\n",
       "      <td>2.0</td>\n",
       "      <td>17006</td>\n",
       "      <td>2.0</td>\n",
       "      <td>Trauma</td>\n",
       "      <td>Moderate</td>\n",
       "      <td>4</td>\n",
       "      <td>71-80</td>\n",
       "      <td>4018.0</td>\n",
       "    </tr>\n",
       "    <tr>\n",
       "      <th>2</th>\n",
       "      <td>318441</td>\n",
       "      <td>26</td>\n",
       "      <td>b</td>\n",
       "      <td>2</td>\n",
       "      <td>Y</td>\n",
       "      <td>3</td>\n",
       "      <td>gynecology</td>\n",
       "      <td>Q</td>\n",
       "      <td>D</td>\n",
       "      <td>4.0</td>\n",
       "      <td>17006</td>\n",
       "      <td>2.0</td>\n",
       "      <td>Emergency</td>\n",
       "      <td>Moderate</td>\n",
       "      <td>3</td>\n",
       "      <td>71-80</td>\n",
       "      <td>4492.0</td>\n",
       "    </tr>\n",
       "    <tr>\n",
       "      <th>3</th>\n",
       "      <td>318442</td>\n",
       "      <td>6</td>\n",
       "      <td>a</td>\n",
       "      <td>6</td>\n",
       "      <td>X</td>\n",
       "      <td>3</td>\n",
       "      <td>gynecology</td>\n",
       "      <td>Q</td>\n",
       "      <td>F</td>\n",
       "      <td>2.0</td>\n",
       "      <td>17006</td>\n",
       "      <td>2.0</td>\n",
       "      <td>Trauma</td>\n",
       "      <td>Moderate</td>\n",
       "      <td>3</td>\n",
       "      <td>71-80</td>\n",
       "      <td>4173.0</td>\n",
       "    </tr>\n",
       "    <tr>\n",
       "      <th>4</th>\n",
       "      <td>318443</td>\n",
       "      <td>28</td>\n",
       "      <td>b</td>\n",
       "      <td>11</td>\n",
       "      <td>X</td>\n",
       "      <td>2</td>\n",
       "      <td>gynecology</td>\n",
       "      <td>R</td>\n",
       "      <td>F</td>\n",
       "      <td>2.0</td>\n",
       "      <td>17006</td>\n",
       "      <td>2.0</td>\n",
       "      <td>Trauma</td>\n",
       "      <td>Moderate</td>\n",
       "      <td>4</td>\n",
       "      <td>71-80</td>\n",
       "      <td>4161.0</td>\n",
       "    </tr>\n",
       "  </tbody>\n",
       "</table>\n",
       "</div>"
      ],
      "text/plain": [
       "   case_id  Hospital_code Hospital_type_code  City_Code_Hospital  \\\n",
       "0   318439             21                  c                   3   \n",
       "1   318440             29                  a                   4   \n",
       "2   318441             26                  b                   2   \n",
       "3   318442              6                  a                   6   \n",
       "4   318443             28                  b                  11   \n",
       "\n",
       "  Hospital_region_code  Available Extra Rooms in Hospital  Department  \\\n",
       "0                    Z                                  3  gynecology   \n",
       "1                    X                                  2  gynecology   \n",
       "2                    Y                                  3  gynecology   \n",
       "3                    X                                  3  gynecology   \n",
       "4                    X                                  2  gynecology   \n",
       "\n",
       "  Ward_Type Ward_Facility_Code  Bed Grade  patientid  City_Code_Patient  \\\n",
       "0         S                  A        2.0      17006                2.0   \n",
       "1         S                  F        2.0      17006                2.0   \n",
       "2         Q                  D        4.0      17006                2.0   \n",
       "3         Q                  F        2.0      17006                2.0   \n",
       "4         R                  F        2.0      17006                2.0   \n",
       "\n",
       "  Type of Admission Severity of Illness  Visitors with Patient    Age  \\\n",
       "0         Emergency            Moderate                      2  71-80   \n",
       "1            Trauma            Moderate                      4  71-80   \n",
       "2         Emergency            Moderate                      3  71-80   \n",
       "3            Trauma            Moderate                      3  71-80   \n",
       "4            Trauma            Moderate                      4  71-80   \n",
       "\n",
       "   Admission_Deposit  \n",
       "0             3095.0  \n",
       "1             4018.0  \n",
       "2             4492.0  \n",
       "3             4173.0  \n",
       "4             4161.0  "
      ]
     },
     "execution_count": 9,
     "metadata": {},
     "output_type": "execute_result"
    }
   ],
   "source": [
    "test = pd.read_csv('test.csv')\n",
    "test_backup_fin = test.copy()\n",
    "test.head()"
   ]
  },
  {
   "cell_type": "code",
   "execution_count": 10,
   "metadata": {
    "ExecuteTime": {
     "end_time": "2020-09-04T16:47:46.872960Z",
     "start_time": "2020-09-04T16:47:46.652514Z"
    }
   },
   "outputs": [
    {
     "data": {
      "text/plain": [
       "((137029, 16), (137057, 17))"
      ]
     },
     "execution_count": 10,
     "metadata": {},
     "output_type": "execute_result"
    }
   ],
   "source": [
    "test.drop('case_id', axis=1).drop_duplicates().shape, test.shape"
   ]
  },
  {
   "cell_type": "code",
   "execution_count": 11,
   "metadata": {
    "ExecuteTime": {
     "end_time": "2020-09-04T16:47:47.062423Z",
     "start_time": "2020-09-04T16:47:46.875920Z"
    }
   },
   "outputs": [
    {
     "data": {
      "text/html": [
       "<div>\n",
       "<style scoped>\n",
       "    .dataframe tbody tr th:only-of-type {\n",
       "        vertical-align: middle;\n",
       "    }\n",
       "\n",
       "    .dataframe tbody tr th {\n",
       "        vertical-align: top;\n",
       "    }\n",
       "\n",
       "    .dataframe thead th {\n",
       "        text-align: right;\n",
       "    }\n",
       "</style>\n",
       "<table border=\"1\" class=\"dataframe\">\n",
       "  <thead>\n",
       "    <tr style=\"text-align: right;\">\n",
       "      <th></th>\n",
       "      <th>case_id</th>\n",
       "      <th>Hospital_code</th>\n",
       "      <th>City_Code_Hospital</th>\n",
       "      <th>Available Extra Rooms in Hospital</th>\n",
       "      <th>Bed Grade</th>\n",
       "      <th>patientid</th>\n",
       "      <th>City_Code_Patient</th>\n",
       "      <th>Visitors with Patient</th>\n",
       "      <th>Admission_Deposit</th>\n",
       "    </tr>\n",
       "  </thead>\n",
       "  <tbody>\n",
       "    <tr>\n",
       "      <th>count</th>\n",
       "      <td>137057.000000</td>\n",
       "      <td>137057.000000</td>\n",
       "      <td>137057.000000</td>\n",
       "      <td>137057.000000</td>\n",
       "      <td>137022.000000</td>\n",
       "      <td>137057.000000</td>\n",
       "      <td>134900.000000</td>\n",
       "      <td>137057.000000</td>\n",
       "      <td>137057.000000</td>\n",
       "    </tr>\n",
       "    <tr>\n",
       "      <th>mean</th>\n",
       "      <td>386967.000000</td>\n",
       "      <td>18.343747</td>\n",
       "      <td>4.758692</td>\n",
       "      <td>3.192686</td>\n",
       "      <td>2.634489</td>\n",
       "      <td>65877.903515</td>\n",
       "      <td>7.243996</td>\n",
       "      <td>3.284531</td>\n",
       "      <td>4869.731097</td>\n",
       "    </tr>\n",
       "    <tr>\n",
       "      <th>std</th>\n",
       "      <td>39565.092259</td>\n",
       "      <td>8.634694</td>\n",
       "      <td>3.102245</td>\n",
       "      <td>1.164250</td>\n",
       "      <td>0.869295</td>\n",
       "      <td>37942.997623</td>\n",
       "      <td>4.790625</td>\n",
       "      <td>1.777270</td>\n",
       "      <td>1080.766723</td>\n",
       "    </tr>\n",
       "    <tr>\n",
       "      <th>min</th>\n",
       "      <td>318439.000000</td>\n",
       "      <td>1.000000</td>\n",
       "      <td>1.000000</td>\n",
       "      <td>0.000000</td>\n",
       "      <td>1.000000</td>\n",
       "      <td>3.000000</td>\n",
       "      <td>1.000000</td>\n",
       "      <td>0.000000</td>\n",
       "      <td>1800.000000</td>\n",
       "    </tr>\n",
       "    <tr>\n",
       "      <th>25%</th>\n",
       "      <td>352703.000000</td>\n",
       "      <td>11.000000</td>\n",
       "      <td>2.000000</td>\n",
       "      <td>2.000000</td>\n",
       "      <td>2.000000</td>\n",
       "      <td>32945.000000</td>\n",
       "      <td>4.000000</td>\n",
       "      <td>2.000000</td>\n",
       "      <td>4178.000000</td>\n",
       "    </tr>\n",
       "    <tr>\n",
       "      <th>50%</th>\n",
       "      <td>386967.000000</td>\n",
       "      <td>19.000000</td>\n",
       "      <td>5.000000</td>\n",
       "      <td>3.000000</td>\n",
       "      <td>3.000000</td>\n",
       "      <td>65786.000000</td>\n",
       "      <td>8.000000</td>\n",
       "      <td>3.000000</td>\n",
       "      <td>4731.000000</td>\n",
       "    </tr>\n",
       "    <tr>\n",
       "      <th>75%</th>\n",
       "      <td>421231.000000</td>\n",
       "      <td>26.000000</td>\n",
       "      <td>7.000000</td>\n",
       "      <td>4.000000</td>\n",
       "      <td>3.000000</td>\n",
       "      <td>98851.000000</td>\n",
       "      <td>8.000000</td>\n",
       "      <td>4.000000</td>\n",
       "      <td>5398.000000</td>\n",
       "    </tr>\n",
       "    <tr>\n",
       "      <th>max</th>\n",
       "      <td>455495.000000</td>\n",
       "      <td>32.000000</td>\n",
       "      <td>13.000000</td>\n",
       "      <td>21.000000</td>\n",
       "      <td>4.000000</td>\n",
       "      <td>131618.000000</td>\n",
       "      <td>38.000000</td>\n",
       "      <td>32.000000</td>\n",
       "      <td>11920.000000</td>\n",
       "    </tr>\n",
       "  </tbody>\n",
       "</table>\n",
       "</div>"
      ],
      "text/plain": [
       "             case_id  Hospital_code  City_Code_Hospital  \\\n",
       "count  137057.000000  137057.000000       137057.000000   \n",
       "mean   386967.000000      18.343747            4.758692   \n",
       "std     39565.092259       8.634694            3.102245   \n",
       "min    318439.000000       1.000000            1.000000   \n",
       "25%    352703.000000      11.000000            2.000000   \n",
       "50%    386967.000000      19.000000            5.000000   \n",
       "75%    421231.000000      26.000000            7.000000   \n",
       "max    455495.000000      32.000000           13.000000   \n",
       "\n",
       "       Available Extra Rooms in Hospital      Bed Grade      patientid  \\\n",
       "count                      137057.000000  137022.000000  137057.000000   \n",
       "mean                            3.192686       2.634489   65877.903515   \n",
       "std                             1.164250       0.869295   37942.997623   \n",
       "min                             0.000000       1.000000       3.000000   \n",
       "25%                             2.000000       2.000000   32945.000000   \n",
       "50%                             3.000000       3.000000   65786.000000   \n",
       "75%                             4.000000       3.000000   98851.000000   \n",
       "max                            21.000000       4.000000  131618.000000   \n",
       "\n",
       "       City_Code_Patient  Visitors with Patient  Admission_Deposit  \n",
       "count      134900.000000          137057.000000      137057.000000  \n",
       "mean            7.243996               3.284531        4869.731097  \n",
       "std             4.790625               1.777270        1080.766723  \n",
       "min             1.000000               0.000000        1800.000000  \n",
       "25%             4.000000               2.000000        4178.000000  \n",
       "50%             8.000000               3.000000        4731.000000  \n",
       "75%             8.000000               4.000000        5398.000000  \n",
       "max            38.000000              32.000000       11920.000000  "
      ]
     },
     "execution_count": 11,
     "metadata": {},
     "output_type": "execute_result"
    }
   ],
   "source": [
    "test.describe()"
   ]
  },
  {
   "cell_type": "code",
   "execution_count": 12,
   "metadata": {
    "ExecuteTime": {
     "end_time": "2020-09-04T16:47:47.190081Z",
     "start_time": "2020-09-04T16:47:47.064375Z"
    },
    "scrolled": true
   },
   "outputs": [
    {
     "data": {
      "text/plain": [
       "case_id                                 0\n",
       "Hospital_code                           0\n",
       "Hospital_type_code                      0\n",
       "City_Code_Hospital                      0\n",
       "Hospital_region_code                    0\n",
       "Available Extra Rooms in Hospital       0\n",
       "Department                              0\n",
       "Ward_Type                               0\n",
       "Ward_Facility_Code                      0\n",
       "Bed Grade                              35\n",
       "patientid                               0\n",
       "City_Code_Patient                    2157\n",
       "Type of Admission                       0\n",
       "Severity of Illness                     0\n",
       "Visitors with Patient                   0\n",
       "Age                                     0\n",
       "Admission_Deposit                       0\n",
       "dtype: int64"
      ]
     },
     "execution_count": 12,
     "metadata": {},
     "output_type": "execute_result"
    }
   ],
   "source": [
    "test.isnull().sum()"
   ]
  },
  {
   "cell_type": "code",
   "execution_count": 13,
   "metadata": {
    "ExecuteTime": {
     "end_time": "2020-09-04T16:47:47.221955Z",
     "start_time": "2020-09-04T16:47:47.194031Z"
    }
   },
   "outputs": [
    {
     "data": {
      "text/html": [
       "<div>\n",
       "<style scoped>\n",
       "    .dataframe tbody tr th:only-of-type {\n",
       "        vertical-align: middle;\n",
       "    }\n",
       "\n",
       "    .dataframe tbody tr th {\n",
       "        vertical-align: top;\n",
       "    }\n",
       "\n",
       "    .dataframe thead th {\n",
       "        text-align: right;\n",
       "    }\n",
       "</style>\n",
       "<table border=\"1\" class=\"dataframe\">\n",
       "  <thead>\n",
       "    <tr style=\"text-align: right;\">\n",
       "      <th></th>\n",
       "      <th>case_id</th>\n",
       "      <th>Hospital_code</th>\n",
       "      <th>Hospital_type_code</th>\n",
       "      <th>City_Code_Hospital</th>\n",
       "      <th>Hospital_region_code</th>\n",
       "      <th>Available Extra Rooms in Hospital</th>\n",
       "      <th>Department</th>\n",
       "      <th>Ward_Type</th>\n",
       "      <th>Ward_Facility_Code</th>\n",
       "      <th>Bed Grade</th>\n",
       "      <th>patientid</th>\n",
       "      <th>City_Code_Patient</th>\n",
       "      <th>Type of Admission</th>\n",
       "      <th>Severity of Illness</th>\n",
       "      <th>Visitors with Patient</th>\n",
       "      <th>Age</th>\n",
       "      <th>Admission_Deposit</th>\n",
       "      <th>Stay</th>\n",
       "    </tr>\n",
       "  </thead>\n",
       "  <tbody>\n",
       "    <tr>\n",
       "      <th>0</th>\n",
       "      <td>1</td>\n",
       "      <td>8</td>\n",
       "      <td>c</td>\n",
       "      <td>3</td>\n",
       "      <td>Z</td>\n",
       "      <td>3</td>\n",
       "      <td>radiotherapy</td>\n",
       "      <td>R</td>\n",
       "      <td>F</td>\n",
       "      <td>2.0</td>\n",
       "      <td>31397</td>\n",
       "      <td>7.0</td>\n",
       "      <td>Emergency</td>\n",
       "      <td>Extreme</td>\n",
       "      <td>2</td>\n",
       "      <td>51-60</td>\n",
       "      <td>4911.0</td>\n",
       "      <td>0-10</td>\n",
       "    </tr>\n",
       "  </tbody>\n",
       "</table>\n",
       "</div>"
      ],
      "text/plain": [
       "   case_id  Hospital_code Hospital_type_code  City_Code_Hospital  \\\n",
       "0        1              8                  c                   3   \n",
       "\n",
       "  Hospital_region_code  Available Extra Rooms in Hospital    Department  \\\n",
       "0                    Z                                  3  radiotherapy   \n",
       "\n",
       "  Ward_Type Ward_Facility_Code  Bed Grade  patientid  City_Code_Patient  \\\n",
       "0         R                  F        2.0      31397                7.0   \n",
       "\n",
       "  Type of Admission Severity of Illness  Visitors with Patient    Age  \\\n",
       "0         Emergency             Extreme                      2  51-60   \n",
       "\n",
       "   Admission_Deposit  Stay  \n",
       "0             4911.0  0-10  "
      ]
     },
     "execution_count": 13,
     "metadata": {},
     "output_type": "execute_result"
    }
   ],
   "source": [
    "train.head(1)"
   ]
  },
  {
   "cell_type": "code",
   "execution_count": 14,
   "metadata": {
    "ExecuteTime": {
     "end_time": "2020-09-04T16:47:48.511704Z",
     "start_time": "2020-09-04T16:47:47.225942Z"
    },
    "scrolled": true
   },
   "outputs": [
    {
     "data": {
      "text/plain": [
       "(case_id                              318438\n",
       " Hospital_code                            32\n",
       " Hospital_type_code                        7\n",
       " City_Code_Hospital                       11\n",
       " Hospital_region_code                      3\n",
       " Available Extra Rooms in Hospital        18\n",
       " Department                                5\n",
       " Ward_Type                                 6\n",
       " Ward_Facility_Code                        6\n",
       " Bed Grade                                 4\n",
       " patientid                             92017\n",
       " City_Code_Patient                        37\n",
       " Type of Admission                         3\n",
       " Severity of Illness                       3\n",
       " Visitors with Patient                    28\n",
       " Age                                      10\n",
       " Admission_Deposit                      7300\n",
       " Stay                                     11\n",
       " dtype: int64, case_id                              137057\n",
       " Hospital_code                            32\n",
       " Hospital_type_code                        7\n",
       " City_Code_Hospital                       11\n",
       " Hospital_region_code                      3\n",
       " Available Extra Rooms in Hospital        15\n",
       " Department                                5\n",
       " Ward_Type                                 6\n",
       " Ward_Facility_Code                        6\n",
       " Bed Grade                                 4\n",
       " patientid                             39607\n",
       " City_Code_Patient                        37\n",
       " Type of Admission                         3\n",
       " Severity of Illness                       3\n",
       " Visitors with Patient                    27\n",
       " Age                                      10\n",
       " Admission_Deposit                      6609\n",
       " dtype: int64)"
      ]
     },
     "execution_count": 14,
     "metadata": {},
     "output_type": "execute_result"
    }
   ],
   "source": [
    "train.nunique(), test.nunique()"
   ]
  },
  {
   "cell_type": "code",
   "execution_count": 15,
   "metadata": {
    "ExecuteTime": {
     "end_time": "2020-09-04T16:47:48.607397Z",
     "start_time": "2020-09-04T16:47:48.514496Z"
    }
   },
   "outputs": [
    {
     "data": {
      "text/plain": [
       "21-30                 87491\n",
       "11-20                 78139\n",
       "31-40                 55159\n",
       "51-60                 35018\n",
       "0-10                  23604\n",
       "41-50                 11743\n",
       "71-80                 10254\n",
       "More than 100 Days     6683\n",
       "81-90                  4838\n",
       "91-100                 2765\n",
       "61-70                  2744\n",
       "Name: Stay, dtype: int64"
      ]
     },
     "execution_count": 15,
     "metadata": {},
     "output_type": "execute_result"
    }
   ],
   "source": [
    "train['Stay'].value_counts()"
   ]
  },
  {
   "cell_type": "code",
   "execution_count": 16,
   "metadata": {
    "ExecuteTime": {
     "end_time": "2020-09-04T16:47:48.623204Z",
     "start_time": "2020-09-04T16:47:48.611281Z"
    },
    "scrolled": false
   },
   "outputs": [
    {
     "data": {
      "text/plain": [
       "case_id                                int64\n",
       "Hospital_code                          int64\n",
       "Hospital_type_code                    object\n",
       "City_Code_Hospital                     int64\n",
       "Hospital_region_code                  object\n",
       "Available Extra Rooms in Hospital      int64\n",
       "Department                            object\n",
       "Ward_Type                             object\n",
       "Ward_Facility_Code                    object\n",
       "Bed Grade                            float64\n",
       "patientid                              int64\n",
       "City_Code_Patient                    float64\n",
       "Type of Admission                     object\n",
       "Severity of Illness                   object\n",
       "Visitors with Patient                  int64\n",
       "Age                                   object\n",
       "Admission_Deposit                    float64\n",
       "Stay                                  object\n",
       "dtype: object"
      ]
     },
     "execution_count": 16,
     "metadata": {},
     "output_type": "execute_result"
    }
   ],
   "source": [
    "train.dtypes"
   ]
  },
  {
   "cell_type": "code",
   "execution_count": 17,
   "metadata": {
    "ExecuteTime": {
     "end_time": "2020-09-04T16:47:49.309404Z",
     "start_time": "2020-09-04T16:47:48.626235Z"
    }
   },
   "outputs": [
    {
     "data": {
      "text/html": [
       "<div>\n",
       "<style scoped>\n",
       "    .dataframe tbody tr th:only-of-type {\n",
       "        vertical-align: middle;\n",
       "    }\n",
       "\n",
       "    .dataframe tbody tr th {\n",
       "        vertical-align: top;\n",
       "    }\n",
       "\n",
       "    .dataframe thead th {\n",
       "        text-align: right;\n",
       "    }\n",
       "</style>\n",
       "<table border=\"1\" class=\"dataframe\">\n",
       "  <thead>\n",
       "    <tr style=\"text-align: right;\">\n",
       "      <th></th>\n",
       "      <th>Hospital_type_code</th>\n",
       "      <th>Department</th>\n",
       "      <th>City_Code_Hospital</th>\n",
       "      <th>City_Code_Patient</th>\n",
       "      <th>Bed Grade</th>\n",
       "      <th>Hospital_region_code</th>\n",
       "      <th>Department</th>\n",
       "      <th>Ward_Type</th>\n",
       "      <th>Ward_Facility_Code</th>\n",
       "      <th>Type of Admission</th>\n",
       "      <th>Severity of Illness</th>\n",
       "      <th>Stay</th>\n",
       "    </tr>\n",
       "  </thead>\n",
       "  <tbody>\n",
       "    <tr>\n",
       "      <th>Hospital_type_code</th>\n",
       "      <td>1.000000</td>\n",
       "      <td>-0.001805</td>\n",
       "      <td>0.479578</td>\n",
       "      <td>-0.064169</td>\n",
       "      <td>-0.010891</td>\n",
       "      <td>0.435558</td>\n",
       "      <td>-0.001805</td>\n",
       "      <td>-0.025166</td>\n",
       "      <td>-0.040607</td>\n",
       "      <td>-0.029767</td>\n",
       "      <td>-0.008282</td>\n",
       "      <td>0.004694</td>\n",
       "    </tr>\n",
       "    <tr>\n",
       "      <th>Department</th>\n",
       "      <td>-0.001805</td>\n",
       "      <td>1.000000</td>\n",
       "      <td>0.004026</td>\n",
       "      <td>0.016952</td>\n",
       "      <td>-0.019598</td>\n",
       "      <td>-0.011532</td>\n",
       "      <td>1.000000</td>\n",
       "      <td>0.014446</td>\n",
       "      <td>0.005305</td>\n",
       "      <td>-0.019206</td>\n",
       "      <td>0.018254</td>\n",
       "      <td>-0.009377</td>\n",
       "    </tr>\n",
       "    <tr>\n",
       "      <th>City_Code_Hospital</th>\n",
       "      <td>0.479578</td>\n",
       "      <td>0.004026</td>\n",
       "      <td>1.000000</td>\n",
       "      <td>-0.125737</td>\n",
       "      <td>-0.008912</td>\n",
       "      <td>0.620308</td>\n",
       "      <td>0.004026</td>\n",
       "      <td>-0.075898</td>\n",
       "      <td>0.300080</td>\n",
       "      <td>-0.128575</td>\n",
       "      <td>-0.042019</td>\n",
       "      <td>-0.026662</td>\n",
       "    </tr>\n",
       "    <tr>\n",
       "      <th>City_Code_Patient</th>\n",
       "      <td>-0.064169</td>\n",
       "      <td>0.016952</td>\n",
       "      <td>-0.125737</td>\n",
       "      <td>1.000000</td>\n",
       "      <td>-0.005641</td>\n",
       "      <td>-0.145225</td>\n",
       "      <td>0.016952</td>\n",
       "      <td>-0.026113</td>\n",
       "      <td>-0.131385</td>\n",
       "      <td>0.034007</td>\n",
       "      <td>0.057551</td>\n",
       "      <td>-0.037868</td>\n",
       "    </tr>\n",
       "    <tr>\n",
       "      <th>Bed Grade</th>\n",
       "      <td>-0.010891</td>\n",
       "      <td>-0.019598</td>\n",
       "      <td>-0.008912</td>\n",
       "      <td>-0.005641</td>\n",
       "      <td>1.000000</td>\n",
       "      <td>-0.007484</td>\n",
       "      <td>-0.019598</td>\n",
       "      <td>0.014827</td>\n",
       "      <td>-0.010434</td>\n",
       "      <td>-0.000263</td>\n",
       "      <td>-0.029128</td>\n",
       "      <td>-0.009018</td>\n",
       "    </tr>\n",
       "    <tr>\n",
       "      <th>Hospital_region_code</th>\n",
       "      <td>0.435558</td>\n",
       "      <td>-0.011532</td>\n",
       "      <td>0.620308</td>\n",
       "      <td>-0.145225</td>\n",
       "      <td>-0.007484</td>\n",
       "      <td>1.000000</td>\n",
       "      <td>-0.011532</td>\n",
       "      <td>0.114743</td>\n",
       "      <td>0.420479</td>\n",
       "      <td>-0.095031</td>\n",
       "      <td>-0.036283</td>\n",
       "      <td>-0.013378</td>\n",
       "    </tr>\n",
       "    <tr>\n",
       "      <th>Department</th>\n",
       "      <td>-0.001805</td>\n",
       "      <td>1.000000</td>\n",
       "      <td>0.004026</td>\n",
       "      <td>0.016952</td>\n",
       "      <td>-0.019598</td>\n",
       "      <td>-0.011532</td>\n",
       "      <td>1.000000</td>\n",
       "      <td>0.014446</td>\n",
       "      <td>0.005305</td>\n",
       "      <td>-0.019206</td>\n",
       "      <td>0.018254</td>\n",
       "      <td>-0.009377</td>\n",
       "    </tr>\n",
       "    <tr>\n",
       "      <th>Ward_Type</th>\n",
       "      <td>-0.025166</td>\n",
       "      <td>0.014446</td>\n",
       "      <td>-0.075898</td>\n",
       "      <td>-0.026113</td>\n",
       "      <td>0.014827</td>\n",
       "      <td>0.114743</td>\n",
       "      <td>0.014446</td>\n",
       "      <td>1.000000</td>\n",
       "      <td>0.095702</td>\n",
       "      <td>-0.057150</td>\n",
       "      <td>-0.024372</td>\n",
       "      <td>-0.026767</td>\n",
       "    </tr>\n",
       "    <tr>\n",
       "      <th>Ward_Facility_Code</th>\n",
       "      <td>-0.040607</td>\n",
       "      <td>0.005305</td>\n",
       "      <td>0.300080</td>\n",
       "      <td>-0.131385</td>\n",
       "      <td>-0.010434</td>\n",
       "      <td>0.420479</td>\n",
       "      <td>0.005305</td>\n",
       "      <td>0.095702</td>\n",
       "      <td>1.000000</td>\n",
       "      <td>-0.142180</td>\n",
       "      <td>-0.054283</td>\n",
       "      <td>-0.043592</td>\n",
       "    </tr>\n",
       "    <tr>\n",
       "      <th>Type of Admission</th>\n",
       "      <td>-0.029767</td>\n",
       "      <td>-0.019206</td>\n",
       "      <td>-0.128575</td>\n",
       "      <td>0.034007</td>\n",
       "      <td>-0.000263</td>\n",
       "      <td>-0.095031</td>\n",
       "      <td>-0.019206</td>\n",
       "      <td>-0.057150</td>\n",
       "      <td>-0.142180</td>\n",
       "      <td>1.000000</td>\n",
       "      <td>-0.024107</td>\n",
       "      <td>0.055059</td>\n",
       "    </tr>\n",
       "    <tr>\n",
       "      <th>Severity of Illness</th>\n",
       "      <td>-0.008282</td>\n",
       "      <td>0.018254</td>\n",
       "      <td>-0.042019</td>\n",
       "      <td>0.057551</td>\n",
       "      <td>-0.029128</td>\n",
       "      <td>-0.036283</td>\n",
       "      <td>0.018254</td>\n",
       "      <td>-0.024372</td>\n",
       "      <td>-0.054283</td>\n",
       "      <td>-0.024107</td>\n",
       "      <td>1.000000</td>\n",
       "      <td>-0.084391</td>\n",
       "    </tr>\n",
       "    <tr>\n",
       "      <th>Stay</th>\n",
       "      <td>0.004694</td>\n",
       "      <td>-0.009377</td>\n",
       "      <td>-0.026662</td>\n",
       "      <td>-0.037868</td>\n",
       "      <td>-0.009018</td>\n",
       "      <td>-0.013378</td>\n",
       "      <td>-0.009377</td>\n",
       "      <td>-0.026767</td>\n",
       "      <td>-0.043592</td>\n",
       "      <td>0.055059</td>\n",
       "      <td>-0.084391</td>\n",
       "      <td>1.000000</td>\n",
       "    </tr>\n",
       "  </tbody>\n",
       "</table>\n",
       "</div>"
      ],
      "text/plain": [
       "                      Hospital_type_code  Department  City_Code_Hospital  \\\n",
       "Hospital_type_code              1.000000   -0.001805            0.479578   \n",
       "Department                     -0.001805    1.000000            0.004026   \n",
       "City_Code_Hospital              0.479578    0.004026            1.000000   \n",
       "City_Code_Patient              -0.064169    0.016952           -0.125737   \n",
       "Bed Grade                      -0.010891   -0.019598           -0.008912   \n",
       "Hospital_region_code            0.435558   -0.011532            0.620308   \n",
       "Department                     -0.001805    1.000000            0.004026   \n",
       "Ward_Type                      -0.025166    0.014446           -0.075898   \n",
       "Ward_Facility_Code             -0.040607    0.005305            0.300080   \n",
       "Type of Admission              -0.029767   -0.019206           -0.128575   \n",
       "Severity of Illness            -0.008282    0.018254           -0.042019   \n",
       "Stay                            0.004694   -0.009377           -0.026662   \n",
       "\n",
       "                      City_Code_Patient  Bed Grade  Hospital_region_code  \\\n",
       "Hospital_type_code            -0.064169  -0.010891              0.435558   \n",
       "Department                     0.016952  -0.019598             -0.011532   \n",
       "City_Code_Hospital            -0.125737  -0.008912              0.620308   \n",
       "City_Code_Patient              1.000000  -0.005641             -0.145225   \n",
       "Bed Grade                     -0.005641   1.000000             -0.007484   \n",
       "Hospital_region_code          -0.145225  -0.007484              1.000000   \n",
       "Department                     0.016952  -0.019598             -0.011532   \n",
       "Ward_Type                     -0.026113   0.014827              0.114743   \n",
       "Ward_Facility_Code            -0.131385  -0.010434              0.420479   \n",
       "Type of Admission              0.034007  -0.000263             -0.095031   \n",
       "Severity of Illness            0.057551  -0.029128             -0.036283   \n",
       "Stay                          -0.037868  -0.009018             -0.013378   \n",
       "\n",
       "                      Department  Ward_Type  Ward_Facility_Code  \\\n",
       "Hospital_type_code     -0.001805  -0.025166           -0.040607   \n",
       "Department              1.000000   0.014446            0.005305   \n",
       "City_Code_Hospital      0.004026  -0.075898            0.300080   \n",
       "City_Code_Patient       0.016952  -0.026113           -0.131385   \n",
       "Bed Grade              -0.019598   0.014827           -0.010434   \n",
       "Hospital_region_code   -0.011532   0.114743            0.420479   \n",
       "Department              1.000000   0.014446            0.005305   \n",
       "Ward_Type               0.014446   1.000000            0.095702   \n",
       "Ward_Facility_Code      0.005305   0.095702            1.000000   \n",
       "Type of Admission      -0.019206  -0.057150           -0.142180   \n",
       "Severity of Illness     0.018254  -0.024372           -0.054283   \n",
       "Stay                   -0.009377  -0.026767           -0.043592   \n",
       "\n",
       "                      Type of Admission  Severity of Illness      Stay  \n",
       "Hospital_type_code            -0.029767            -0.008282  0.004694  \n",
       "Department                    -0.019206             0.018254 -0.009377  \n",
       "City_Code_Hospital            -0.128575            -0.042019 -0.026662  \n",
       "City_Code_Patient              0.034007             0.057551 -0.037868  \n",
       "Bed Grade                     -0.000263            -0.029128 -0.009018  \n",
       "Hospital_region_code          -0.095031            -0.036283 -0.013378  \n",
       "Department                    -0.019206             0.018254 -0.009377  \n",
       "Ward_Type                     -0.057150            -0.024372 -0.026767  \n",
       "Ward_Facility_Code            -0.142180            -0.054283 -0.043592  \n",
       "Type of Admission              1.000000            -0.024107  0.055059  \n",
       "Severity of Illness           -0.024107             1.000000 -0.084391  \n",
       "Stay                           0.055059            -0.084391  1.000000  "
      ]
     },
     "execution_count": 17,
     "metadata": {},
     "output_type": "execute_result"
    }
   ],
   "source": [
    "train[['Hospital_type_code', 'Department','City_Code_Hospital','City_Code_Patient','Bed Grade','Hospital_region_code', 'Department', 'Ward_Type', 'Ward_Facility_Code', 'Type of Admission', \\\n",
    "      'Severity of Illness', 'Stay']].apply(lambda x : pd.factorize(x)[0]).corr(method='pearson', min_periods=1)        "
   ]
  },
  {
   "cell_type": "code",
   "execution_count": 18,
   "metadata": {
    "ExecuteTime": {
     "end_time": "2020-09-04T16:47:49.419127Z",
     "start_time": "2020-09-04T16:47:49.312396Z"
    }
   },
   "outputs": [
    {
     "data": {
      "text/html": [
       "<div>\n",
       "<style scoped>\n",
       "    .dataframe tbody tr th:only-of-type {\n",
       "        vertical-align: middle;\n",
       "    }\n",
       "\n",
       "    .dataframe tbody tr th {\n",
       "        vertical-align: top;\n",
       "    }\n",
       "\n",
       "    .dataframe thead th {\n",
       "        text-align: right;\n",
       "    }\n",
       "</style>\n",
       "<table border=\"1\" class=\"dataframe\">\n",
       "  <thead>\n",
       "    <tr style=\"text-align: right;\">\n",
       "      <th></th>\n",
       "      <th>case_id</th>\n",
       "      <th>Hospital_code</th>\n",
       "      <th>Available Extra Rooms in Hospital</th>\n",
       "      <th>patientid</th>\n",
       "      <th>Visitors with Patient</th>\n",
       "      <th>Admission_Deposit</th>\n",
       "    </tr>\n",
       "  </thead>\n",
       "  <tbody>\n",
       "    <tr>\n",
       "      <th>case_id</th>\n",
       "      <td>1.000000</td>\n",
       "      <td>-0.043023</td>\n",
       "      <td>0.042580</td>\n",
       "      <td>-0.004150</td>\n",
       "      <td>0.001309</td>\n",
       "      <td>-0.045972</td>\n",
       "    </tr>\n",
       "    <tr>\n",
       "      <th>Hospital_code</th>\n",
       "      <td>-0.043023</td>\n",
       "      <td>1.000000</td>\n",
       "      <td>-0.059638</td>\n",
       "      <td>0.002291</td>\n",
       "      <td>-0.028500</td>\n",
       "      <td>0.045446</td>\n",
       "    </tr>\n",
       "    <tr>\n",
       "      <th>Available Extra Rooms in Hospital</th>\n",
       "      <td>0.042580</td>\n",
       "      <td>-0.059638</td>\n",
       "      <td>1.000000</td>\n",
       "      <td>0.000921</td>\n",
       "      <td>0.096714</td>\n",
       "      <td>-0.143739</td>\n",
       "    </tr>\n",
       "    <tr>\n",
       "      <th>patientid</th>\n",
       "      <td>-0.004150</td>\n",
       "      <td>0.002291</td>\n",
       "      <td>0.000921</td>\n",
       "      <td>1.000000</td>\n",
       "      <td>0.006889</td>\n",
       "      <td>-0.000877</td>\n",
       "    </tr>\n",
       "    <tr>\n",
       "      <th>Visitors with Patient</th>\n",
       "      <td>0.001309</td>\n",
       "      <td>-0.028500</td>\n",
       "      <td>0.096714</td>\n",
       "      <td>0.006889</td>\n",
       "      <td>1.000000</td>\n",
       "      <td>-0.150358</td>\n",
       "    </tr>\n",
       "    <tr>\n",
       "      <th>Admission_Deposit</th>\n",
       "      <td>-0.045972</td>\n",
       "      <td>0.045446</td>\n",
       "      <td>-0.143739</td>\n",
       "      <td>-0.000877</td>\n",
       "      <td>-0.150358</td>\n",
       "      <td>1.000000</td>\n",
       "    </tr>\n",
       "  </tbody>\n",
       "</table>\n",
       "</div>"
      ],
      "text/plain": [
       "                                    case_id  Hospital_code  \\\n",
       "case_id                            1.000000      -0.043023   \n",
       "Hospital_code                     -0.043023       1.000000   \n",
       "Available Extra Rooms in Hospital  0.042580      -0.059638   \n",
       "patientid                         -0.004150       0.002291   \n",
       "Visitors with Patient              0.001309      -0.028500   \n",
       "Admission_Deposit                 -0.045972       0.045446   \n",
       "\n",
       "                                   Available Extra Rooms in Hospital  \\\n",
       "case_id                                                     0.042580   \n",
       "Hospital_code                                              -0.059638   \n",
       "Available Extra Rooms in Hospital                           1.000000   \n",
       "patientid                                                   0.000921   \n",
       "Visitors with Patient                                       0.096714   \n",
       "Admission_Deposit                                          -0.143739   \n",
       "\n",
       "                                   patientid  Visitors with Patient  \\\n",
       "case_id                            -0.004150               0.001309   \n",
       "Hospital_code                       0.002291              -0.028500   \n",
       "Available Extra Rooms in Hospital   0.000921               0.096714   \n",
       "patientid                           1.000000               0.006889   \n",
       "Visitors with Patient               0.006889               1.000000   \n",
       "Admission_Deposit                  -0.000877              -0.150358   \n",
       "\n",
       "                                   Admission_Deposit  \n",
       "case_id                                    -0.045972  \n",
       "Hospital_code                               0.045446  \n",
       "Available Extra Rooms in Hospital          -0.143739  \n",
       "patientid                                  -0.000877  \n",
       "Visitors with Patient                      -0.150358  \n",
       "Admission_Deposit                           1.000000  "
      ]
     },
     "execution_count": 18,
     "metadata": {},
     "output_type": "execute_result"
    }
   ],
   "source": [
    "train.drop(['Hospital_type_code', 'Department','City_Code_Hospital','City_Code_Patient','Bed Grade','Hospital_region_code', 'Department', 'Ward_Type', 'Ward_Facility_Code', 'Type of Admission', \\\n",
    "      'Severity of Illness', 'Stay'], axis=1).corr()"
   ]
  },
  {
   "cell_type": "code",
   "execution_count": 19,
   "metadata": {
    "ExecuteTime": {
     "end_time": "2020-09-04T16:47:49.451041Z",
     "start_time": "2020-09-04T16:47:49.422069Z"
    },
    "scrolled": true
   },
   "outputs": [
    {
     "data": {
      "text/html": [
       "<div>\n",
       "<style scoped>\n",
       "    .dataframe tbody tr th:only-of-type {\n",
       "        vertical-align: middle;\n",
       "    }\n",
       "\n",
       "    .dataframe tbody tr th {\n",
       "        vertical-align: top;\n",
       "    }\n",
       "\n",
       "    .dataframe thead th {\n",
       "        text-align: right;\n",
       "    }\n",
       "</style>\n",
       "<table border=\"1\" class=\"dataframe\">\n",
       "  <thead>\n",
       "    <tr style=\"text-align: right;\">\n",
       "      <th></th>\n",
       "      <th>case_id</th>\n",
       "      <th>Hospital_code</th>\n",
       "      <th>Hospital_type_code</th>\n",
       "      <th>City_Code_Hospital</th>\n",
       "      <th>Hospital_region_code</th>\n",
       "      <th>Available Extra Rooms in Hospital</th>\n",
       "      <th>Department</th>\n",
       "      <th>Ward_Type</th>\n",
       "      <th>Ward_Facility_Code</th>\n",
       "      <th>Bed Grade</th>\n",
       "      <th>patientid</th>\n",
       "      <th>City_Code_Patient</th>\n",
       "      <th>Type of Admission</th>\n",
       "      <th>Severity of Illness</th>\n",
       "      <th>Visitors with Patient</th>\n",
       "      <th>Age</th>\n",
       "      <th>Admission_Deposit</th>\n",
       "      <th>Stay</th>\n",
       "    </tr>\n",
       "  </thead>\n",
       "  <tbody>\n",
       "  </tbody>\n",
       "</table>\n",
       "</div>"
      ],
      "text/plain": [
       "Empty DataFrame\n",
       "Columns: [case_id, Hospital_code, Hospital_type_code, City_Code_Hospital, Hospital_region_code, Available Extra Rooms in Hospital, Department, Ward_Type, Ward_Facility_Code, Bed Grade, patientid, City_Code_Patient, Type of Admission, Severity of Illness, Visitors with Patient, Age, Admission_Deposit, Stay]\n",
       "Index: []"
      ]
     },
     "execution_count": 19,
     "metadata": {},
     "output_type": "execute_result"
    }
   ],
   "source": [
    "train[train['patientid'].isin(test['patientid'])]"
   ]
  },
  {
   "cell_type": "code",
   "execution_count": 20,
   "metadata": {
    "ExecuteTime": {
     "end_time": "2020-09-04T16:47:50.784468Z",
     "start_time": "2020-09-04T16:47:49.454019Z"
    },
    "scrolled": true
   },
   "outputs": [
    {
     "data": {
      "text/plain": [
       "(case_id                              318438\n",
       " Hospital_code                            32\n",
       " Hospital_type_code                        7\n",
       " City_Code_Hospital                       11\n",
       " Hospital_region_code                      3\n",
       " Available Extra Rooms in Hospital        18\n",
       " Department                                5\n",
       " Ward_Type                                 6\n",
       " Ward_Facility_Code                        6\n",
       " Bed Grade                                 4\n",
       " patientid                             92017\n",
       " City_Code_Patient                        37\n",
       " Type of Admission                         3\n",
       " Severity of Illness                       3\n",
       " Visitors with Patient                    28\n",
       " Age                                      10\n",
       " Admission_Deposit                      7300\n",
       " Stay                                     11\n",
       " dtype: int64, case_id                              137057\n",
       " Hospital_code                            32\n",
       " Hospital_type_code                        7\n",
       " City_Code_Hospital                       11\n",
       " Hospital_region_code                      3\n",
       " Available Extra Rooms in Hospital        15\n",
       " Department                                5\n",
       " Ward_Type                                 6\n",
       " Ward_Facility_Code                        6\n",
       " Bed Grade                                 4\n",
       " patientid                             39607\n",
       " City_Code_Patient                        37\n",
       " Type of Admission                         3\n",
       " Severity of Illness                       3\n",
       " Visitors with Patient                    27\n",
       " Age                                      10\n",
       " Admission_Deposit                      6609\n",
       " dtype: int64)"
      ]
     },
     "execution_count": 20,
     "metadata": {},
     "output_type": "execute_result"
    }
   ],
   "source": [
    "train.nunique(), test.nunique()"
   ]
  },
  {
   "cell_type": "code",
   "execution_count": 21,
   "metadata": {
    "ExecuteTime": {
     "end_time": "2020-09-04T16:47:50.816340Z",
     "start_time": "2020-09-04T16:47:50.787451Z"
    }
   },
   "outputs": [
    {
     "data": {
      "text/html": [
       "<div>\n",
       "<style scoped>\n",
       "    .dataframe tbody tr th:only-of-type {\n",
       "        vertical-align: middle;\n",
       "    }\n",
       "\n",
       "    .dataframe tbody tr th {\n",
       "        vertical-align: top;\n",
       "    }\n",
       "\n",
       "    .dataframe thead th {\n",
       "        text-align: right;\n",
       "    }\n",
       "</style>\n",
       "<table border=\"1\" class=\"dataframe\">\n",
       "  <thead>\n",
       "    <tr style=\"text-align: right;\">\n",
       "      <th></th>\n",
       "      <th>case_id</th>\n",
       "      <th>Hospital_code</th>\n",
       "      <th>Hospital_type_code</th>\n",
       "      <th>City_Code_Hospital</th>\n",
       "      <th>Hospital_region_code</th>\n",
       "      <th>Available Extra Rooms in Hospital</th>\n",
       "      <th>Department</th>\n",
       "      <th>Ward_Type</th>\n",
       "      <th>Ward_Facility_Code</th>\n",
       "      <th>Bed Grade</th>\n",
       "      <th>patientid</th>\n",
       "      <th>City_Code_Patient</th>\n",
       "      <th>Type of Admission</th>\n",
       "      <th>Severity of Illness</th>\n",
       "      <th>Visitors with Patient</th>\n",
       "      <th>Age</th>\n",
       "      <th>Admission_Deposit</th>\n",
       "      <th>Stay</th>\n",
       "    </tr>\n",
       "  </thead>\n",
       "  <tbody>\n",
       "    <tr>\n",
       "      <th>0</th>\n",
       "      <td>1</td>\n",
       "      <td>8</td>\n",
       "      <td>c</td>\n",
       "      <td>3</td>\n",
       "      <td>Z</td>\n",
       "      <td>3</td>\n",
       "      <td>radiotherapy</td>\n",
       "      <td>R</td>\n",
       "      <td>F</td>\n",
       "      <td>2.0</td>\n",
       "      <td>31397</td>\n",
       "      <td>7.0</td>\n",
       "      <td>Emergency</td>\n",
       "      <td>Extreme</td>\n",
       "      <td>2</td>\n",
       "      <td>51-60</td>\n",
       "      <td>4911.0</td>\n",
       "      <td>0-10</td>\n",
       "    </tr>\n",
       "    <tr>\n",
       "      <th>1</th>\n",
       "      <td>2</td>\n",
       "      <td>2</td>\n",
       "      <td>c</td>\n",
       "      <td>5</td>\n",
       "      <td>Z</td>\n",
       "      <td>2</td>\n",
       "      <td>radiotherapy</td>\n",
       "      <td>S</td>\n",
       "      <td>F</td>\n",
       "      <td>2.0</td>\n",
       "      <td>31397</td>\n",
       "      <td>7.0</td>\n",
       "      <td>Trauma</td>\n",
       "      <td>Extreme</td>\n",
       "      <td>2</td>\n",
       "      <td>51-60</td>\n",
       "      <td>5954.0</td>\n",
       "      <td>41-50</td>\n",
       "    </tr>\n",
       "    <tr>\n",
       "      <th>2</th>\n",
       "      <td>3</td>\n",
       "      <td>10</td>\n",
       "      <td>e</td>\n",
       "      <td>1</td>\n",
       "      <td>X</td>\n",
       "      <td>2</td>\n",
       "      <td>anesthesia</td>\n",
       "      <td>S</td>\n",
       "      <td>E</td>\n",
       "      <td>2.0</td>\n",
       "      <td>31397</td>\n",
       "      <td>7.0</td>\n",
       "      <td>Trauma</td>\n",
       "      <td>Extreme</td>\n",
       "      <td>2</td>\n",
       "      <td>51-60</td>\n",
       "      <td>4745.0</td>\n",
       "      <td>31-40</td>\n",
       "    </tr>\n",
       "    <tr>\n",
       "      <th>3</th>\n",
       "      <td>4</td>\n",
       "      <td>26</td>\n",
       "      <td>b</td>\n",
       "      <td>2</td>\n",
       "      <td>Y</td>\n",
       "      <td>2</td>\n",
       "      <td>radiotherapy</td>\n",
       "      <td>R</td>\n",
       "      <td>D</td>\n",
       "      <td>2.0</td>\n",
       "      <td>31397</td>\n",
       "      <td>7.0</td>\n",
       "      <td>Trauma</td>\n",
       "      <td>Extreme</td>\n",
       "      <td>2</td>\n",
       "      <td>51-60</td>\n",
       "      <td>7272.0</td>\n",
       "      <td>41-50</td>\n",
       "    </tr>\n",
       "    <tr>\n",
       "      <th>4</th>\n",
       "      <td>5</td>\n",
       "      <td>26</td>\n",
       "      <td>b</td>\n",
       "      <td>2</td>\n",
       "      <td>Y</td>\n",
       "      <td>2</td>\n",
       "      <td>radiotherapy</td>\n",
       "      <td>S</td>\n",
       "      <td>D</td>\n",
       "      <td>2.0</td>\n",
       "      <td>31397</td>\n",
       "      <td>7.0</td>\n",
       "      <td>Trauma</td>\n",
       "      <td>Extreme</td>\n",
       "      <td>2</td>\n",
       "      <td>51-60</td>\n",
       "      <td>5558.0</td>\n",
       "      <td>41-50</td>\n",
       "    </tr>\n",
       "  </tbody>\n",
       "</table>\n",
       "</div>"
      ],
      "text/plain": [
       "   case_id  Hospital_code Hospital_type_code  City_Code_Hospital  \\\n",
       "0        1              8                  c                   3   \n",
       "1        2              2                  c                   5   \n",
       "2        3             10                  e                   1   \n",
       "3        4             26                  b                   2   \n",
       "4        5             26                  b                   2   \n",
       "\n",
       "  Hospital_region_code  Available Extra Rooms in Hospital    Department  \\\n",
       "0                    Z                                  3  radiotherapy   \n",
       "1                    Z                                  2  radiotherapy   \n",
       "2                    X                                  2    anesthesia   \n",
       "3                    Y                                  2  radiotherapy   \n",
       "4                    Y                                  2  radiotherapy   \n",
       "\n",
       "  Ward_Type Ward_Facility_Code  Bed Grade  patientid  City_Code_Patient  \\\n",
       "0         R                  F        2.0      31397                7.0   \n",
       "1         S                  F        2.0      31397                7.0   \n",
       "2         S                  E        2.0      31397                7.0   \n",
       "3         R                  D        2.0      31397                7.0   \n",
       "4         S                  D        2.0      31397                7.0   \n",
       "\n",
       "  Type of Admission Severity of Illness  Visitors with Patient    Age  \\\n",
       "0         Emergency             Extreme                      2  51-60   \n",
       "1            Trauma             Extreme                      2  51-60   \n",
       "2            Trauma             Extreme                      2  51-60   \n",
       "3            Trauma             Extreme                      2  51-60   \n",
       "4            Trauma             Extreme                      2  51-60   \n",
       "\n",
       "   Admission_Deposit   Stay  \n",
       "0             4911.0   0-10  \n",
       "1             5954.0  41-50  \n",
       "2             4745.0  31-40  \n",
       "3             7272.0  41-50  \n",
       "4             5558.0  41-50  "
      ]
     },
     "execution_count": 21,
     "metadata": {},
     "output_type": "execute_result"
    }
   ],
   "source": [
    "train.head()"
   ]
  },
  {
   "cell_type": "code",
   "execution_count": 22,
   "metadata": {
    "ExecuteTime": {
     "end_time": "2020-09-04T16:47:50.912084Z",
     "start_time": "2020-09-04T16:47:50.820330Z"
    }
   },
   "outputs": [],
   "source": [
    "train_bp = train.copy()\n",
    "y = train['Stay']\n",
    "y_backup_fin = y.copy() \n",
    "train.drop('Stay', axis=1 ,inplace=True)"
   ]
  },
  {
   "cell_type": "code",
   "execution_count": 23,
   "metadata": {
    "ExecuteTime": {
     "end_time": "2020-09-04T16:47:51.069705Z",
     "start_time": "2020-09-04T16:47:50.916074Z"
    }
   },
   "outputs": [],
   "source": [
    "df_all = pd.concat([train, test], ignore_index=True)"
   ]
  },
  {
   "cell_type": "code",
   "execution_count": 24,
   "metadata": {
    "ExecuteTime": {
     "end_time": "2020-09-04T16:47:51.101579Z",
     "start_time": "2020-09-04T16:47:51.072689Z"
    }
   },
   "outputs": [
    {
     "data": {
      "text/html": [
       "<div>\n",
       "<style scoped>\n",
       "    .dataframe tbody tr th:only-of-type {\n",
       "        vertical-align: middle;\n",
       "    }\n",
       "\n",
       "    .dataframe tbody tr th {\n",
       "        vertical-align: top;\n",
       "    }\n",
       "\n",
       "    .dataframe thead th {\n",
       "        text-align: right;\n",
       "    }\n",
       "</style>\n",
       "<table border=\"1\" class=\"dataframe\">\n",
       "  <thead>\n",
       "    <tr style=\"text-align: right;\">\n",
       "      <th></th>\n",
       "      <th>case_id</th>\n",
       "      <th>Hospital_code</th>\n",
       "      <th>Hospital_type_code</th>\n",
       "      <th>City_Code_Hospital</th>\n",
       "      <th>Hospital_region_code</th>\n",
       "      <th>Available Extra Rooms in Hospital</th>\n",
       "      <th>Department</th>\n",
       "      <th>Ward_Type</th>\n",
       "      <th>Ward_Facility_Code</th>\n",
       "      <th>Bed Grade</th>\n",
       "      <th>patientid</th>\n",
       "      <th>City_Code_Patient</th>\n",
       "      <th>Type of Admission</th>\n",
       "      <th>Severity of Illness</th>\n",
       "      <th>Visitors with Patient</th>\n",
       "      <th>Age</th>\n",
       "      <th>Admission_Deposit</th>\n",
       "    </tr>\n",
       "  </thead>\n",
       "  <tbody>\n",
       "    <tr>\n",
       "      <th>0</th>\n",
       "      <td>1</td>\n",
       "      <td>8</td>\n",
       "      <td>c</td>\n",
       "      <td>3</td>\n",
       "      <td>Z</td>\n",
       "      <td>3</td>\n",
       "      <td>radiotherapy</td>\n",
       "      <td>R</td>\n",
       "      <td>F</td>\n",
       "      <td>2.0</td>\n",
       "      <td>31397</td>\n",
       "      <td>7.0</td>\n",
       "      <td>Emergency</td>\n",
       "      <td>Extreme</td>\n",
       "      <td>2</td>\n",
       "      <td>51-60</td>\n",
       "      <td>4911.0</td>\n",
       "    </tr>\n",
       "    <tr>\n",
       "      <th>1</th>\n",
       "      <td>2</td>\n",
       "      <td>2</td>\n",
       "      <td>c</td>\n",
       "      <td>5</td>\n",
       "      <td>Z</td>\n",
       "      <td>2</td>\n",
       "      <td>radiotherapy</td>\n",
       "      <td>S</td>\n",
       "      <td>F</td>\n",
       "      <td>2.0</td>\n",
       "      <td>31397</td>\n",
       "      <td>7.0</td>\n",
       "      <td>Trauma</td>\n",
       "      <td>Extreme</td>\n",
       "      <td>2</td>\n",
       "      <td>51-60</td>\n",
       "      <td>5954.0</td>\n",
       "    </tr>\n",
       "    <tr>\n",
       "      <th>2</th>\n",
       "      <td>3</td>\n",
       "      <td>10</td>\n",
       "      <td>e</td>\n",
       "      <td>1</td>\n",
       "      <td>X</td>\n",
       "      <td>2</td>\n",
       "      <td>anesthesia</td>\n",
       "      <td>S</td>\n",
       "      <td>E</td>\n",
       "      <td>2.0</td>\n",
       "      <td>31397</td>\n",
       "      <td>7.0</td>\n",
       "      <td>Trauma</td>\n",
       "      <td>Extreme</td>\n",
       "      <td>2</td>\n",
       "      <td>51-60</td>\n",
       "      <td>4745.0</td>\n",
       "    </tr>\n",
       "    <tr>\n",
       "      <th>3</th>\n",
       "      <td>4</td>\n",
       "      <td>26</td>\n",
       "      <td>b</td>\n",
       "      <td>2</td>\n",
       "      <td>Y</td>\n",
       "      <td>2</td>\n",
       "      <td>radiotherapy</td>\n",
       "      <td>R</td>\n",
       "      <td>D</td>\n",
       "      <td>2.0</td>\n",
       "      <td>31397</td>\n",
       "      <td>7.0</td>\n",
       "      <td>Trauma</td>\n",
       "      <td>Extreme</td>\n",
       "      <td>2</td>\n",
       "      <td>51-60</td>\n",
       "      <td>7272.0</td>\n",
       "    </tr>\n",
       "    <tr>\n",
       "      <th>4</th>\n",
       "      <td>5</td>\n",
       "      <td>26</td>\n",
       "      <td>b</td>\n",
       "      <td>2</td>\n",
       "      <td>Y</td>\n",
       "      <td>2</td>\n",
       "      <td>radiotherapy</td>\n",
       "      <td>S</td>\n",
       "      <td>D</td>\n",
       "      <td>2.0</td>\n",
       "      <td>31397</td>\n",
       "      <td>7.0</td>\n",
       "      <td>Trauma</td>\n",
       "      <td>Extreme</td>\n",
       "      <td>2</td>\n",
       "      <td>51-60</td>\n",
       "      <td>5558.0</td>\n",
       "    </tr>\n",
       "  </tbody>\n",
       "</table>\n",
       "</div>"
      ],
      "text/plain": [
       "   case_id  Hospital_code Hospital_type_code  City_Code_Hospital  \\\n",
       "0        1              8                  c                   3   \n",
       "1        2              2                  c                   5   \n",
       "2        3             10                  e                   1   \n",
       "3        4             26                  b                   2   \n",
       "4        5             26                  b                   2   \n",
       "\n",
       "  Hospital_region_code  Available Extra Rooms in Hospital    Department  \\\n",
       "0                    Z                                  3  radiotherapy   \n",
       "1                    Z                                  2  radiotherapy   \n",
       "2                    X                                  2    anesthesia   \n",
       "3                    Y                                  2  radiotherapy   \n",
       "4                    Y                                  2  radiotherapy   \n",
       "\n",
       "  Ward_Type Ward_Facility_Code  Bed Grade  patientid  City_Code_Patient  \\\n",
       "0         R                  F        2.0      31397                7.0   \n",
       "1         S                  F        2.0      31397                7.0   \n",
       "2         S                  E        2.0      31397                7.0   \n",
       "3         R                  D        2.0      31397                7.0   \n",
       "4         S                  D        2.0      31397                7.0   \n",
       "\n",
       "  Type of Admission Severity of Illness  Visitors with Patient    Age  \\\n",
       "0         Emergency             Extreme                      2  51-60   \n",
       "1            Trauma             Extreme                      2  51-60   \n",
       "2            Trauma             Extreme                      2  51-60   \n",
       "3            Trauma             Extreme                      2  51-60   \n",
       "4            Trauma             Extreme                      2  51-60   \n",
       "\n",
       "   Admission_Deposit  \n",
       "0             4911.0  \n",
       "1             5954.0  \n",
       "2             4745.0  \n",
       "3             7272.0  \n",
       "4             5558.0  "
      ]
     },
     "execution_count": 24,
     "metadata": {},
     "output_type": "execute_result"
    }
   ],
   "source": [
    "df_all.head()"
   ]
  },
  {
   "cell_type": "code",
   "execution_count": 25,
   "metadata": {
    "ExecuteTime": {
     "end_time": "2020-09-04T16:47:51.562394Z",
     "start_time": "2020-09-04T16:47:51.104572Z"
    }
   },
   "outputs": [
    {
     "data": {
      "text/plain": [
       "case_id                                 0\n",
       "Hospital_code                           0\n",
       "Hospital_type_code                      0\n",
       "City_Code_Hospital                      0\n",
       "Hospital_region_code                    0\n",
       "Available Extra Rooms in Hospital       0\n",
       "Department                              0\n",
       "Ward_Type                               0\n",
       "Ward_Facility_Code                      0\n",
       "Bed Grade                             148\n",
       "patientid                               0\n",
       "City_Code_Patient                    6689\n",
       "Type of Admission                       0\n",
       "Severity of Illness                     0\n",
       "Visitors with Patient                   0\n",
       "Age                                     0\n",
       "Admission_Deposit                       0\n",
       "dtype: int64"
      ]
     },
     "execution_count": 25,
     "metadata": {},
     "output_type": "execute_result"
    }
   ],
   "source": [
    "df_all.isnull().sum()"
   ]
  },
  {
   "cell_type": "code",
   "execution_count": 26,
   "metadata": {
    "ExecuteTime": {
     "end_time": "2020-09-04T16:47:51.594260Z",
     "start_time": "2020-09-04T16:47:51.566335Z"
    }
   },
   "outputs": [
    {
     "data": {
      "text/plain": [
       "6    143\n",
       "4      4\n",
       "7      1\n",
       "Name: City_Code_Hospital, dtype: int64"
      ]
     },
     "execution_count": 26,
     "metadata": {},
     "output_type": "execute_result"
    }
   ],
   "source": [
    "df_all[df_all['Bed Grade'].isnull()]['City_Code_Hospital'].value_counts()"
   ]
  },
  {
   "cell_type": "code",
   "execution_count": 27,
   "metadata": {
    "ExecuteTime": {
     "end_time": "2020-09-04T16:47:51.642133Z",
     "start_time": "2020-09-04T16:47:51.598249Z"
    }
   },
   "outputs": [
    {
     "data": {
      "text/plain": [
       "3.0    25710\n",
       "2.0    23671\n",
       "4.0    13310\n",
       "1.0     4607\n",
       "Name: Bed Grade, dtype: int64"
      ]
     },
     "execution_count": 27,
     "metadata": {},
     "output_type": "execute_result"
    }
   ],
   "source": [
    "df_all[df_all['City_Code_Hospital'] == 6]['Bed Grade'].value_counts()"
   ]
  },
  {
   "cell_type": "code",
   "execution_count": 28,
   "metadata": {
    "ExecuteTime": {
     "end_time": "2020-09-04T16:47:51.658092Z",
     "start_time": "2020-09-04T16:47:51.645128Z"
    }
   },
   "outputs": [],
   "source": [
    "df_all['Bed Grade'].fillna(3, inplace=True)"
   ]
  },
  {
   "cell_type": "code",
   "execution_count": 29,
   "metadata": {
    "ExecuteTime": {
     "end_time": "2020-09-04T16:47:51.690007Z",
     "start_time": "2020-09-04T16:47:51.662079Z"
    }
   },
   "outputs": [
    {
     "data": {
      "text/plain": [
       "1     1701\n",
       "6     1142\n",
       "2      959\n",
       "3      594\n",
       "5      519\n",
       "9      487\n",
       "7      453\n",
       "4      393\n",
       "11     305\n",
       "10      80\n",
       "13      56\n",
       "Name: City_Code_Hospital, dtype: int64"
      ]
     },
     "execution_count": 29,
     "metadata": {},
     "output_type": "execute_result"
    }
   ],
   "source": [
    "df_all[df_all['City_Code_Patient'].isnull()]['City_Code_Hospital'].value_counts()"
   ]
  },
  {
   "cell_type": "code",
   "execution_count": 30,
   "metadata": {
    "ExecuteTime": {
     "end_time": "2020-09-04T16:47:51.737924Z",
     "start_time": "2020-09-04T16:47:51.694993Z"
    },
    "scrolled": true
   },
   "outputs": [
    {
     "data": {
      "text/plain": [
       "8.0"
      ]
     },
     "execution_count": 30,
     "metadata": {},
     "output_type": "execute_result"
    }
   ],
   "source": [
    "df_all[df_all['City_Code_Hospital'] == 1]['City_Code_Patient'].value_counts().index[0]"
   ]
  },
  {
   "cell_type": "code",
   "execution_count": 31,
   "metadata": {
    "ExecuteTime": {
     "end_time": "2020-09-04T16:47:51.769830Z",
     "start_time": "2020-09-04T16:47:51.740901Z"
    },
    "scrolled": true
   },
   "outputs": [],
   "source": [
    "con1 = df_all['City_Code_Hospital'] == 1\n",
    "con2 = df_all['City_Code_Hospital'] == 2\n",
    "con3 = df_all['City_Code_Hospital'] == 3\n",
    "con4 = df_all['City_Code_Hospital'] == 4\n",
    "con5 = df_all['City_Code_Hospital'] == 5\n",
    "con6 = df_all['City_Code_Hospital'] == 6\n",
    "con7 = df_all['City_Code_Hospital'] == 7\n",
    "# con8 = df_all['City_Code_Hospital'] == 8\n",
    "con9 = df_all['City_Code_Hospital'] == 9\n",
    "con10 = df_all['City_Code_Hospital'] == 10\n",
    "con11 = df_all['City_Code_Hospital'] == 11\n",
    "con12 = df_all['City_Code_Hospital'] == 13"
   ]
  },
  {
   "cell_type": "code",
   "execution_count": 32,
   "metadata": {
    "ExecuteTime": {
     "end_time": "2020-09-04T16:47:52.135855Z",
     "start_time": "2020-09-04T16:47:51.772784Z"
    }
   },
   "outputs": [],
   "source": [
    "for i in [con1, con2, con3, con4, con5, con6, con7, con9, con10, con11, con12]:\n",
    "    df_all.loc[i,'City_Code_Patient'] = df_all.loc[i,'City_Code_Patient'].fillna(df_all.loc[i,'City_Code_Patient'].\\\n",
    "                                                                                 mode()[0])"
   ]
  },
  {
   "cell_type": "code",
   "execution_count": 33,
   "metadata": {
    "ExecuteTime": {
     "end_time": "2020-09-04T16:47:52.498842Z",
     "start_time": "2020-09-04T16:47:52.138804Z"
    }
   },
   "outputs": [
    {
     "data": {
      "text/plain": [
       "case_id                              0\n",
       "Hospital_code                        0\n",
       "Hospital_type_code                   0\n",
       "City_Code_Hospital                   0\n",
       "Hospital_region_code                 0\n",
       "Available Extra Rooms in Hospital    0\n",
       "Department                           0\n",
       "Ward_Type                            0\n",
       "Ward_Facility_Code                   0\n",
       "Bed Grade                            0\n",
       "patientid                            0\n",
       "City_Code_Patient                    0\n",
       "Type of Admission                    0\n",
       "Severity of Illness                  0\n",
       "Visitors with Patient                0\n",
       "Age                                  0\n",
       "Admission_Deposit                    0\n",
       "dtype: int64"
      ]
     },
     "execution_count": 33,
     "metadata": {},
     "output_type": "execute_result"
    }
   ],
   "source": [
    "df_all.isnull().sum()"
   ]
  },
  {
   "cell_type": "code",
   "execution_count": 34,
   "metadata": {
    "ExecuteTime": {
     "end_time": "2020-09-04T16:47:52.529761Z",
     "start_time": "2020-09-04T16:47:52.502831Z"
    }
   },
   "outputs": [],
   "source": [
    "train = df_all[:train.shape[0]]\n",
    "test = df_all[train.shape[0]:]"
   ]
  },
  {
   "cell_type": "code",
   "execution_count": 35,
   "metadata": {
    "ExecuteTime": {
     "end_time": "2020-09-04T16:47:52.577674Z",
     "start_time": "2020-09-04T16:47:52.534746Z"
    }
   },
   "outputs": [
    {
     "data": {
      "text/html": [
       "<div>\n",
       "<style scoped>\n",
       "    .dataframe tbody tr th:only-of-type {\n",
       "        vertical-align: middle;\n",
       "    }\n",
       "\n",
       "    .dataframe tbody tr th {\n",
       "        vertical-align: top;\n",
       "    }\n",
       "\n",
       "    .dataframe thead th {\n",
       "        text-align: right;\n",
       "    }\n",
       "</style>\n",
       "<table border=\"1\" class=\"dataframe\">\n",
       "  <thead>\n",
       "    <tr style=\"text-align: right;\">\n",
       "      <th></th>\n",
       "      <th>case_id</th>\n",
       "      <th>Hospital_code</th>\n",
       "      <th>Hospital_type_code</th>\n",
       "      <th>City_Code_Hospital</th>\n",
       "      <th>Hospital_region_code</th>\n",
       "      <th>Available Extra Rooms in Hospital</th>\n",
       "      <th>Department</th>\n",
       "      <th>Ward_Type</th>\n",
       "      <th>Ward_Facility_Code</th>\n",
       "      <th>Bed Grade</th>\n",
       "      <th>patientid</th>\n",
       "      <th>City_Code_Patient</th>\n",
       "      <th>Type of Admission</th>\n",
       "      <th>Severity of Illness</th>\n",
       "      <th>Visitors with Patient</th>\n",
       "      <th>Age</th>\n",
       "      <th>Admission_Deposit</th>\n",
       "    </tr>\n",
       "  </thead>\n",
       "  <tbody>\n",
       "    <tr>\n",
       "      <th>0</th>\n",
       "      <td>1</td>\n",
       "      <td>8</td>\n",
       "      <td>c</td>\n",
       "      <td>3</td>\n",
       "      <td>Z</td>\n",
       "      <td>3</td>\n",
       "      <td>radiotherapy</td>\n",
       "      <td>R</td>\n",
       "      <td>F</td>\n",
       "      <td>2.0</td>\n",
       "      <td>31397</td>\n",
       "      <td>7.0</td>\n",
       "      <td>Emergency</td>\n",
       "      <td>Extreme</td>\n",
       "      <td>2</td>\n",
       "      <td>51-60</td>\n",
       "      <td>4911.0</td>\n",
       "    </tr>\n",
       "    <tr>\n",
       "      <th>1</th>\n",
       "      <td>2</td>\n",
       "      <td>2</td>\n",
       "      <td>c</td>\n",
       "      <td>5</td>\n",
       "      <td>Z</td>\n",
       "      <td>2</td>\n",
       "      <td>radiotherapy</td>\n",
       "      <td>S</td>\n",
       "      <td>F</td>\n",
       "      <td>2.0</td>\n",
       "      <td>31397</td>\n",
       "      <td>7.0</td>\n",
       "      <td>Trauma</td>\n",
       "      <td>Extreme</td>\n",
       "      <td>2</td>\n",
       "      <td>51-60</td>\n",
       "      <td>5954.0</td>\n",
       "    </tr>\n",
       "  </tbody>\n",
       "</table>\n",
       "</div>"
      ],
      "text/plain": [
       "   case_id  Hospital_code Hospital_type_code  City_Code_Hospital  \\\n",
       "0        1              8                  c                   3   \n",
       "1        2              2                  c                   5   \n",
       "\n",
       "  Hospital_region_code  Available Extra Rooms in Hospital    Department  \\\n",
       "0                    Z                                  3  radiotherapy   \n",
       "1                    Z                                  2  radiotherapy   \n",
       "\n",
       "  Ward_Type Ward_Facility_Code  Bed Grade  patientid  City_Code_Patient  \\\n",
       "0         R                  F        2.0      31397                7.0   \n",
       "1         S                  F        2.0      31397                7.0   \n",
       "\n",
       "  Type of Admission Severity of Illness  Visitors with Patient    Age  \\\n",
       "0         Emergency             Extreme                      2  51-60   \n",
       "1            Trauma             Extreme                      2  51-60   \n",
       "\n",
       "   Admission_Deposit  \n",
       "0             4911.0  \n",
       "1             5954.0  "
      ]
     },
     "execution_count": 35,
     "metadata": {},
     "output_type": "execute_result"
    }
   ],
   "source": [
    "df_all.head(2)"
   ]
  },
  {
   "cell_type": "code",
   "execution_count": 36,
   "metadata": {
    "ExecuteTime": {
     "end_time": "2020-09-04T16:47:52.609545Z",
     "start_time": "2020-09-04T16:47:52.580660Z"
    }
   },
   "outputs": [
    {
     "data": {
      "text/plain": [
       "131624"
      ]
     },
     "execution_count": 36,
     "metadata": {},
     "output_type": "execute_result"
    }
   ],
   "source": [
    "df_all['patientid'].nunique()"
   ]
  },
  {
   "cell_type": "code",
   "execution_count": 37,
   "metadata": {
    "ExecuteTime": {
     "end_time": "2020-09-04T16:47:52.734211Z",
     "start_time": "2020-09-04T16:47:52.612538Z"
    }
   },
   "outputs": [
    {
     "data": {
      "text/plain": [
       "41-50     91495\n",
       "31-40     90420\n",
       "51-60     69506\n",
       "21-30     58560\n",
       "71-80     50737\n",
       "61-70     48619\n",
       "11-20     23871\n",
       "81-90     11240\n",
       "0-10       9140\n",
       "91-100     1907\n",
       "Name: Age, dtype: int64"
      ]
     },
     "execution_count": 37,
     "metadata": {},
     "output_type": "execute_result"
    }
   ],
   "source": [
    "df_all['Age'].value_counts()"
   ]
  },
  {
   "cell_type": "markdown",
   "metadata": {},
   "source": [
    "### EDA & Feature Engineering"
   ]
  },
  {
   "cell_type": "code",
   "execution_count": 38,
   "metadata": {
    "ExecuteTime": {
     "end_time": "2020-09-04T16:47:52.924752Z",
     "start_time": "2020-09-04T16:47:52.737204Z"
    },
    "scrolled": true
   },
   "outputs": [],
   "source": [
    "df_all['n_time'] = df_all.groupby('patientid')['patientid'].cumcount() + 1 # n-th time the patient is taking admission"
   ]
  },
  {
   "cell_type": "code",
   "execution_count": 39,
   "metadata": {
    "ExecuteTime": {
     "end_time": "2020-09-04T16:47:52.956618Z",
     "start_time": "2020-09-04T16:47:52.927695Z"
    }
   },
   "outputs": [
    {
     "data": {
      "text/html": [
       "<div>\n",
       "<style scoped>\n",
       "    .dataframe tbody tr th:only-of-type {\n",
       "        vertical-align: middle;\n",
       "    }\n",
       "\n",
       "    .dataframe tbody tr th {\n",
       "        vertical-align: top;\n",
       "    }\n",
       "\n",
       "    .dataframe thead th {\n",
       "        text-align: right;\n",
       "    }\n",
       "</style>\n",
       "<table border=\"1\" class=\"dataframe\">\n",
       "  <thead>\n",
       "    <tr style=\"text-align: right;\">\n",
       "      <th></th>\n",
       "      <th>case_id</th>\n",
       "      <th>Hospital_code</th>\n",
       "      <th>Hospital_type_code</th>\n",
       "      <th>City_Code_Hospital</th>\n",
       "      <th>Hospital_region_code</th>\n",
       "      <th>Available Extra Rooms in Hospital</th>\n",
       "      <th>Department</th>\n",
       "      <th>Ward_Type</th>\n",
       "      <th>Ward_Facility_Code</th>\n",
       "      <th>Bed Grade</th>\n",
       "      <th>patientid</th>\n",
       "      <th>City_Code_Patient</th>\n",
       "      <th>Type of Admission</th>\n",
       "      <th>Severity of Illness</th>\n",
       "      <th>Visitors with Patient</th>\n",
       "      <th>Age</th>\n",
       "      <th>Admission_Deposit</th>\n",
       "      <th>n_time</th>\n",
       "    </tr>\n",
       "  </thead>\n",
       "  <tbody>\n",
       "    <tr>\n",
       "      <th>0</th>\n",
       "      <td>1</td>\n",
       "      <td>8</td>\n",
       "      <td>c</td>\n",
       "      <td>3</td>\n",
       "      <td>Z</td>\n",
       "      <td>3</td>\n",
       "      <td>radiotherapy</td>\n",
       "      <td>R</td>\n",
       "      <td>F</td>\n",
       "      <td>2.0</td>\n",
       "      <td>31397</td>\n",
       "      <td>7.0</td>\n",
       "      <td>Emergency</td>\n",
       "      <td>Extreme</td>\n",
       "      <td>2</td>\n",
       "      <td>51-60</td>\n",
       "      <td>4911.0</td>\n",
       "      <td>1</td>\n",
       "    </tr>\n",
       "    <tr>\n",
       "      <th>1</th>\n",
       "      <td>2</td>\n",
       "      <td>2</td>\n",
       "      <td>c</td>\n",
       "      <td>5</td>\n",
       "      <td>Z</td>\n",
       "      <td>2</td>\n",
       "      <td>radiotherapy</td>\n",
       "      <td>S</td>\n",
       "      <td>F</td>\n",
       "      <td>2.0</td>\n",
       "      <td>31397</td>\n",
       "      <td>7.0</td>\n",
       "      <td>Trauma</td>\n",
       "      <td>Extreme</td>\n",
       "      <td>2</td>\n",
       "      <td>51-60</td>\n",
       "      <td>5954.0</td>\n",
       "      <td>2</td>\n",
       "    </tr>\n",
       "  </tbody>\n",
       "</table>\n",
       "</div>"
      ],
      "text/plain": [
       "   case_id  Hospital_code Hospital_type_code  City_Code_Hospital  \\\n",
       "0        1              8                  c                   3   \n",
       "1        2              2                  c                   5   \n",
       "\n",
       "  Hospital_region_code  Available Extra Rooms in Hospital    Department  \\\n",
       "0                    Z                                  3  radiotherapy   \n",
       "1                    Z                                  2  radiotherapy   \n",
       "\n",
       "  Ward_Type Ward_Facility_Code  Bed Grade  patientid  City_Code_Patient  \\\n",
       "0         R                  F        2.0      31397                7.0   \n",
       "1         S                  F        2.0      31397                7.0   \n",
       "\n",
       "  Type of Admission Severity of Illness  Visitors with Patient    Age  \\\n",
       "0         Emergency             Extreme                      2  51-60   \n",
       "1            Trauma             Extreme                      2  51-60   \n",
       "\n",
       "   Admission_Deposit  n_time  \n",
       "0             4911.0       1  \n",
       "1             5954.0       2  "
      ]
     },
     "execution_count": 39,
     "metadata": {},
     "output_type": "execute_result"
    }
   ],
   "source": [
    "df_all.head(2)"
   ]
  },
  {
   "cell_type": "code",
   "execution_count": 40,
   "metadata": {
    "ExecuteTime": {
     "end_time": "2020-09-04T16:47:53.369546Z",
     "start_time": "2020-09-04T16:47:52.959610Z"
    },
    "scrolled": true
   },
   "outputs": [],
   "source": [
    "df_hospital_feature = pd.DataFrame(train.groupby(['Hospital_code', 'Hospital_type_code', 'City_Code_Hospital', 'Hospital_region_code'\\\n",
    "                            ,'Ward_Type', 'Ward_Facility_Code', 'Bed Grade', 'Department'])\\\n",
    "            ['patientid'].nunique()).reset_index()\n",
    "df_hospital_feature.rename(columns={'patientid':'patient_count'}, inplace=True) # total patients admitted as per hospital feature"
   ]
  },
  {
   "cell_type": "code",
   "execution_count": 41,
   "metadata": {
    "ExecuteTime": {
     "end_time": "2020-09-04T16:47:53.385505Z",
     "start_time": "2020-09-04T16:47:53.373504Z"
    }
   },
   "outputs": [
    {
     "data": {
      "text/plain": [
       "(455495, 18)"
      ]
     },
     "execution_count": 41,
     "metadata": {},
     "output_type": "execute_result"
    }
   ],
   "source": [
    "df_all.shape"
   ]
  },
  {
   "cell_type": "code",
   "execution_count": 42,
   "metadata": {
    "ExecuteTime": {
     "end_time": "2020-09-04T16:47:54.304062Z",
     "start_time": "2020-09-04T16:47:53.389460Z"
    }
   },
   "outputs": [],
   "source": [
    "df_all = pd.merge(df_all, df_hospital_feature, on=['Hospital_code', 'Hospital_type_code', 'City_Code_Hospital', 'Hospital_region_code'\\\n",
    "                            ,'Ward_Type', 'Ward_Facility_Code', 'Bed Grade', 'Department'], how='left')"
   ]
  },
  {
   "cell_type": "code",
   "execution_count": 43,
   "metadata": {
    "ExecuteTime": {
     "end_time": "2020-09-04T16:47:54.318973Z",
     "start_time": "2020-09-04T16:47:54.307011Z"
    }
   },
   "outputs": [
    {
     "data": {
      "text/plain": [
       "(455495, 19)"
      ]
     },
     "execution_count": 43,
     "metadata": {},
     "output_type": "execute_result"
    }
   ],
   "source": [
    "df_all.shape"
   ]
  },
  {
   "cell_type": "code",
   "execution_count": 44,
   "metadata": {
    "ExecuteTime": {
     "end_time": "2020-09-04T16:47:54.809704Z",
     "start_time": "2020-09-04T16:47:54.321966Z"
    }
   },
   "outputs": [
    {
     "data": {
      "text/plain": [
       "case_id                               0\n",
       "Hospital_code                         0\n",
       "Hospital_type_code                    0\n",
       "City_Code_Hospital                    0\n",
       "Hospital_region_code                  0\n",
       "Available Extra Rooms in Hospital     0\n",
       "Department                            0\n",
       "Ward_Type                             0\n",
       "Ward_Facility_Code                    0\n",
       "Bed Grade                             0\n",
       "patientid                             0\n",
       "City_Code_Patient                     0\n",
       "Type of Admission                     0\n",
       "Severity of Illness                   0\n",
       "Visitors with Patient                 0\n",
       "Age                                   0\n",
       "Admission_Deposit                     0\n",
       "n_time                                0\n",
       "patient_count                        62\n",
       "dtype: int64"
      ]
     },
     "execution_count": 44,
     "metadata": {},
     "output_type": "execute_result"
    }
   ],
   "source": [
    "df_all.isnull().sum()"
   ]
  },
  {
   "cell_type": "code",
   "execution_count": 45,
   "metadata": {
    "ExecuteTime": {
     "end_time": "2020-09-04T16:47:54.825666Z",
     "start_time": "2020-09-04T16:47:54.812657Z"
    }
   },
   "outputs": [],
   "source": [
    "df_all['patient_count'].fillna(-1, inplace=True)"
   ]
  },
  {
   "cell_type": "code",
   "execution_count": 46,
   "metadata": {
    "ExecuteTime": {
     "end_time": "2020-09-04T16:47:54.873491Z",
     "start_time": "2020-09-04T16:47:54.828611Z"
    }
   },
   "outputs": [],
   "source": [
    "df_all_backup = df_all.copy()"
   ]
  },
  {
   "cell_type": "code",
   "execution_count": 47,
   "metadata": {
    "ExecuteTime": {
     "end_time": "2020-09-04T16:47:54.888451Z",
     "start_time": "2020-09-04T16:47:54.876483Z"
    }
   },
   "outputs": [],
   "source": [
    "def target_encoder(df, column, target, index=None, method='mean'):\n",
    "    \n",
    "    index = df.index if index is None else index\n",
    "\n",
    "    if method == 'mean':\n",
    "        encoded_column = df[column].map(df.iloc[index].groupby(column)[target].mean())\n",
    "    elif method == 'median':\n",
    "        encoded_column = df[column].map(df.iloc[index].groupby(column)[target].median())\n",
    "    elif method == 'std':\n",
    "        encoded_column = df[column].map(df.iloc[index].groupby(column)[target].std())\n",
    "    else:\n",
    "        raise ValueError(\"Incorrect method supplied\")\n",
    "\n",
    "    return encoded_column"
   ]
  },
  {
   "cell_type": "code",
   "execution_count": 48,
   "metadata": {
    "ExecuteTime": {
     "end_time": "2020-09-04T16:47:54.950287Z",
     "start_time": "2020-09-04T16:47:54.891482Z"
    }
   },
   "outputs": [],
   "source": [
    "train['target'] = y"
   ]
  },
  {
   "cell_type": "code",
   "execution_count": 49,
   "metadata": {
    "ExecuteTime": {
     "end_time": "2020-09-04T16:47:54.997160Z",
     "start_time": "2020-09-04T16:47:54.954276Z"
    }
   },
   "outputs": [
    {
     "data": {
      "text/html": [
       "<div>\n",
       "<style scoped>\n",
       "    .dataframe tbody tr th:only-of-type {\n",
       "        vertical-align: middle;\n",
       "    }\n",
       "\n",
       "    .dataframe tbody tr th {\n",
       "        vertical-align: top;\n",
       "    }\n",
       "\n",
       "    .dataframe thead th {\n",
       "        text-align: right;\n",
       "    }\n",
       "</style>\n",
       "<table border=\"1\" class=\"dataframe\">\n",
       "  <thead>\n",
       "    <tr style=\"text-align: right;\">\n",
       "      <th></th>\n",
       "      <th>case_id</th>\n",
       "      <th>Hospital_code</th>\n",
       "      <th>Hospital_type_code</th>\n",
       "      <th>City_Code_Hospital</th>\n",
       "      <th>Hospital_region_code</th>\n",
       "      <th>Available Extra Rooms in Hospital</th>\n",
       "      <th>Department</th>\n",
       "      <th>Ward_Type</th>\n",
       "      <th>Ward_Facility_Code</th>\n",
       "      <th>Bed Grade</th>\n",
       "      <th>patientid</th>\n",
       "      <th>City_Code_Patient</th>\n",
       "      <th>Type of Admission</th>\n",
       "      <th>Severity of Illness</th>\n",
       "      <th>Visitors with Patient</th>\n",
       "      <th>Age</th>\n",
       "      <th>Admission_Deposit</th>\n",
       "      <th>target</th>\n",
       "    </tr>\n",
       "  </thead>\n",
       "  <tbody>\n",
       "    <tr>\n",
       "      <th>0</th>\n",
       "      <td>1</td>\n",
       "      <td>8</td>\n",
       "      <td>c</td>\n",
       "      <td>3</td>\n",
       "      <td>Z</td>\n",
       "      <td>3</td>\n",
       "      <td>radiotherapy</td>\n",
       "      <td>R</td>\n",
       "      <td>F</td>\n",
       "      <td>2.0</td>\n",
       "      <td>31397</td>\n",
       "      <td>7.0</td>\n",
       "      <td>Emergency</td>\n",
       "      <td>Extreme</td>\n",
       "      <td>2</td>\n",
       "      <td>51-60</td>\n",
       "      <td>4911.0</td>\n",
       "      <td>0-10</td>\n",
       "    </tr>\n",
       "    <tr>\n",
       "      <th>1</th>\n",
       "      <td>2</td>\n",
       "      <td>2</td>\n",
       "      <td>c</td>\n",
       "      <td>5</td>\n",
       "      <td>Z</td>\n",
       "      <td>2</td>\n",
       "      <td>radiotherapy</td>\n",
       "      <td>S</td>\n",
       "      <td>F</td>\n",
       "      <td>2.0</td>\n",
       "      <td>31397</td>\n",
       "      <td>7.0</td>\n",
       "      <td>Trauma</td>\n",
       "      <td>Extreme</td>\n",
       "      <td>2</td>\n",
       "      <td>51-60</td>\n",
       "      <td>5954.0</td>\n",
       "      <td>41-50</td>\n",
       "    </tr>\n",
       "    <tr>\n",
       "      <th>2</th>\n",
       "      <td>3</td>\n",
       "      <td>10</td>\n",
       "      <td>e</td>\n",
       "      <td>1</td>\n",
       "      <td>X</td>\n",
       "      <td>2</td>\n",
       "      <td>anesthesia</td>\n",
       "      <td>S</td>\n",
       "      <td>E</td>\n",
       "      <td>2.0</td>\n",
       "      <td>31397</td>\n",
       "      <td>7.0</td>\n",
       "      <td>Trauma</td>\n",
       "      <td>Extreme</td>\n",
       "      <td>2</td>\n",
       "      <td>51-60</td>\n",
       "      <td>4745.0</td>\n",
       "      <td>31-40</td>\n",
       "    </tr>\n",
       "  </tbody>\n",
       "</table>\n",
       "</div>"
      ],
      "text/plain": [
       "   case_id  Hospital_code Hospital_type_code  City_Code_Hospital  \\\n",
       "0        1              8                  c                   3   \n",
       "1        2              2                  c                   5   \n",
       "2        3             10                  e                   1   \n",
       "\n",
       "  Hospital_region_code  Available Extra Rooms in Hospital    Department  \\\n",
       "0                    Z                                  3  radiotherapy   \n",
       "1                    Z                                  2  radiotherapy   \n",
       "2                    X                                  2    anesthesia   \n",
       "\n",
       "  Ward_Type Ward_Facility_Code  Bed Grade  patientid  City_Code_Patient  \\\n",
       "0         R                  F        2.0      31397                7.0   \n",
       "1         S                  F        2.0      31397                7.0   \n",
       "2         S                  E        2.0      31397                7.0   \n",
       "\n",
       "  Type of Admission Severity of Illness  Visitors with Patient    Age  \\\n",
       "0         Emergency             Extreme                      2  51-60   \n",
       "1            Trauma             Extreme                      2  51-60   \n",
       "2            Trauma             Extreme                      2  51-60   \n",
       "\n",
       "   Admission_Deposit target  \n",
       "0             4911.0   0-10  \n",
       "1             5954.0  41-50  \n",
       "2             4745.0  31-40  "
      ]
     },
     "execution_count": 49,
     "metadata": {},
     "output_type": "execute_result"
    }
   ],
   "source": [
    "train.head(3)"
   ]
  },
  {
   "cell_type": "code",
   "execution_count": 50,
   "metadata": {
    "ExecuteTime": {
     "end_time": "2020-09-04T16:47:56.973491Z",
     "start_time": "2020-09-04T16:47:55.000186Z"
    },
    "scrolled": true
   },
   "outputs": [
    {
     "data": {
      "text/html": [
       "<div>\n",
       "<style scoped>\n",
       "    .dataframe tbody tr th:only-of-type {\n",
       "        vertical-align: middle;\n",
       "    }\n",
       "\n",
       "    .dataframe tbody tr th {\n",
       "        vertical-align: top;\n",
       "    }\n",
       "\n",
       "    .dataframe thead th {\n",
       "        text-align: right;\n",
       "    }\n",
       "</style>\n",
       "<table border=\"1\" class=\"dataframe\">\n",
       "  <thead>\n",
       "    <tr style=\"text-align: right;\">\n",
       "      <th></th>\n",
       "      <th>case_id</th>\n",
       "      <th>Hospital_code</th>\n",
       "      <th>Hospital_type_code</th>\n",
       "      <th>City_Code_Hospital</th>\n",
       "      <th>Hospital_region_code</th>\n",
       "      <th>Available Extra Rooms in Hospital</th>\n",
       "      <th>Department</th>\n",
       "      <th>Ward_Type</th>\n",
       "      <th>Ward_Facility_Code</th>\n",
       "      <th>Bed Grade</th>\n",
       "      <th>patientid</th>\n",
       "      <th>City_Code_Patient</th>\n",
       "      <th>Type of Admission</th>\n",
       "      <th>Severity of Illness</th>\n",
       "      <th>Visitors with Patient</th>\n",
       "      <th>Age</th>\n",
       "      <th>Admission_Deposit</th>\n",
       "      <th>target</th>\n",
       "      <th>dept_label_encoded</th>\n",
       "      <th>department_encoded</th>\n",
       "    </tr>\n",
       "  </thead>\n",
       "  <tbody>\n",
       "    <tr>\n",
       "      <th>0</th>\n",
       "      <td>1</td>\n",
       "      <td>8</td>\n",
       "      <td>c</td>\n",
       "      <td>3</td>\n",
       "      <td>Z</td>\n",
       "      <td>3</td>\n",
       "      <td>radiotherapy</td>\n",
       "      <td>R</td>\n",
       "      <td>F</td>\n",
       "      <td>2.0</td>\n",
       "      <td>31397</td>\n",
       "      <td>7.0</td>\n",
       "      <td>Emergency</td>\n",
       "      <td>Extreme</td>\n",
       "      <td>2</td>\n",
       "      <td>51-60</td>\n",
       "      <td>4911.0</td>\n",
       "      <td>0</td>\n",
       "      <td>3</td>\n",
       "      <td>2.817085</td>\n",
       "    </tr>\n",
       "    <tr>\n",
       "      <th>1</th>\n",
       "      <td>2</td>\n",
       "      <td>2</td>\n",
       "      <td>c</td>\n",
       "      <td>5</td>\n",
       "      <td>Z</td>\n",
       "      <td>2</td>\n",
       "      <td>radiotherapy</td>\n",
       "      <td>S</td>\n",
       "      <td>F</td>\n",
       "      <td>2.0</td>\n",
       "      <td>31397</td>\n",
       "      <td>7.0</td>\n",
       "      <td>Trauma</td>\n",
       "      <td>Extreme</td>\n",
       "      <td>2</td>\n",
       "      <td>51-60</td>\n",
       "      <td>5954.0</td>\n",
       "      <td>4</td>\n",
       "      <td>3</td>\n",
       "      <td>2.817085</td>\n",
       "    </tr>\n",
       "    <tr>\n",
       "      <th>2</th>\n",
       "      <td>3</td>\n",
       "      <td>10</td>\n",
       "      <td>e</td>\n",
       "      <td>1</td>\n",
       "      <td>X</td>\n",
       "      <td>2</td>\n",
       "      <td>anesthesia</td>\n",
       "      <td>S</td>\n",
       "      <td>E</td>\n",
       "      <td>2.0</td>\n",
       "      <td>31397</td>\n",
       "      <td>7.0</td>\n",
       "      <td>Trauma</td>\n",
       "      <td>Extreme</td>\n",
       "      <td>2</td>\n",
       "      <td>51-60</td>\n",
       "      <td>4745.0</td>\n",
       "      <td>3</td>\n",
       "      <td>1</td>\n",
       "      <td>2.499949</td>\n",
       "    </tr>\n",
       "  </tbody>\n",
       "</table>\n",
       "</div>"
      ],
      "text/plain": [
       "   case_id  Hospital_code Hospital_type_code  City_Code_Hospital  \\\n",
       "0        1              8                  c                   3   \n",
       "1        2              2                  c                   5   \n",
       "2        3             10                  e                   1   \n",
       "\n",
       "  Hospital_region_code  Available Extra Rooms in Hospital    Department  \\\n",
       "0                    Z                                  3  radiotherapy   \n",
       "1                    Z                                  2  radiotherapy   \n",
       "2                    X                                  2    anesthesia   \n",
       "\n",
       "  Ward_Type Ward_Facility_Code  Bed Grade  patientid  City_Code_Patient  \\\n",
       "0         R                  F        2.0      31397                7.0   \n",
       "1         S                  F        2.0      31397                7.0   \n",
       "2         S                  E        2.0      31397                7.0   \n",
       "\n",
       "  Type of Admission Severity of Illness  Visitors with Patient    Age  \\\n",
       "0         Emergency             Extreme                      2  51-60   \n",
       "1            Trauma             Extreme                      2  51-60   \n",
       "2            Trauma             Extreme                      2  51-60   \n",
       "\n",
       "   Admission_Deposit  target  dept_label_encoded  department_encoded  \n",
       "0             4911.0       0                   3            2.817085  \n",
       "1             5954.0       4                   3            2.817085  \n",
       "2             4745.0       3                   1            2.499949  "
      ]
     },
     "execution_count": 50,
     "metadata": {},
     "output_type": "execute_result"
    }
   ],
   "source": [
    "from sklearn.preprocessing import LabelEncoder\n",
    "\n",
    "train_backup = train.copy()\n",
    "\n",
    "le = LabelEncoder()\n",
    "\n",
    "train['dept_label_encoded'] = le.fit_transform(train['Department'])\n",
    "train['target'] = le.fit_transform(train['target'])\n",
    "\n",
    "train['department_encoded'] = target_encoder(train, column='dept_label_encoded', target='target', method='mean')\n",
    "train.head(3)"
   ]
  },
  {
   "cell_type": "code",
   "execution_count": 51,
   "metadata": {
    "ExecuteTime": {
     "end_time": "2020-09-04T16:47:58.604168Z",
     "start_time": "2020-09-04T16:47:56.975448Z"
    },
    "scrolled": true
   },
   "outputs": [],
   "source": [
    "df_all = pd.merge(df_all, train[['Department', 'department_encoded']].drop_duplicates(), on=['Department'], how='left').drop_duplicates()"
   ]
  },
  {
   "cell_type": "code",
   "execution_count": 52,
   "metadata": {
    "ExecuteTime": {
     "end_time": "2020-09-04T16:47:58.650969Z",
     "start_time": "2020-09-04T16:47:58.607135Z"
    }
   },
   "outputs": [
    {
     "data": {
      "text/html": [
       "<div>\n",
       "<style scoped>\n",
       "    .dataframe tbody tr th:only-of-type {\n",
       "        vertical-align: middle;\n",
       "    }\n",
       "\n",
       "    .dataframe tbody tr th {\n",
       "        vertical-align: top;\n",
       "    }\n",
       "\n",
       "    .dataframe thead th {\n",
       "        text-align: right;\n",
       "    }\n",
       "</style>\n",
       "<table border=\"1\" class=\"dataframe\">\n",
       "  <thead>\n",
       "    <tr style=\"text-align: right;\">\n",
       "      <th></th>\n",
       "      <th>case_id</th>\n",
       "      <th>Hospital_code</th>\n",
       "      <th>Hospital_type_code</th>\n",
       "      <th>City_Code_Hospital</th>\n",
       "      <th>Hospital_region_code</th>\n",
       "      <th>Available Extra Rooms in Hospital</th>\n",
       "      <th>Department</th>\n",
       "      <th>Ward_Type</th>\n",
       "      <th>Ward_Facility_Code</th>\n",
       "      <th>Bed Grade</th>\n",
       "      <th>patientid</th>\n",
       "      <th>City_Code_Patient</th>\n",
       "      <th>Type of Admission</th>\n",
       "      <th>Severity of Illness</th>\n",
       "      <th>Visitors with Patient</th>\n",
       "      <th>Age</th>\n",
       "      <th>Admission_Deposit</th>\n",
       "      <th>n_time</th>\n",
       "      <th>patient_count</th>\n",
       "      <th>department_encoded</th>\n",
       "    </tr>\n",
       "  </thead>\n",
       "  <tbody>\n",
       "    <tr>\n",
       "      <th>0</th>\n",
       "      <td>1</td>\n",
       "      <td>8</td>\n",
       "      <td>c</td>\n",
       "      <td>3</td>\n",
       "      <td>Z</td>\n",
       "      <td>3</td>\n",
       "      <td>radiotherapy</td>\n",
       "      <td>R</td>\n",
       "      <td>F</td>\n",
       "      <td>2.0</td>\n",
       "      <td>31397</td>\n",
       "      <td>7.0</td>\n",
       "      <td>Emergency</td>\n",
       "      <td>Extreme</td>\n",
       "      <td>2</td>\n",
       "      <td>51-60</td>\n",
       "      <td>4911.0</td>\n",
       "      <td>1</td>\n",
       "      <td>56.0</td>\n",
       "      <td>2.817085</td>\n",
       "    </tr>\n",
       "    <tr>\n",
       "      <th>1</th>\n",
       "      <td>2</td>\n",
       "      <td>2</td>\n",
       "      <td>c</td>\n",
       "      <td>5</td>\n",
       "      <td>Z</td>\n",
       "      <td>2</td>\n",
       "      <td>radiotherapy</td>\n",
       "      <td>S</td>\n",
       "      <td>F</td>\n",
       "      <td>2.0</td>\n",
       "      <td>31397</td>\n",
       "      <td>7.0</td>\n",
       "      <td>Trauma</td>\n",
       "      <td>Extreme</td>\n",
       "      <td>2</td>\n",
       "      <td>51-60</td>\n",
       "      <td>5954.0</td>\n",
       "      <td>2</td>\n",
       "      <td>134.0</td>\n",
       "      <td>2.817085</td>\n",
       "    </tr>\n",
       "    <tr>\n",
       "      <th>2</th>\n",
       "      <td>3</td>\n",
       "      <td>10</td>\n",
       "      <td>e</td>\n",
       "      <td>1</td>\n",
       "      <td>X</td>\n",
       "      <td>2</td>\n",
       "      <td>anesthesia</td>\n",
       "      <td>S</td>\n",
       "      <td>E</td>\n",
       "      <td>2.0</td>\n",
       "      <td>31397</td>\n",
       "      <td>7.0</td>\n",
       "      <td>Trauma</td>\n",
       "      <td>Extreme</td>\n",
       "      <td>2</td>\n",
       "      <td>51-60</td>\n",
       "      <td>4745.0</td>\n",
       "      <td>3</td>\n",
       "      <td>136.0</td>\n",
       "      <td>2.499949</td>\n",
       "    </tr>\n",
       "  </tbody>\n",
       "</table>\n",
       "</div>"
      ],
      "text/plain": [
       "   case_id  Hospital_code Hospital_type_code  City_Code_Hospital  \\\n",
       "0        1              8                  c                   3   \n",
       "1        2              2                  c                   5   \n",
       "2        3             10                  e                   1   \n",
       "\n",
       "  Hospital_region_code  Available Extra Rooms in Hospital    Department  \\\n",
       "0                    Z                                  3  radiotherapy   \n",
       "1                    Z                                  2  radiotherapy   \n",
       "2                    X                                  2    anesthesia   \n",
       "\n",
       "  Ward_Type Ward_Facility_Code  Bed Grade  patientid  City_Code_Patient  \\\n",
       "0         R                  F        2.0      31397                7.0   \n",
       "1         S                  F        2.0      31397                7.0   \n",
       "2         S                  E        2.0      31397                7.0   \n",
       "\n",
       "  Type of Admission Severity of Illness  Visitors with Patient    Age  \\\n",
       "0         Emergency             Extreme                      2  51-60   \n",
       "1            Trauma             Extreme                      2  51-60   \n",
       "2            Trauma             Extreme                      2  51-60   \n",
       "\n",
       "   Admission_Deposit  n_time  patient_count  department_encoded  \n",
       "0             4911.0       1           56.0            2.817085  \n",
       "1             5954.0       2          134.0            2.817085  \n",
       "2             4745.0       3          136.0            2.499949  "
      ]
     },
     "execution_count": 52,
     "metadata": {},
     "output_type": "execute_result"
    }
   ],
   "source": [
    "df_all.head(3)"
   ]
  },
  {
   "cell_type": "code",
   "execution_count": 53,
   "metadata": {
    "ExecuteTime": {
     "end_time": "2020-09-04T16:47:58.666926Z",
     "start_time": "2020-09-04T16:47:58.654959Z"
    }
   },
   "outputs": [
    {
     "data": {
      "text/plain": [
       "Index(['case_id', 'Hospital_code', 'Hospital_type_code', 'City_Code_Hospital',\n",
       "       'Hospital_region_code', 'Available Extra Rooms in Hospital',\n",
       "       'Department', 'Ward_Type', 'Ward_Facility_Code', 'Bed Grade',\n",
       "       'patientid', 'City_Code_Patient', 'Type of Admission',\n",
       "       'Severity of Illness', 'Visitors with Patient', 'Age',\n",
       "       'Admission_Deposit', 'n_time', 'patient_count', 'department_encoded'],\n",
       "      dtype='object')"
      ]
     },
     "execution_count": 53,
     "metadata": {},
     "output_type": "execute_result"
    }
   ],
   "source": [
    "df_all.columns"
   ]
  },
  {
   "cell_type": "code",
   "execution_count": 54,
   "metadata": {
    "ExecuteTime": {
     "end_time": "2020-09-04T16:48:02.045982Z",
     "start_time": "2020-09-04T16:47:58.669916Z"
    },
    "scrolled": true
   },
   "outputs": [],
   "source": [
    "for i in ['Hospital_code', 'Hospital_type_code', 'City_Code_Hospital',\n",
    "       'Hospital_region_code', 'Department', 'Ward_Type', 'Ward_Facility_Code', 'Bed Grade', 'City_Code_Patient', 'Type of Admission',\n",
    "       'Severity of Illness', 'Age']:\n",
    "    df_all = pd.concat([df_all, pd.get_dummies(df_all[i], prefix=i+'_')],axis=1)"
   ]
  },
  {
   "cell_type": "code",
   "execution_count": 55,
   "metadata": {
    "ExecuteTime": {
     "end_time": "2020-09-04T16:48:02.300301Z",
     "start_time": "2020-09-04T16:48:02.048880Z"
    }
   },
   "outputs": [],
   "source": [
    "df_all.drop(['patientid', 'Hospital_code', 'Hospital_type_code', 'City_Code_Hospital',\n",
    "       'Hospital_region_code', 'Department', 'Ward_Type', 'Ward_Facility_Code', 'Bed Grade', 'City_Code_Patient', 'Type of Admission',\n",
    "       'Severity of Illness', 'Age'], axis=1, inplace=True)"
   ]
  },
  {
   "cell_type": "code",
   "execution_count": 56,
   "metadata": {
    "ExecuteTime": {
     "end_time": "2020-09-04T16:48:02.316213Z",
     "start_time": "2020-09-04T16:48:02.303234Z"
    }
   },
   "outputs": [],
   "source": [
    "train = df_all[:train.shape[0]]\n",
    "test = df_all[train.shape[0]:]"
   ]
  },
  {
   "cell_type": "code",
   "execution_count": 57,
   "metadata": {
    "ExecuteTime": {
     "end_time": "2020-09-04T16:48:02.503714Z",
     "start_time": "2020-09-04T16:48:02.319190Z"
    }
   },
   "outputs": [],
   "source": [
    "train.drop(['City_Code_Patient__35.0', 'City_Code_Hospital__10', 'City_Code_Patient__38.0', 'Ward_Facility_Code__E', \\\n",
    "           'Ward_Facility_Code__D', 'City_Code_Hospital__11', 'City_Code_Hospital__13', 'Hospital_type_code__g', \\\n",
    "            'Ward_Facility_Code__C', 'Hospital_type_code__f', 'Ward_Type__U', 'City_Code_Patient__36.0', \\\n",
    "           'Department__surgery'], axis=1, inplace=True)\n",
    "\n",
    "test.drop(['City_Code_Patient__35.0', 'City_Code_Hospital__10', 'City_Code_Patient__38.0', 'Ward_Facility_Code__E', \\\n",
    "           'Ward_Facility_Code__D', 'City_Code_Hospital__11', 'City_Code_Hospital__13', 'Hospital_type_code__g', \\\n",
    "            'Ward_Facility_Code__C', 'Hospital_type_code__f', 'Ward_Type__U', 'City_Code_Patient__36.0', \\\n",
    "           'Department__surgery'], axis=1, inplace=True)"
   ]
  },
  {
   "cell_type": "code",
   "execution_count": 58,
   "metadata": {
    "ExecuteTime": {
     "end_time": "2020-09-04T16:48:02.647506Z",
     "start_time": "2020-09-04T16:48:02.506691Z"
    }
   },
   "outputs": [],
   "source": [
    "import lightgbm as lgb\n",
    "\n",
    "lgbm = lgb.LGBMClassifier(n_estimators=200)"
   ]
  },
  {
   "cell_type": "code",
   "execution_count": 59,
   "metadata": {
    "ExecuteTime": {
     "end_time": "2020-09-04T16:48:03.778090Z",
     "start_time": "2020-09-04T16:48:02.650449Z"
    }
   },
   "outputs": [],
   "source": [
    "from sklearn.model_selection import train_test_split\n",
    "\n",
    "X_train, X_test, y_train, y_test = train_test_split(train.drop('case_id', axis=1), y, test_size=0.3, stratify=y, random_state=0)"
   ]
  },
  {
   "cell_type": "code",
   "execution_count": 60,
   "metadata": {
    "ExecuteTime": {
     "end_time": "2020-09-04T16:48:43.709179Z",
     "start_time": "2020-09-04T16:48:03.781007Z"
    }
   },
   "outputs": [
    {
     "data": {
      "text/plain": [
       "LGBMClassifier(n_estimators=200)"
      ]
     },
     "execution_count": 60,
     "metadata": {},
     "output_type": "execute_result"
    }
   ],
   "source": [
    "lgbm.fit(X_train, y_train)"
   ]
  },
  {
   "cell_type": "code",
   "execution_count": 61,
   "metadata": {
    "ExecuteTime": {
     "end_time": "2020-09-04T16:49:08.122889Z",
     "start_time": "2020-09-04T16:48:43.712166Z"
    }
   },
   "outputs": [],
   "source": [
    "train_preds = lgbm.predict(X_train)\n",
    "val_preds = lgbm.predict(X_test)"
   ]
  },
  {
   "cell_type": "code",
   "execution_count": 62,
   "metadata": {
    "ExecuteTime": {
     "end_time": "2020-09-04T16:49:08.138847Z",
     "start_time": "2020-09-04T16:49:08.126880Z"
    }
   },
   "outputs": [],
   "source": [
    "from sklearn.metrics import accuracy_score"
   ]
  },
  {
   "cell_type": "code",
   "execution_count": 63,
   "metadata": {
    "ExecuteTime": {
     "end_time": "2020-09-04T16:49:08.707374Z",
     "start_time": "2020-09-04T16:49:08.142839Z"
    }
   },
   "outputs": [
    {
     "data": {
      "text/plain": [
       "0.4530743901016572"
      ]
     },
     "execution_count": 63,
     "metadata": {},
     "output_type": "execute_result"
    }
   ],
   "source": [
    "accuracy_score(y_train, train_preds)"
   ]
  },
  {
   "cell_type": "code",
   "execution_count": 64,
   "metadata": {
    "ExecuteTime": {
     "end_time": "2020-09-04T16:49:08.960649Z",
     "start_time": "2020-09-04T16:49:08.710356Z"
    }
   },
   "outputs": [
    {
     "data": {
      "text/plain": [
       "0.42886153330821086"
      ]
     },
     "execution_count": 64,
     "metadata": {},
     "output_type": "execute_result"
    }
   ],
   "source": [
    "accuracy_score(y_test, val_preds)"
   ]
  },
  {
   "cell_type": "code",
   "execution_count": 65,
   "metadata": {
    "ExecuteTime": {
     "end_time": "2020-09-04T16:50:05.455126Z",
     "start_time": "2020-09-04T16:49:08.963639Z"
    }
   },
   "outputs": [
    {
     "data": {
      "text/plain": [
       "LGBMClassifier(n_estimators=200)"
      ]
     },
     "execution_count": 65,
     "metadata": {},
     "output_type": "execute_result"
    }
   ],
   "source": [
    "lgbm.fit(train.drop('case_id', axis=1), y)"
   ]
  },
  {
   "cell_type": "code",
   "execution_count": 66,
   "metadata": {
    "ExecuteTime": {
     "end_time": "2020-09-04T16:50:05.486043Z",
     "start_time": "2020-09-04T16:50:05.458113Z"
    }
   },
   "outputs": [
    {
     "data": {
      "text/html": [
       "<div>\n",
       "<style scoped>\n",
       "    .dataframe tbody tr th:only-of-type {\n",
       "        vertical-align: middle;\n",
       "    }\n",
       "\n",
       "    .dataframe tbody tr th {\n",
       "        vertical-align: top;\n",
       "    }\n",
       "\n",
       "    .dataframe thead th {\n",
       "        text-align: right;\n",
       "    }\n",
       "</style>\n",
       "<table border=\"1\" class=\"dataframe\">\n",
       "  <thead>\n",
       "    <tr style=\"text-align: right;\">\n",
       "      <th></th>\n",
       "      <th>case_id</th>\n",
       "      <th>Available Extra Rooms in Hospital</th>\n",
       "      <th>Visitors with Patient</th>\n",
       "      <th>Admission_Deposit</th>\n",
       "      <th>n_time</th>\n",
       "      <th>patient_count</th>\n",
       "      <th>department_encoded</th>\n",
       "      <th>Hospital_code__1</th>\n",
       "      <th>Hospital_code__2</th>\n",
       "      <th>Hospital_code__3</th>\n",
       "      <th>...</th>\n",
       "      <th>Age__0-10</th>\n",
       "      <th>Age__11-20</th>\n",
       "      <th>Age__21-30</th>\n",
       "      <th>Age__31-40</th>\n",
       "      <th>Age__41-50</th>\n",
       "      <th>Age__51-60</th>\n",
       "      <th>Age__61-70</th>\n",
       "      <th>Age__71-80</th>\n",
       "      <th>Age__81-90</th>\n",
       "      <th>Age__91-100</th>\n",
       "    </tr>\n",
       "  </thead>\n",
       "  <tbody>\n",
       "    <tr>\n",
       "      <th>0</th>\n",
       "      <td>1</td>\n",
       "      <td>3</td>\n",
       "      <td>2</td>\n",
       "      <td>4911.0</td>\n",
       "      <td>1</td>\n",
       "      <td>56.0</td>\n",
       "      <td>2.817085</td>\n",
       "      <td>0</td>\n",
       "      <td>0</td>\n",
       "      <td>0</td>\n",
       "      <td>...</td>\n",
       "      <td>0</td>\n",
       "      <td>0</td>\n",
       "      <td>0</td>\n",
       "      <td>0</td>\n",
       "      <td>0</td>\n",
       "      <td>1</td>\n",
       "      <td>0</td>\n",
       "      <td>0</td>\n",
       "      <td>0</td>\n",
       "      <td>0</td>\n",
       "    </tr>\n",
       "    <tr>\n",
       "      <th>1</th>\n",
       "      <td>2</td>\n",
       "      <td>2</td>\n",
       "      <td>2</td>\n",
       "      <td>5954.0</td>\n",
       "      <td>2</td>\n",
       "      <td>134.0</td>\n",
       "      <td>2.817085</td>\n",
       "      <td>0</td>\n",
       "      <td>1</td>\n",
       "      <td>0</td>\n",
       "      <td>...</td>\n",
       "      <td>0</td>\n",
       "      <td>0</td>\n",
       "      <td>0</td>\n",
       "      <td>0</td>\n",
       "      <td>0</td>\n",
       "      <td>1</td>\n",
       "      <td>0</td>\n",
       "      <td>0</td>\n",
       "      <td>0</td>\n",
       "      <td>0</td>\n",
       "    </tr>\n",
       "  </tbody>\n",
       "</table>\n",
       "<p>2 rows × 121 columns</p>\n",
       "</div>"
      ],
      "text/plain": [
       "   case_id  Available Extra Rooms in Hospital  Visitors with Patient  \\\n",
       "0        1                                  3                      2   \n",
       "1        2                                  2                      2   \n",
       "\n",
       "   Admission_Deposit  n_time  patient_count  department_encoded  \\\n",
       "0             4911.0       1           56.0            2.817085   \n",
       "1             5954.0       2          134.0            2.817085   \n",
       "\n",
       "   Hospital_code__1  Hospital_code__2  Hospital_code__3     ...       \\\n",
       "0                 0                 0                 0     ...        \n",
       "1                 0                 1                 0     ...        \n",
       "\n",
       "   Age__0-10  Age__11-20  Age__21-30  Age__31-40  Age__41-50  Age__51-60  \\\n",
       "0          0           0           0           0           0           1   \n",
       "1          0           0           0           0           0           1   \n",
       "\n",
       "   Age__61-70  Age__71-80  Age__81-90  Age__91-100  \n",
       "0           0           0           0            0  \n",
       "1           0           0           0            0  \n",
       "\n",
       "[2 rows x 121 columns]"
      ]
     },
     "execution_count": 66,
     "metadata": {},
     "output_type": "execute_result"
    }
   ],
   "source": [
    "train.head(2)"
   ]
  },
  {
   "cell_type": "code",
   "execution_count": 67,
   "metadata": {
    "ExecuteTime": {
     "end_time": "2020-09-04T16:50:05.533017Z",
     "start_time": "2020-09-04T16:50:05.491066Z"
    }
   },
   "outputs": [
    {
     "data": {
      "text/html": [
       "<div>\n",
       "<style scoped>\n",
       "    .dataframe tbody tr th:only-of-type {\n",
       "        vertical-align: middle;\n",
       "    }\n",
       "\n",
       "    .dataframe tbody tr th {\n",
       "        vertical-align: top;\n",
       "    }\n",
       "\n",
       "    .dataframe thead th {\n",
       "        text-align: right;\n",
       "    }\n",
       "</style>\n",
       "<table border=\"1\" class=\"dataframe\">\n",
       "  <thead>\n",
       "    <tr style=\"text-align: right;\">\n",
       "      <th></th>\n",
       "      <th>case_id</th>\n",
       "      <th>Available Extra Rooms in Hospital</th>\n",
       "      <th>Visitors with Patient</th>\n",
       "      <th>Admission_Deposit</th>\n",
       "      <th>n_time</th>\n",
       "      <th>patient_count</th>\n",
       "      <th>department_encoded</th>\n",
       "      <th>Hospital_code__1</th>\n",
       "      <th>Hospital_code__2</th>\n",
       "      <th>Hospital_code__3</th>\n",
       "      <th>...</th>\n",
       "      <th>Age__0-10</th>\n",
       "      <th>Age__11-20</th>\n",
       "      <th>Age__21-30</th>\n",
       "      <th>Age__31-40</th>\n",
       "      <th>Age__41-50</th>\n",
       "      <th>Age__51-60</th>\n",
       "      <th>Age__61-70</th>\n",
       "      <th>Age__71-80</th>\n",
       "      <th>Age__81-90</th>\n",
       "      <th>Age__91-100</th>\n",
       "    </tr>\n",
       "  </thead>\n",
       "  <tbody>\n",
       "    <tr>\n",
       "      <th>318438</th>\n",
       "      <td>318439</td>\n",
       "      <td>3</td>\n",
       "      <td>2</td>\n",
       "      <td>3095.0</td>\n",
       "      <td>1</td>\n",
       "      <td>1694.0</td>\n",
       "      <td>2.710437</td>\n",
       "      <td>0</td>\n",
       "      <td>0</td>\n",
       "      <td>0</td>\n",
       "      <td>...</td>\n",
       "      <td>0</td>\n",
       "      <td>0</td>\n",
       "      <td>0</td>\n",
       "      <td>0</td>\n",
       "      <td>0</td>\n",
       "      <td>0</td>\n",
       "      <td>0</td>\n",
       "      <td>1</td>\n",
       "      <td>0</td>\n",
       "      <td>0</td>\n",
       "    </tr>\n",
       "    <tr>\n",
       "      <th>318439</th>\n",
       "      <td>318440</td>\n",
       "      <td>2</td>\n",
       "      <td>4</td>\n",
       "      <td>4018.0</td>\n",
       "      <td>2</td>\n",
       "      <td>1642.0</td>\n",
       "      <td>2.710437</td>\n",
       "      <td>0</td>\n",
       "      <td>0</td>\n",
       "      <td>0</td>\n",
       "      <td>...</td>\n",
       "      <td>0</td>\n",
       "      <td>0</td>\n",
       "      <td>0</td>\n",
       "      <td>0</td>\n",
       "      <td>0</td>\n",
       "      <td>0</td>\n",
       "      <td>0</td>\n",
       "      <td>1</td>\n",
       "      <td>0</td>\n",
       "      <td>0</td>\n",
       "    </tr>\n",
       "  </tbody>\n",
       "</table>\n",
       "<p>2 rows × 121 columns</p>\n",
       "</div>"
      ],
      "text/plain": [
       "        case_id  Available Extra Rooms in Hospital  Visitors with Patient  \\\n",
       "318438   318439                                  3                      2   \n",
       "318439   318440                                  2                      4   \n",
       "\n",
       "        Admission_Deposit  n_time  patient_count  department_encoded  \\\n",
       "318438             3095.0       1         1694.0            2.710437   \n",
       "318439             4018.0       2         1642.0            2.710437   \n",
       "\n",
       "        Hospital_code__1  Hospital_code__2  Hospital_code__3     ...       \\\n",
       "318438                 0                 0                 0     ...        \n",
       "318439                 0                 0                 0     ...        \n",
       "\n",
       "        Age__0-10  Age__11-20  Age__21-30  Age__31-40  Age__41-50  Age__51-60  \\\n",
       "318438          0           0           0           0           0           0   \n",
       "318439          0           0           0           0           0           0   \n",
       "\n",
       "        Age__61-70  Age__71-80  Age__81-90  Age__91-100  \n",
       "318438           0           1           0            0  \n",
       "318439           0           1           0            0  \n",
       "\n",
       "[2 rows x 121 columns]"
      ]
     },
     "execution_count": 67,
     "metadata": {},
     "output_type": "execute_result"
    }
   ],
   "source": [
    "test.head(2)"
   ]
  },
  {
   "cell_type": "code",
   "execution_count": 68,
   "metadata": {
    "ExecuteTime": {
     "end_time": "2020-09-04T16:50:15.679784Z",
     "start_time": "2020-09-04T16:50:05.535943Z"
    },
    "scrolled": true
   },
   "outputs": [],
   "source": [
    "test['Stay'] = lgbm.predict(test.drop('case_id', axis=1))"
   ]
  },
  {
   "cell_type": "code",
   "execution_count": 69,
   "metadata": {
    "ExecuteTime": {
     "end_time": "2020-09-04T16:50:15.695769Z",
     "start_time": "2020-09-04T16:50:15.685763Z"
    },
    "scrolled": true
   },
   "outputs": [],
   "source": [
    "# test[['case_id','Stay']].to_csv('subsmission_lgb.csv', index=False)"
   ]
  },
  {
   "cell_type": "code",
   "execution_count": 70,
   "metadata": {
    "ExecuteTime": {
     "end_time": "2020-09-04T16:50:18.905815Z",
     "start_time": "2020-09-04T16:50:15.698761Z"
    },
    "scrolled": false
   },
   "outputs": [
    {
     "data": {
      "image/png": "[encoded data removed]",
      "text/plain": [
       "<Figure size 2880x1440 with 1 Axes>"
      ]
     },
     "metadata": {
      "needs_background": "light"
     },
     "output_type": "display_data"
    }
   ],
   "source": [
    "import matplotlib.pyplot as plt\n",
    "%matplotlib inline\n",
    "import seaborn as sns\n",
    "\n",
    "def plotImp(model, X, num=20):\n",
    "    feature_imp = pd.DataFrame({'Value':model.feature_importances_,'Feature':X.columns})\n",
    "    plt.figure(figsize=(40, 20))\n",
    "    sns.set(font_scale = 3)\n",
    "    sns.barplot(x=\"Value\", y=\"Feature\", data=feature_imp.sort_values(by=\"Value\", \n",
    "                                                        ascending=False)[0:num])\n",
    "    plt.title('LightGBM Features (avg over folds)')\n",
    "    plt.tight_layout()\n",
    "    plt.show()\n",
    "    \n",
    "plotImp(lgbm, train.drop('case_id', axis=1))"
   ]
  },
  {
   "cell_type": "code",
   "execution_count": 71,
   "metadata": {
    "ExecuteTime": {
     "end_time": "2020-09-04T16:50:18.984572Z",
     "start_time": "2020-09-04T16:50:18.908777Z"
    }
   },
   "outputs": [
    {
     "data": {
      "text/html": [
       "<div>\n",
       "<style scoped>\n",
       "    .dataframe tbody tr th:only-of-type {\n",
       "        vertical-align: middle;\n",
       "    }\n",
       "\n",
       "    .dataframe tbody tr th {\n",
       "        vertical-align: top;\n",
       "    }\n",
       "\n",
       "    .dataframe thead th {\n",
       "        text-align: right;\n",
       "    }\n",
       "</style>\n",
       "<table border=\"1\" class=\"dataframe\">\n",
       "  <thead>\n",
       "    <tr style=\"text-align: right;\">\n",
       "      <th></th>\n",
       "      <th>case_id</th>\n",
       "      <th>Hospital_code</th>\n",
       "      <th>Hospital_type_code</th>\n",
       "      <th>City_Code_Hospital</th>\n",
       "      <th>Hospital_region_code</th>\n",
       "      <th>Available Extra Rooms in Hospital</th>\n",
       "      <th>Department</th>\n",
       "      <th>Ward_Type</th>\n",
       "      <th>Ward_Facility_Code</th>\n",
       "      <th>Bed Grade</th>\n",
       "      <th>patientid</th>\n",
       "      <th>City_Code_Patient</th>\n",
       "      <th>Type of Admission</th>\n",
       "      <th>Severity of Illness</th>\n",
       "      <th>Visitors with Patient</th>\n",
       "      <th>Age</th>\n",
       "      <th>Admission_Deposit</th>\n",
       "      <th>target</th>\n",
       "    </tr>\n",
       "  </thead>\n",
       "  <tbody>\n",
       "    <tr>\n",
       "      <th>0</th>\n",
       "      <td>1</td>\n",
       "      <td>8</td>\n",
       "      <td>c</td>\n",
       "      <td>3</td>\n",
       "      <td>Z</td>\n",
       "      <td>3</td>\n",
       "      <td>radiotherapy</td>\n",
       "      <td>R</td>\n",
       "      <td>F</td>\n",
       "      <td>2.0</td>\n",
       "      <td>31397</td>\n",
       "      <td>7.0</td>\n",
       "      <td>Emergency</td>\n",
       "      <td>Extreme</td>\n",
       "      <td>2</td>\n",
       "      <td>51-60</td>\n",
       "      <td>4911.0</td>\n",
       "      <td>0-10</td>\n",
       "    </tr>\n",
       "    <tr>\n",
       "      <th>1</th>\n",
       "      <td>2</td>\n",
       "      <td>2</td>\n",
       "      <td>c</td>\n",
       "      <td>5</td>\n",
       "      <td>Z</td>\n",
       "      <td>2</td>\n",
       "      <td>radiotherapy</td>\n",
       "      <td>S</td>\n",
       "      <td>F</td>\n",
       "      <td>2.0</td>\n",
       "      <td>31397</td>\n",
       "      <td>7.0</td>\n",
       "      <td>Trauma</td>\n",
       "      <td>Extreme</td>\n",
       "      <td>2</td>\n",
       "      <td>51-60</td>\n",
       "      <td>5954.0</td>\n",
       "      <td>41-50</td>\n",
       "    </tr>\n",
       "    <tr>\n",
       "      <th>2</th>\n",
       "      <td>3</td>\n",
       "      <td>10</td>\n",
       "      <td>e</td>\n",
       "      <td>1</td>\n",
       "      <td>X</td>\n",
       "      <td>2</td>\n",
       "      <td>anesthesia</td>\n",
       "      <td>S</td>\n",
       "      <td>E</td>\n",
       "      <td>2.0</td>\n",
       "      <td>31397</td>\n",
       "      <td>7.0</td>\n",
       "      <td>Trauma</td>\n",
       "      <td>Extreme</td>\n",
       "      <td>2</td>\n",
       "      <td>51-60</td>\n",
       "      <td>4745.0</td>\n",
       "      <td>31-40</td>\n",
       "    </tr>\n",
       "    <tr>\n",
       "      <th>3</th>\n",
       "      <td>4</td>\n",
       "      <td>26</td>\n",
       "      <td>b</td>\n",
       "      <td>2</td>\n",
       "      <td>Y</td>\n",
       "      <td>2</td>\n",
       "      <td>radiotherapy</td>\n",
       "      <td>R</td>\n",
       "      <td>D</td>\n",
       "      <td>2.0</td>\n",
       "      <td>31397</td>\n",
       "      <td>7.0</td>\n",
       "      <td>Trauma</td>\n",
       "      <td>Extreme</td>\n",
       "      <td>2</td>\n",
       "      <td>51-60</td>\n",
       "      <td>7272.0</td>\n",
       "      <td>41-50</td>\n",
       "    </tr>\n",
       "    <tr>\n",
       "      <th>4</th>\n",
       "      <td>5</td>\n",
       "      <td>26</td>\n",
       "      <td>b</td>\n",
       "      <td>2</td>\n",
       "      <td>Y</td>\n",
       "      <td>2</td>\n",
       "      <td>radiotherapy</td>\n",
       "      <td>S</td>\n",
       "      <td>D</td>\n",
       "      <td>2.0</td>\n",
       "      <td>31397</td>\n",
       "      <td>7.0</td>\n",
       "      <td>Trauma</td>\n",
       "      <td>Extreme</td>\n",
       "      <td>2</td>\n",
       "      <td>51-60</td>\n",
       "      <td>5558.0</td>\n",
       "      <td>41-50</td>\n",
       "    </tr>\n",
       "  </tbody>\n",
       "</table>\n",
       "</div>"
      ],
      "text/plain": [
       "   case_id  Hospital_code Hospital_type_code  City_Code_Hospital  \\\n",
       "0        1              8                  c                   3   \n",
       "1        2              2                  c                   5   \n",
       "2        3             10                  e                   1   \n",
       "3        4             26                  b                   2   \n",
       "4        5             26                  b                   2   \n",
       "\n",
       "  Hospital_region_code  Available Extra Rooms in Hospital    Department  \\\n",
       "0                    Z                                  3  radiotherapy   \n",
       "1                    Z                                  2  radiotherapy   \n",
       "2                    X                                  2    anesthesia   \n",
       "3                    Y                                  2  radiotherapy   \n",
       "4                    Y                                  2  radiotherapy   \n",
       "\n",
       "  Ward_Type Ward_Facility_Code  Bed Grade  patientid  City_Code_Patient  \\\n",
       "0         R                  F        2.0      31397                7.0   \n",
       "1         S                  F        2.0      31397                7.0   \n",
       "2         S                  E        2.0      31397                7.0   \n",
       "3         R                  D        2.0      31397                7.0   \n",
       "4         S                  D        2.0      31397                7.0   \n",
       "\n",
       "  Type of Admission Severity of Illness  Visitors with Patient    Age  \\\n",
       "0         Emergency             Extreme                      2  51-60   \n",
       "1            Trauma             Extreme                      2  51-60   \n",
       "2            Trauma             Extreme                      2  51-60   \n",
       "3            Trauma             Extreme                      2  51-60   \n",
       "4            Trauma             Extreme                      2  51-60   \n",
       "\n",
       "   Admission_Deposit target  \n",
       "0             4911.0   0-10  \n",
       "1             5954.0  41-50  \n",
       "2             4745.0  31-40  \n",
       "3             7272.0  41-50  \n",
       "4             5558.0  41-50  "
      ]
     },
     "execution_count": 71,
     "metadata": {},
     "output_type": "execute_result"
    }
   ],
   "source": [
    "train = train_backup.copy()\n",
    "train.head()"
   ]
  },
  {
   "cell_type": "code",
   "execution_count": 72,
   "metadata": {
    "ExecuteTime": {
     "end_time": "2020-09-04T16:50:19.079368Z",
     "start_time": "2020-09-04T16:50:18.987566Z"
    }
   },
   "outputs": [
    {
     "data": {
      "text/plain": [
       "21-30                 87491\n",
       "11-20                 78139\n",
       "31-40                 55159\n",
       "51-60                 35018\n",
       "0-10                  23604\n",
       "41-50                 11743\n",
       "71-80                 10254\n",
       "More than 100 Days     6683\n",
       "81-90                  4838\n",
       "91-100                 2765\n",
       "61-70                  2744\n",
       "Name: target, dtype: int64"
      ]
     },
     "execution_count": 72,
     "metadata": {},
     "output_type": "execute_result"
    }
   ],
   "source": [
    "train['target'].value_counts()"
   ]
  },
  {
   "cell_type": "code",
   "execution_count": 73,
   "metadata": {
    "ExecuteTime": {
     "end_time": "2020-09-04T16:50:19.733687Z",
     "start_time": "2020-09-04T16:50:19.082310Z"
    }
   },
   "outputs": [],
   "source": [
    "train_c1 = train[train['target'] == '21-30']\n",
    "train_c2 = train[train['target'] == '11-20']\n",
    "train_c3 = train[train['target'] == '31-40']\n",
    "train_c4 = train[train['target'] == '51-60']\n",
    "train_c5 = train[train['target'] == '0-10']\n",
    "train_c6 = train[train['target'] == '41-50']\n",
    "train_c7 = train[train['target'] == '71-80']\n",
    "train_c8 = train[train['target'] == 'More than 100 Days']\n",
    "train_c9 = train[train['target'] == '81-90']\n",
    "train_c10 = train[train['target'] == '91-100']\n",
    "train_c11 = train[train['target'] == '61-70']"
   ]
  },
  {
   "cell_type": "code",
   "execution_count": 74,
   "metadata": {
    "ExecuteTime": {
     "end_time": "2020-09-04T16:50:20.240267Z",
     "start_time": "2020-09-04T16:50:19.736559Z"
    }
   },
   "outputs": [
    {
     "data": {
      "image/png": "[encoded data removed]",
      "text/plain": [
       "<Figure size 576x432 with 1 Axes>"
      ]
     },
     "metadata": {
      "needs_background": "light"
     },
     "output_type": "display_data"
    }
   ],
   "source": [
    "plt.figure(figsize=(8, 6))\n",
    "plt.hist(train_c1['Admission_Deposit']), plt.hist(train_c2['Admission_Deposit']), \\\n",
    "plt.hist(train_c3['Admission_Deposit']), plt.hist(train_c4['Admission_Deposit']), \\\n",
    "plt.hist(train_c5['Admission_Deposit']), plt.hist(train_c6['Admission_Deposit']), \\\n",
    "plt.hist(train_c7['Admission_Deposit']), plt.hist(train_c8['Admission_Deposit']), \\\n",
    "plt.hist(train_c9['Admission_Deposit']), plt.hist(train_c10['Admission_Deposit']), \\\n",
    "plt.hist(train_c10['Admission_Deposit'])\n",
    "plt.rcParams.update({'font.size': 10})"
   ]
  },
  {
   "cell_type": "code",
   "execution_count": 75,
   "metadata": {
    "ExecuteTime": {
     "end_time": "2020-09-04T16:50:20.272132Z",
     "start_time": "2020-09-04T16:50:20.243208Z"
    }
   },
   "outputs": [
    {
     "data": {
      "text/html": [
       "<div>\n",
       "<style scoped>\n",
       "    .dataframe tbody tr th:only-of-type {\n",
       "        vertical-align: middle;\n",
       "    }\n",
       "\n",
       "    .dataframe tbody tr th {\n",
       "        vertical-align: top;\n",
       "    }\n",
       "\n",
       "    .dataframe thead th {\n",
       "        text-align: right;\n",
       "    }\n",
       "</style>\n",
       "<table border=\"1\" class=\"dataframe\">\n",
       "  <thead>\n",
       "    <tr style=\"text-align: right;\">\n",
       "      <th></th>\n",
       "      <th>case_id</th>\n",
       "      <th>Hospital_code</th>\n",
       "      <th>Hospital_type_code</th>\n",
       "      <th>City_Code_Hospital</th>\n",
       "      <th>Hospital_region_code</th>\n",
       "      <th>Available Extra Rooms in Hospital</th>\n",
       "      <th>Department</th>\n",
       "      <th>Ward_Type</th>\n",
       "      <th>Ward_Facility_Code</th>\n",
       "      <th>Bed Grade</th>\n",
       "      <th>patientid</th>\n",
       "      <th>City_Code_Patient</th>\n",
       "      <th>Type of Admission</th>\n",
       "      <th>Severity of Illness</th>\n",
       "      <th>Visitors with Patient</th>\n",
       "      <th>Age</th>\n",
       "      <th>Admission_Deposit</th>\n",
       "      <th>target</th>\n",
       "    </tr>\n",
       "  </thead>\n",
       "  <tbody>\n",
       "    <tr>\n",
       "      <th>10</th>\n",
       "      <td>11</td>\n",
       "      <td>22</td>\n",
       "      <td>g</td>\n",
       "      <td>9</td>\n",
       "      <td>Y</td>\n",
       "      <td>2</td>\n",
       "      <td>radiotherapy</td>\n",
       "      <td>S</td>\n",
       "      <td>B</td>\n",
       "      <td>2.0</td>\n",
       "      <td>31397</td>\n",
       "      <td>7.0</td>\n",
       "      <td>Urgent</td>\n",
       "      <td>Extreme</td>\n",
       "      <td>2</td>\n",
       "      <td>51-60</td>\n",
       "      <td>5797.0</td>\n",
       "      <td>21-30</td>\n",
       "    </tr>\n",
       "    <tr>\n",
       "      <th>13</th>\n",
       "      <td>14</td>\n",
       "      <td>9</td>\n",
       "      <td>d</td>\n",
       "      <td>5</td>\n",
       "      <td>Z</td>\n",
       "      <td>3</td>\n",
       "      <td>radiotherapy</td>\n",
       "      <td>S</td>\n",
       "      <td>F</td>\n",
       "      <td>3.0</td>\n",
       "      <td>31397</td>\n",
       "      <td>7.0</td>\n",
       "      <td>Urgent</td>\n",
       "      <td>Extreme</td>\n",
       "      <td>2</td>\n",
       "      <td>51-60</td>\n",
       "      <td>8477.0</td>\n",
       "      <td>21-30</td>\n",
       "    </tr>\n",
       "  </tbody>\n",
       "</table>\n",
       "</div>"
      ],
      "text/plain": [
       "    case_id  Hospital_code Hospital_type_code  City_Code_Hospital  \\\n",
       "10       11             22                  g                   9   \n",
       "13       14              9                  d                   5   \n",
       "\n",
       "   Hospital_region_code  Available Extra Rooms in Hospital    Department  \\\n",
       "10                    Y                                  2  radiotherapy   \n",
       "13                    Z                                  3  radiotherapy   \n",
       "\n",
       "   Ward_Type Ward_Facility_Code  Bed Grade  patientid  City_Code_Patient  \\\n",
       "10         S                  B        2.0      31397                7.0   \n",
       "13         S                  F        3.0      31397                7.0   \n",
       "\n",
       "   Type of Admission Severity of Illness  Visitors with Patient    Age  \\\n",
       "10            Urgent             Extreme                      2  51-60   \n",
       "13            Urgent             Extreme                      2  51-60   \n",
       "\n",
       "    Admission_Deposit target  \n",
       "10             5797.0  21-30  \n",
       "13             8477.0  21-30  "
      ]
     },
     "execution_count": 75,
     "metadata": {},
     "output_type": "execute_result"
    }
   ],
   "source": [
    "train_c1.head(2)"
   ]
  },
  {
   "cell_type": "code",
   "execution_count": 76,
   "metadata": {
    "ExecuteTime": {
     "end_time": "2020-09-04T16:50:20.288132Z",
     "start_time": "2020-09-04T16:50:20.276118Z"
    },
    "scrolled": true
   },
   "outputs": [],
   "source": [
    "# len(train['Hospital_code'].unique()), train['Hospital_code'].max()"
   ]
  },
  {
   "cell_type": "code",
   "execution_count": 77,
   "metadata": {
    "ExecuteTime": {
     "end_time": "2020-09-04T16:50:20.350964Z",
     "start_time": "2020-09-04T16:50:20.291081Z"
    }
   },
   "outputs": [],
   "source": [
    "df_all = df_all_backup.copy()"
   ]
  },
  {
   "cell_type": "code",
   "execution_count": 78,
   "metadata": {
    "ExecuteTime": {
     "end_time": "2020-09-04T16:50:20.398792Z",
     "start_time": "2020-09-04T16:50:20.352915Z"
    }
   },
   "outputs": [
    {
     "data": {
      "text/html": [
       "<div>\n",
       "<style scoped>\n",
       "    .dataframe tbody tr th:only-of-type {\n",
       "        vertical-align: middle;\n",
       "    }\n",
       "\n",
       "    .dataframe tbody tr th {\n",
       "        vertical-align: top;\n",
       "    }\n",
       "\n",
       "    .dataframe thead th {\n",
       "        text-align: right;\n",
       "    }\n",
       "</style>\n",
       "<table border=\"1\" class=\"dataframe\">\n",
       "  <thead>\n",
       "    <tr style=\"text-align: right;\">\n",
       "      <th></th>\n",
       "      <th>case_id</th>\n",
       "      <th>Hospital_code</th>\n",
       "      <th>Hospital_type_code</th>\n",
       "      <th>City_Code_Hospital</th>\n",
       "      <th>Hospital_region_code</th>\n",
       "      <th>Available Extra Rooms in Hospital</th>\n",
       "      <th>Department</th>\n",
       "      <th>Ward_Type</th>\n",
       "      <th>Ward_Facility_Code</th>\n",
       "      <th>Bed Grade</th>\n",
       "      <th>patientid</th>\n",
       "      <th>City_Code_Patient</th>\n",
       "      <th>Type of Admission</th>\n",
       "      <th>Severity of Illness</th>\n",
       "      <th>Visitors with Patient</th>\n",
       "      <th>Age</th>\n",
       "      <th>Admission_Deposit</th>\n",
       "      <th>n_time</th>\n",
       "      <th>patient_count</th>\n",
       "    </tr>\n",
       "  </thead>\n",
       "  <tbody>\n",
       "    <tr>\n",
       "      <th>0</th>\n",
       "      <td>1</td>\n",
       "      <td>8</td>\n",
       "      <td>c</td>\n",
       "      <td>3</td>\n",
       "      <td>Z</td>\n",
       "      <td>3</td>\n",
       "      <td>radiotherapy</td>\n",
       "      <td>R</td>\n",
       "      <td>F</td>\n",
       "      <td>2.0</td>\n",
       "      <td>31397</td>\n",
       "      <td>7.0</td>\n",
       "      <td>Emergency</td>\n",
       "      <td>Extreme</td>\n",
       "      <td>2</td>\n",
       "      <td>51-60</td>\n",
       "      <td>4911.0</td>\n",
       "      <td>1</td>\n",
       "      <td>56.0</td>\n",
       "    </tr>\n",
       "    <tr>\n",
       "      <th>1</th>\n",
       "      <td>2</td>\n",
       "      <td>2</td>\n",
       "      <td>c</td>\n",
       "      <td>5</td>\n",
       "      <td>Z</td>\n",
       "      <td>2</td>\n",
       "      <td>radiotherapy</td>\n",
       "      <td>S</td>\n",
       "      <td>F</td>\n",
       "      <td>2.0</td>\n",
       "      <td>31397</td>\n",
       "      <td>7.0</td>\n",
       "      <td>Trauma</td>\n",
       "      <td>Extreme</td>\n",
       "      <td>2</td>\n",
       "      <td>51-60</td>\n",
       "      <td>5954.0</td>\n",
       "      <td>2</td>\n",
       "      <td>134.0</td>\n",
       "    </tr>\n",
       "  </tbody>\n",
       "</table>\n",
       "</div>"
      ],
      "text/plain": [
       "   case_id  Hospital_code Hospital_type_code  City_Code_Hospital  \\\n",
       "0        1              8                  c                   3   \n",
       "1        2              2                  c                   5   \n",
       "\n",
       "  Hospital_region_code  Available Extra Rooms in Hospital    Department  \\\n",
       "0                    Z                                  3  radiotherapy   \n",
       "1                    Z                                  2  radiotherapy   \n",
       "\n",
       "  Ward_Type Ward_Facility_Code  Bed Grade  patientid  City_Code_Patient  \\\n",
       "0         R                  F        2.0      31397                7.0   \n",
       "1         S                  F        2.0      31397                7.0   \n",
       "\n",
       "  Type of Admission Severity of Illness  Visitors with Patient    Age  \\\n",
       "0         Emergency             Extreme                      2  51-60   \n",
       "1            Trauma             Extreme                      2  51-60   \n",
       "\n",
       "   Admission_Deposit  n_time  patient_count  \n",
       "0             4911.0       1           56.0  \n",
       "1             5954.0       2          134.0  "
      ]
     },
     "execution_count": 78,
     "metadata": {},
     "output_type": "execute_result"
    }
   ],
   "source": [
    "df_all.head(2)"
   ]
  },
  {
   "cell_type": "code",
   "execution_count": 79,
   "metadata": {
    "ExecuteTime": {
     "end_time": "2020-09-04T16:50:20.430751Z",
     "start_time": "2020-09-04T16:50:20.401781Z"
    }
   },
   "outputs": [
    {
     "data": {
      "text/plain": [
       "(131624, (455495, 19))"
      ]
     },
     "execution_count": 79,
     "metadata": {},
     "output_type": "execute_result"
    }
   ],
   "source": [
    "df_all['patientid'].nunique(), df_all.shape"
   ]
  },
  {
   "cell_type": "code",
   "execution_count": 80,
   "metadata": {
    "ExecuteTime": {
     "end_time": "2020-09-04T16:50:20.446703Z",
     "start_time": "2020-09-04T16:50:20.433699Z"
    }
   },
   "outputs": [
    {
     "data": {
      "text/plain": [
       "array([ 2,  4,  3,  8,  6,  7, 13,  5,  1, 10, 15, 11, 12,  9, 24, 16, 14,\n",
       "       20,  0, 19, 18, 17, 23, 21, 32, 30, 22, 25, 29], dtype=int64)"
      ]
     },
     "execution_count": 80,
     "metadata": {},
     "output_type": "execute_result"
    }
   ],
   "source": [
    "df_all['Visitors with Patient'].unique()"
   ]
  },
  {
   "cell_type": "code",
   "execution_count": 81,
   "metadata": {
    "ExecuteTime": {
     "end_time": "2020-09-04T16:50:20.478632Z",
     "start_time": "2020-09-04T16:50:20.449656Z"
    }
   },
   "outputs": [],
   "source": [
    "from kmodes.kmodes import KModes"
   ]
  },
  {
   "cell_type": "code",
   "execution_count": 82,
   "metadata": {
    "ExecuteTime": {
     "end_time": "2020-09-04T16:50:20.541440Z",
     "start_time": "2020-09-04T16:50:20.481569Z"
    }
   },
   "outputs": [],
   "source": [
    "hospital_cat = df_all[['case_id', 'Hospital_code', 'Hospital_type_code', 'City_Code_Hospital', 'Hospital_region_code', 'Department', \\\n",
    "                      'Ward_Type', 'Ward_Facility_Code', 'Bed Grade']]\n",
    "\n",
    "patient_cat = df_all[['case_id', 'City_Code_Patient', 'Type of Admission', 'Severity of Illness', 'Visitors with Patient', 'Age', \\\n",
    "                      'Admission_Deposit']]"
   ]
  },
  {
   "cell_type": "code",
   "execution_count": 83,
   "metadata": {
    "ExecuteTime": {
     "end_time": "2020-09-04T16:50:20.573322Z",
     "start_time": "2020-09-04T16:50:20.544399Z"
    }
   },
   "outputs": [
    {
     "data": {
      "text/html": [
       "<div>\n",
       "<style scoped>\n",
       "    .dataframe tbody tr th:only-of-type {\n",
       "        vertical-align: middle;\n",
       "    }\n",
       "\n",
       "    .dataframe tbody tr th {\n",
       "        vertical-align: top;\n",
       "    }\n",
       "\n",
       "    .dataframe thead th {\n",
       "        text-align: right;\n",
       "    }\n",
       "</style>\n",
       "<table border=\"1\" class=\"dataframe\">\n",
       "  <thead>\n",
       "    <tr style=\"text-align: right;\">\n",
       "      <th></th>\n",
       "      <th>case_id</th>\n",
       "      <th>Hospital_code</th>\n",
       "      <th>Hospital_type_code</th>\n",
       "      <th>City_Code_Hospital</th>\n",
       "      <th>Hospital_region_code</th>\n",
       "      <th>Department</th>\n",
       "      <th>Ward_Type</th>\n",
       "      <th>Ward_Facility_Code</th>\n",
       "      <th>Bed Grade</th>\n",
       "    </tr>\n",
       "  </thead>\n",
       "  <tbody>\n",
       "    <tr>\n",
       "      <th>0</th>\n",
       "      <td>1</td>\n",
       "      <td>8</td>\n",
       "      <td>c</td>\n",
       "      <td>3</td>\n",
       "      <td>Z</td>\n",
       "      <td>radiotherapy</td>\n",
       "      <td>R</td>\n",
       "      <td>F</td>\n",
       "      <td>2.0</td>\n",
       "    </tr>\n",
       "    <tr>\n",
       "      <th>1</th>\n",
       "      <td>2</td>\n",
       "      <td>2</td>\n",
       "      <td>c</td>\n",
       "      <td>5</td>\n",
       "      <td>Z</td>\n",
       "      <td>radiotherapy</td>\n",
       "      <td>S</td>\n",
       "      <td>F</td>\n",
       "      <td>2.0</td>\n",
       "    </tr>\n",
       "  </tbody>\n",
       "</table>\n",
       "</div>"
      ],
      "text/plain": [
       "   case_id  Hospital_code Hospital_type_code  City_Code_Hospital  \\\n",
       "0        1              8                  c                   3   \n",
       "1        2              2                  c                   5   \n",
       "\n",
       "  Hospital_region_code    Department Ward_Type Ward_Facility_Code  Bed Grade  \n",
       "0                    Z  radiotherapy         R                  F        2.0  \n",
       "1                    Z  radiotherapy         S                  F        2.0  "
      ]
     },
     "execution_count": 83,
     "metadata": {},
     "output_type": "execute_result"
    }
   ],
   "source": [
    "hospital_cat.head(2)"
   ]
  },
  {
   "cell_type": "code",
   "execution_count": 84,
   "metadata": {
    "ExecuteTime": {
     "end_time": "2020-09-04T16:50:20.619198Z",
     "start_time": "2020-09-04T16:50:20.576313Z"
    }
   },
   "outputs": [
    {
     "data": {
      "text/plain": [
       "(array([ 8,  2, 10, 26, 23, 32,  1, 22, 16,  9,  6, 29, 12,  3, 21, 28, 27,\n",
       "        19,  5, 14, 13, 31, 24, 17, 25, 15, 11, 30, 18,  4,  7, 20],\n",
       "       dtype=int64),\n",
       " array([ 3,  5,  1,  2,  6,  9, 10,  4, 11,  7, 13], dtype=int64),\n",
       " array([2., 3., 4., 1.]))"
      ]
     },
     "execution_count": 84,
     "metadata": {},
     "output_type": "execute_result"
    }
   ],
   "source": [
    "hospital_cat['Hospital_code'].unique(), hospital_cat['City_Code_Hospital'].unique(), hospital_cat['Bed Grade'].unique()"
   ]
  },
  {
   "cell_type": "code",
   "execution_count": 85,
   "metadata": {
    "ExecuteTime": {
     "end_time": "2020-09-04T16:50:20.730901Z",
     "start_time": "2020-09-04T16:50:20.622191Z"
    }
   },
   "outputs": [],
   "source": [
    "hospital_cat['Hospital_code'] = hospital_cat['Hospital_code'] - 1 # making ordinal\n",
    "hospital_cat['Bed Grade'] = hospital_cat['Bed Grade'] - 1"
   ]
  },
  {
   "cell_type": "code",
   "execution_count": 86,
   "metadata": {
    "ExecuteTime": {
     "end_time": "2020-09-04T16:50:20.746858Z",
     "start_time": "2020-09-04T16:50:20.734890Z"
    }
   },
   "outputs": [],
   "source": [
    "le = LabelEncoder()"
   ]
  },
  {
   "cell_type": "code",
   "execution_count": 87,
   "metadata": {
    "ExecuteTime": {
     "end_time": "2020-09-04T16:50:21.792156Z",
     "start_time": "2020-09-04T16:50:20.749853Z"
    },
    "scrolled": true
   },
   "outputs": [],
   "source": [
    "for i in hospital_cat.drop(['Hospital_code', 'Bed Grade'], axis=1).columns:\n",
    "    hospital_cat[i] = le.fit_transform(hospital_cat[i])"
   ]
  },
  {
   "cell_type": "code",
   "execution_count": 88,
   "metadata": {
    "ExecuteTime": {
     "end_time": "2020-09-04T16:50:21.808071Z",
     "start_time": "2020-09-04T16:50:21.795058Z"
    },
    "scrolled": true
   },
   "outputs": [],
   "source": [
    "# cost = []\n",
    "# K = range(1, 6)\n",
    "# for num_clusters in list(K):\n",
    "#     kmode = KModes(n_clusters=num_clusters, init = \"Cao\", n_init = 1, verbose=1)\n",
    "#     kmode.fit_predict(hospital_cat.drop('case_id', axis=1))\n",
    "#     cost.append(kmode.cost_)\n",
    "    \n",
    "# plt.plot(K, cost, 'bx-')\n",
    "# plt.xlabel('k clusters')\n",
    "# plt.ylabel('Cost')\n",
    "# plt.title('Elbow Method For Optimal k')\n",
    "# plt.show()"
   ]
  },
  {
   "cell_type": "code",
   "execution_count": 89,
   "metadata": {
    "ExecuteTime": {
     "end_time": "2020-09-04T16:53:48.052265Z",
     "start_time": "2020-09-04T16:50:21.810018Z"
    }
   },
   "outputs": [
    {
     "name": "stdout",
     "output_type": "stream",
     "text": [
      "Init: initializing centroids\n",
      "Init: initializing clusters\n",
      "Starting iterations...\n",
      "Run 1, iteration: 1/100, moves: 6305, cost: 934818.0\n",
      "Run 1, iteration: 2/100, moves: 0, cost: 934818.0\n"
     ]
    }
   ],
   "source": [
    "km_cao = KModes(n_clusters=10, init = \"Cao\", n_init = 1, verbose=1)\n",
    "fitClusters_cao = km_cao.fit_predict(hospital_cat.drop('case_id', axis=1))"
   ]
  },
  {
   "cell_type": "code",
   "execution_count": 90,
   "metadata": {
    "ExecuteTime": {
     "end_time": "2020-09-04T16:53:48.115994Z",
     "start_time": "2020-09-04T16:53:48.055109Z"
    }
   },
   "outputs": [],
   "source": [
    "hospital_cat['hospitalization_category'] = fitClusters_cao"
   ]
  },
  {
   "cell_type": "code",
   "execution_count": 91,
   "metadata": {
    "ExecuteTime": {
     "end_time": "2020-09-04T16:53:48.147859Z",
     "start_time": "2020-09-04T16:53:48.118969Z"
    }
   },
   "outputs": [
    {
     "data": {
      "text/plain": [
       "0    87304\n",
       "1    74312\n",
       "3    69999\n",
       "2    50279\n",
       "4    43284\n",
       "7    41446\n",
       "5    37428\n",
       "8    24572\n",
       "6    14183\n",
       "9    12688\n",
       "Name: hospitalization_category, dtype: int64"
      ]
     },
     "execution_count": 91,
     "metadata": {},
     "output_type": "execute_result"
    }
   ],
   "source": [
    "hospital_cat['hospitalization_category'].value_counts()"
   ]
  },
  {
   "cell_type": "code",
   "execution_count": 92,
   "metadata": {
    "ExecuteTime": {
     "end_time": "2020-09-04T16:53:48.179909Z",
     "start_time": "2020-09-04T16:53:48.150851Z"
    }
   },
   "outputs": [
    {
     "data": {
      "text/html": [
       "<div>\n",
       "<style scoped>\n",
       "    .dataframe tbody tr th:only-of-type {\n",
       "        vertical-align: middle;\n",
       "    }\n",
       "\n",
       "    .dataframe tbody tr th {\n",
       "        vertical-align: top;\n",
       "    }\n",
       "\n",
       "    .dataframe thead th {\n",
       "        text-align: right;\n",
       "    }\n",
       "</style>\n",
       "<table border=\"1\" class=\"dataframe\">\n",
       "  <thead>\n",
       "    <tr style=\"text-align: right;\">\n",
       "      <th></th>\n",
       "      <th>case_id</th>\n",
       "      <th>City_Code_Patient</th>\n",
       "      <th>Type of Admission</th>\n",
       "      <th>Severity of Illness</th>\n",
       "      <th>Visitors with Patient</th>\n",
       "      <th>Age</th>\n",
       "      <th>Admission_Deposit</th>\n",
       "    </tr>\n",
       "  </thead>\n",
       "  <tbody>\n",
       "    <tr>\n",
       "      <th>0</th>\n",
       "      <td>1</td>\n",
       "      <td>7.0</td>\n",
       "      <td>Emergency</td>\n",
       "      <td>Extreme</td>\n",
       "      <td>2</td>\n",
       "      <td>51-60</td>\n",
       "      <td>4911.0</td>\n",
       "    </tr>\n",
       "    <tr>\n",
       "      <th>1</th>\n",
       "      <td>2</td>\n",
       "      <td>7.0</td>\n",
       "      <td>Trauma</td>\n",
       "      <td>Extreme</td>\n",
       "      <td>2</td>\n",
       "      <td>51-60</td>\n",
       "      <td>5954.0</td>\n",
       "    </tr>\n",
       "  </tbody>\n",
       "</table>\n",
       "</div>"
      ],
      "text/plain": [
       "   case_id  City_Code_Patient Type of Admission Severity of Illness  \\\n",
       "0        1                7.0         Emergency             Extreme   \n",
       "1        2                7.0            Trauma             Extreme   \n",
       "\n",
       "   Visitors with Patient    Age  Admission_Deposit  \n",
       "0                      2  51-60             4911.0  \n",
       "1                      2  51-60             5954.0  "
      ]
     },
     "execution_count": 92,
     "metadata": {},
     "output_type": "execute_result"
    }
   ],
   "source": [
    "patient_cat.head(2)"
   ]
  },
  {
   "cell_type": "code",
   "execution_count": 93,
   "metadata": {
    "ExecuteTime": {
     "end_time": "2020-09-04T16:53:48.850037Z",
     "start_time": "2020-09-04T16:53:48.182768Z"
    }
   },
   "outputs": [],
   "source": [
    "le = LabelEncoder()\n",
    "\n",
    "for i in ['Type of Admission', 'Severity of Illness', 'Age', 'City_Code_Patient']:\n",
    "    patient_cat[i] = le.fit_transform(patient_cat[i])"
   ]
  },
  {
   "cell_type": "code",
   "execution_count": 94,
   "metadata": {
    "ExecuteTime": {
     "end_time": "2020-09-04T16:53:48.866041Z",
     "start_time": "2020-09-04T16:53:48.853032Z"
    }
   },
   "outputs": [],
   "source": [
    "# cost = []\n",
    "# K = range(1, 6)\n",
    "# for num_clusters in list(K):\n",
    "#     kmode = KModes(n_clusters=num_clusters, init = \"Cao\", n_init = 1, verbose=1)\n",
    "#     kmode.fit_predict(patient_cat.drop('case_id', axis=1))\n",
    "#     cost.append(kmode.cost_)\n",
    "    \n",
    "# plt.plot(K, cost, 'bx-')\n",
    "# plt.xlabel('k clusters')\n",
    "# plt.ylabel('Cost')\n",
    "# plt.title('Elbow Method For Optimal k')\n",
    "# plt.show()"
   ]
  },
  {
   "cell_type": "code",
   "execution_count": 95,
   "metadata": {
    "ExecuteTime": {
     "end_time": "2020-09-04T16:56:09.255771Z",
     "start_time": "2020-09-04T16:53:48.868990Z"
    }
   },
   "outputs": [
    {
     "name": "stdout",
     "output_type": "stream",
     "text": [
      "Init: initializing centroids\n",
      "Init: initializing clusters\n",
      "Starting iterations...\n",
      "Run 1, iteration: 1/100, moves: 0, cost: 1333475.0\n"
     ]
    }
   ],
   "source": [
    "km_cao = KModes(n_clusters=10, init = \"Cao\", n_init = 1, verbose=1)\n",
    "fitClusters_cao_patient = km_cao.fit_predict(patient_cat.drop('case_id', axis=1))"
   ]
  },
  {
   "cell_type": "code",
   "execution_count": 96,
   "metadata": {
    "ExecuteTime": {
     "end_time": "2020-09-04T16:56:09.334610Z",
     "start_time": "2020-09-04T16:56:09.258766Z"
    }
   },
   "outputs": [],
   "source": [
    "patient_cat['patient_category'] = fitClusters_cao_patient"
   ]
  },
  {
   "cell_type": "code",
   "execution_count": 97,
   "metadata": {
    "ExecuteTime": {
     "end_time": "2020-09-04T16:56:12.919028Z",
     "start_time": "2020-09-04T16:56:09.339550Z"
    }
   },
   "outputs": [],
   "source": [
    "df_all = pd.merge(df_all, hospital_cat[['case_id', 'hospitalization_category']], on=['case_id'], how='left').drop_duplicates()\n",
    "df_all = pd.merge(df_all, patient_cat[['case_id', 'patient_category']], on=['case_id'], how='left').drop_duplicates()"
   ]
  },
  {
   "cell_type": "code",
   "execution_count": 98,
   "metadata": {
    "ExecuteTime": {
     "end_time": "2020-09-04T16:56:12.934930Z",
     "start_time": "2020-09-04T16:56:12.922967Z"
    }
   },
   "outputs": [],
   "source": [
    "df_all.reset_index(drop=True, inplace=True)"
   ]
  },
  {
   "cell_type": "code",
   "execution_count": 99,
   "metadata": {
    "ExecuteTime": {
     "end_time": "2020-09-04T16:56:12.998893Z",
     "start_time": "2020-09-04T16:56:12.939960Z"
    }
   },
   "outputs": [
    {
     "data": {
      "text/html": [
       "<div>\n",
       "<style scoped>\n",
       "    .dataframe tbody tr th:only-of-type {\n",
       "        vertical-align: middle;\n",
       "    }\n",
       "\n",
       "    .dataframe tbody tr th {\n",
       "        vertical-align: top;\n",
       "    }\n",
       "\n",
       "    .dataframe thead th {\n",
       "        text-align: right;\n",
       "    }\n",
       "</style>\n",
       "<table border=\"1\" class=\"dataframe\">\n",
       "  <thead>\n",
       "    <tr style=\"text-align: right;\">\n",
       "      <th></th>\n",
       "      <th>case_id</th>\n",
       "      <th>Hospital_code</th>\n",
       "      <th>Hospital_type_code</th>\n",
       "      <th>City_Code_Hospital</th>\n",
       "      <th>Hospital_region_code</th>\n",
       "      <th>Available Extra Rooms in Hospital</th>\n",
       "      <th>Department</th>\n",
       "      <th>Ward_Type</th>\n",
       "      <th>Ward_Facility_Code</th>\n",
       "      <th>Bed Grade</th>\n",
       "      <th>...</th>\n",
       "      <th>City_Code_Patient</th>\n",
       "      <th>Type of Admission</th>\n",
       "      <th>Severity of Illness</th>\n",
       "      <th>Visitors with Patient</th>\n",
       "      <th>Age</th>\n",
       "      <th>Admission_Deposit</th>\n",
       "      <th>n_time</th>\n",
       "      <th>patient_count</th>\n",
       "      <th>hospitalization_category</th>\n",
       "      <th>patient_category</th>\n",
       "    </tr>\n",
       "  </thead>\n",
       "  <tbody>\n",
       "    <tr>\n",
       "      <th>0</th>\n",
       "      <td>1</td>\n",
       "      <td>8</td>\n",
       "      <td>c</td>\n",
       "      <td>3</td>\n",
       "      <td>Z</td>\n",
       "      <td>3</td>\n",
       "      <td>radiotherapy</td>\n",
       "      <td>R</td>\n",
       "      <td>F</td>\n",
       "      <td>2.0</td>\n",
       "      <td>...</td>\n",
       "      <td>7.0</td>\n",
       "      <td>Emergency</td>\n",
       "      <td>Extreme</td>\n",
       "      <td>2</td>\n",
       "      <td>51-60</td>\n",
       "      <td>4911.0</td>\n",
       "      <td>1</td>\n",
       "      <td>56.0</td>\n",
       "      <td>4.0</td>\n",
       "      <td>4</td>\n",
       "    </tr>\n",
       "    <tr>\n",
       "      <th>1</th>\n",
       "      <td>2</td>\n",
       "      <td>2</td>\n",
       "      <td>c</td>\n",
       "      <td>5</td>\n",
       "      <td>Z</td>\n",
       "      <td>2</td>\n",
       "      <td>radiotherapy</td>\n",
       "      <td>S</td>\n",
       "      <td>F</td>\n",
       "      <td>2.0</td>\n",
       "      <td>...</td>\n",
       "      <td>7.0</td>\n",
       "      <td>Trauma</td>\n",
       "      <td>Extreme</td>\n",
       "      <td>2</td>\n",
       "      <td>51-60</td>\n",
       "      <td>5954.0</td>\n",
       "      <td>2</td>\n",
       "      <td>134.0</td>\n",
       "      <td>3.0</td>\n",
       "      <td>7</td>\n",
       "    </tr>\n",
       "  </tbody>\n",
       "</table>\n",
       "<p>2 rows × 21 columns</p>\n",
       "</div>"
      ],
      "text/plain": [
       "   case_id  Hospital_code Hospital_type_code  City_Code_Hospital  \\\n",
       "0        1              8                  c                   3   \n",
       "1        2              2                  c                   5   \n",
       "\n",
       "  Hospital_region_code  Available Extra Rooms in Hospital    Department  \\\n",
       "0                    Z                                  3  radiotherapy   \n",
       "1                    Z                                  2  radiotherapy   \n",
       "\n",
       "  Ward_Type Ward_Facility_Code  Bed Grade        ...         \\\n",
       "0         R                  F        2.0        ...          \n",
       "1         S                  F        2.0        ...          \n",
       "\n",
       "   City_Code_Patient  Type of Admission Severity of Illness  \\\n",
       "0                7.0          Emergency             Extreme   \n",
       "1                7.0             Trauma             Extreme   \n",
       "\n",
       "  Visitors with Patient    Age Admission_Deposit  n_time  patient_count  \\\n",
       "0                     2  51-60            4911.0       1           56.0   \n",
       "1                     2  51-60            5954.0       2          134.0   \n",
       "\n",
       "   hospitalization_category  patient_category  \n",
       "0                       4.0                 4  \n",
       "1                       3.0                 7  \n",
       "\n",
       "[2 rows x 21 columns]"
      ]
     },
     "execution_count": 99,
     "metadata": {},
     "output_type": "execute_result"
    }
   ],
   "source": [
    "df_all.head(2)"
   ]
  },
  {
   "cell_type": "code",
   "execution_count": 100,
   "metadata": {
    "ExecuteTime": {
     "end_time": "2020-09-04T16:56:13.014741Z",
     "start_time": "2020-09-04T16:56:13.003748Z"
    }
   },
   "outputs": [],
   "source": [
    "# df_all.to_csv('entire_train_test_with_features.csv', index=False)"
   ]
  },
  {
   "cell_type": "code",
   "execution_count": 101,
   "metadata": {
    "ExecuteTime": {
     "end_time": "2020-09-04T16:56:14.870806Z",
     "start_time": "2020-09-04T16:56:13.017716Z"
    }
   },
   "outputs": [
    {
     "data": {
      "text/plain": [
       "case_id                              455495\n",
       "Hospital_code                            32\n",
       "Hospital_type_code                        7\n",
       "City_Code_Hospital                       11\n",
       "Hospital_region_code                      3\n",
       "Available Extra Rooms in Hospital        18\n",
       "Department                                5\n",
       "Ward_Type                                 6\n",
       "Ward_Facility_Code                        6\n",
       "Bed Grade                                 4\n",
       "patientid                            131624\n",
       "City_Code_Patient                        37\n",
       "Type of Admission                         3\n",
       "Severity of Illness                       3\n",
       "Visitors with Patient                    29\n",
       "Age                                      10\n",
       "Admission_Deposit                      7634\n",
       "n_time                                   50\n",
       "patient_count                           443\n",
       "hospitalization_category                 10\n",
       "patient_category                         10\n",
       "dtype: int64"
      ]
     },
     "execution_count": 101,
     "metadata": {},
     "output_type": "execute_result"
    }
   ],
   "source": [
    "df_all.nunique()"
   ]
  },
  {
   "cell_type": "code",
   "execution_count": 102,
   "metadata": {
    "ExecuteTime": {
     "end_time": "2020-09-04T16:56:14.886713Z",
     "start_time": "2020-09-04T16:56:14.873749Z"
    }
   },
   "outputs": [
    {
     "data": {
      "text/plain": [
       "Index(['case_id', 'Hospital_code', 'Hospital_type_code', 'City_Code_Hospital',\n",
       "       'Hospital_region_code', 'Available Extra Rooms in Hospital',\n",
       "       'Department', 'Ward_Type', 'Ward_Facility_Code', 'Bed Grade',\n",
       "       'patientid', 'City_Code_Patient', 'Type of Admission',\n",
       "       'Severity of Illness', 'Visitors with Patient', 'Age',\n",
       "       'Admission_Deposit', 'n_time', 'patient_count',\n",
       "       'hospitalization_category', 'patient_category'],\n",
       "      dtype='object')"
      ]
     },
     "execution_count": 102,
     "metadata": {},
     "output_type": "execute_result"
    }
   ],
   "source": [
    "df_all.columns"
   ]
  },
  {
   "cell_type": "code",
   "execution_count": 103,
   "metadata": {
    "ExecuteTime": {
     "end_time": "2020-09-04T16:56:14.902670Z",
     "start_time": "2020-09-04T16:56:14.889707Z"
    }
   },
   "outputs": [
    {
     "data": {
      "text/plain": [
       "(455495, 21)"
      ]
     },
     "execution_count": 103,
     "metadata": {},
     "output_type": "execute_result"
    }
   ],
   "source": [
    "df_all.shape"
   ]
  },
  {
   "cell_type": "code",
   "execution_count": 104,
   "metadata": {
    "ExecuteTime": {
     "end_time": "2020-09-04T16:56:15.726476Z",
     "start_time": "2020-09-04T16:56:14.905664Z"
    }
   },
   "outputs": [],
   "source": [
    "df_all['City_Code_Hospital'] = df_all['City_Code_Hospital'].astype(str)\n",
    "df_all['City_Code_Patient'] = df_all['City_Code_Patient'].astype(str)"
   ]
  },
  {
   "cell_type": "code",
   "execution_count": 105,
   "metadata": {
    "ExecuteTime": {
     "end_time": "2020-09-04T16:57:19.184349Z",
     "start_time": "2020-09-04T16:56:15.734452Z"
    }
   },
   "outputs": [],
   "source": [
    "df_all['change_in_admission_deposit'] = df_all.groupby('patientid')['Admission_Deposit'].diff(1)\n",
    "df_all['change_in_visitor_with_patient'] = df_all.groupby('patientid')['Visitors with Patient'].diff(1)"
   ]
  },
  {
   "cell_type": "code",
   "execution_count": 106,
   "metadata": {
    "ExecuteTime": {
     "end_time": "2020-09-04T16:57:19.215266Z",
     "start_time": "2020-09-04T16:57:19.188297Z"
    }
   },
   "outputs": [],
   "source": [
    "df_all['change_in_admission_deposit'].fillna(0, inplace=True)\n",
    "df_all['change_in_visitor_with_patient'].fillna(0, inplace=True)"
   ]
  },
  {
   "cell_type": "code",
   "execution_count": 107,
   "metadata": {
    "ExecuteTime": {
     "end_time": "2020-09-04T16:57:20.090974Z",
     "start_time": "2020-09-04T16:57:19.219212Z"
    }
   },
   "outputs": [],
   "source": [
    "df_all['min_age'] = df_all['Age'].apply(lambda x: x.split('-')[0])\n",
    "df_all['min_age'] = df_all['min_age'].astype(int)\n",
    "df_all['min_age'] = np.where(df_all['min_age'] == 0, 1, df_all['min_age'])\n",
    "\n",
    "df_all['max_age'] = df_all['Age'].apply(lambda x: x.split('-')[1])\n",
    "df_all['max_age'] = df_all['max_age'].astype(int)"
   ]
  },
  {
   "cell_type": "code",
   "execution_count": 108,
   "metadata": {
    "ExecuteTime": {
     "end_time": "2020-09-04T16:57:20.138753Z",
     "start_time": "2020-09-04T16:57:20.093876Z"
    }
   },
   "outputs": [
    {
     "data": {
      "text/html": [
       "<div>\n",
       "<style scoped>\n",
       "    .dataframe tbody tr th:only-of-type {\n",
       "        vertical-align: middle;\n",
       "    }\n",
       "\n",
       "    .dataframe tbody tr th {\n",
       "        vertical-align: top;\n",
       "    }\n",
       "\n",
       "    .dataframe thead th {\n",
       "        text-align: right;\n",
       "    }\n",
       "</style>\n",
       "<table border=\"1\" class=\"dataframe\">\n",
       "  <thead>\n",
       "    <tr style=\"text-align: right;\">\n",
       "      <th></th>\n",
       "      <th>case_id</th>\n",
       "      <th>Hospital_code</th>\n",
       "      <th>Hospital_type_code</th>\n",
       "      <th>City_Code_Hospital</th>\n",
       "      <th>Hospital_region_code</th>\n",
       "      <th>Available Extra Rooms in Hospital</th>\n",
       "      <th>Department</th>\n",
       "      <th>Ward_Type</th>\n",
       "      <th>Ward_Facility_Code</th>\n",
       "      <th>Bed Grade</th>\n",
       "      <th>...</th>\n",
       "      <th>Age</th>\n",
       "      <th>Admission_Deposit</th>\n",
       "      <th>n_time</th>\n",
       "      <th>patient_count</th>\n",
       "      <th>hospitalization_category</th>\n",
       "      <th>patient_category</th>\n",
       "      <th>change_in_admission_deposit</th>\n",
       "      <th>change_in_visitor_with_patient</th>\n",
       "      <th>min_age</th>\n",
       "      <th>max_age</th>\n",
       "    </tr>\n",
       "  </thead>\n",
       "  <tbody>\n",
       "    <tr>\n",
       "      <th>0</th>\n",
       "      <td>1</td>\n",
       "      <td>8</td>\n",
       "      <td>c</td>\n",
       "      <td>3</td>\n",
       "      <td>Z</td>\n",
       "      <td>3</td>\n",
       "      <td>radiotherapy</td>\n",
       "      <td>R</td>\n",
       "      <td>F</td>\n",
       "      <td>2.0</td>\n",
       "      <td>...</td>\n",
       "      <td>51-60</td>\n",
       "      <td>4911.0</td>\n",
       "      <td>1</td>\n",
       "      <td>56.0</td>\n",
       "      <td>4.0</td>\n",
       "      <td>4</td>\n",
       "      <td>0.0</td>\n",
       "      <td>0.0</td>\n",
       "      <td>51</td>\n",
       "      <td>60</td>\n",
       "    </tr>\n",
       "    <tr>\n",
       "      <th>1</th>\n",
       "      <td>2</td>\n",
       "      <td>2</td>\n",
       "      <td>c</td>\n",
       "      <td>5</td>\n",
       "      <td>Z</td>\n",
       "      <td>2</td>\n",
       "      <td>radiotherapy</td>\n",
       "      <td>S</td>\n",
       "      <td>F</td>\n",
       "      <td>2.0</td>\n",
       "      <td>...</td>\n",
       "      <td>51-60</td>\n",
       "      <td>5954.0</td>\n",
       "      <td>2</td>\n",
       "      <td>134.0</td>\n",
       "      <td>3.0</td>\n",
       "      <td>7</td>\n",
       "      <td>1043.0</td>\n",
       "      <td>0.0</td>\n",
       "      <td>51</td>\n",
       "      <td>60</td>\n",
       "    </tr>\n",
       "  </tbody>\n",
       "</table>\n",
       "<p>2 rows × 25 columns</p>\n",
       "</div>"
      ],
      "text/plain": [
       "   case_id  Hospital_code Hospital_type_code City_Code_Hospital  \\\n",
       "0        1              8                  c                  3   \n",
       "1        2              2                  c                  5   \n",
       "\n",
       "  Hospital_region_code  Available Extra Rooms in Hospital    Department  \\\n",
       "0                    Z                                  3  radiotherapy   \n",
       "1                    Z                                  2  radiotherapy   \n",
       "\n",
       "  Ward_Type Ward_Facility_Code  Bed Grade   ...       Age Admission_Deposit  \\\n",
       "0         R                  F        2.0   ...     51-60            4911.0   \n",
       "1         S                  F        2.0   ...     51-60            5954.0   \n",
       "\n",
       "  n_time patient_count  hospitalization_category patient_category  \\\n",
       "0      1          56.0                       4.0                4   \n",
       "1      2         134.0                       3.0                7   \n",
       "\n",
       "   change_in_admission_deposit  change_in_visitor_with_patient  min_age  \\\n",
       "0                          0.0                             0.0       51   \n",
       "1                       1043.0                             0.0       51   \n",
       "\n",
       "   max_age  \n",
       "0       60  \n",
       "1       60  \n",
       "\n",
       "[2 rows x 25 columns]"
      ]
     },
     "execution_count": 108,
     "metadata": {},
     "output_type": "execute_result"
    }
   ],
   "source": [
    "df_all.head(2)"
   ]
  },
  {
   "cell_type": "code",
   "execution_count": 109,
   "metadata": {
    "ExecuteTime": {
     "end_time": "2020-09-04T16:57:20.154711Z",
     "start_time": "2020-09-04T16:57:20.141747Z"
    }
   },
   "outputs": [
    {
     "data": {
      "text/plain": [
       "Index(['case_id', 'Hospital_code', 'Hospital_type_code', 'City_Code_Hospital',\n",
       "       'Hospital_region_code', 'Available Extra Rooms in Hospital',\n",
       "       'Department', 'Ward_Type', 'Ward_Facility_Code', 'Bed Grade',\n",
       "       'patientid', 'City_Code_Patient', 'Type of Admission',\n",
       "       'Severity of Illness', 'Visitors with Patient', 'Age',\n",
       "       'Admission_Deposit', 'n_time', 'patient_count',\n",
       "       'hospitalization_category', 'patient_category',\n",
       "       'change_in_admission_deposit', 'change_in_visitor_with_patient',\n",
       "       'min_age', 'max_age'],\n",
       "      dtype='object')"
      ]
     },
     "execution_count": 109,
     "metadata": {},
     "output_type": "execute_result"
    }
   ],
   "source": [
    "df_all.columns"
   ]
  },
  {
   "cell_type": "code",
   "execution_count": 110,
   "metadata": {
    "ExecuteTime": {
     "end_time": "2020-09-04T16:57:22.139454Z",
     "start_time": "2020-09-04T16:57:20.157702Z"
    }
   },
   "outputs": [
    {
     "data": {
      "text/plain": [
       "case_id                              455495\n",
       "Hospital_code                            32\n",
       "Hospital_type_code                        7\n",
       "City_Code_Hospital                       11\n",
       "Hospital_region_code                      3\n",
       "Available Extra Rooms in Hospital        18\n",
       "Department                                5\n",
       "Ward_Type                                 6\n",
       "Ward_Facility_Code                        6\n",
       "Bed Grade                                 4\n",
       "patientid                            131624\n",
       "City_Code_Patient                        37\n",
       "Type of Admission                         3\n",
       "Severity of Illness                       3\n",
       "Visitors with Patient                    29\n",
       "Age                                      10\n",
       "Admission_Deposit                      7634\n",
       "n_time                                   50\n",
       "patient_count                           443\n",
       "hospitalization_category                 10\n",
       "patient_category                         10\n",
       "change_in_admission_deposit           10482\n",
       "change_in_visitor_with_patient           56\n",
       "min_age                                  10\n",
       "max_age                                  10\n",
       "dtype: int64"
      ]
     },
     "execution_count": 110,
     "metadata": {},
     "output_type": "execute_result"
    }
   ],
   "source": [
    "df_all.nunique()"
   ]
  },
  {
   "cell_type": "code",
   "execution_count": 111,
   "metadata": {
    "ExecuteTime": {
     "end_time": "2020-09-04T16:57:22.506428Z",
     "start_time": "2020-09-04T16:57:22.142398Z"
    }
   },
   "outputs": [],
   "source": [
    "df_all['n_time_hospital'] = df_all.groupby(['patientid', 'Hospital_code', 'Hospital_type_code', 'City_Code_Hospital', 'Hospital_region_code'])\\\n",
    "['patientid'].cumcount() + 1"
   ]
  },
  {
   "cell_type": "code",
   "execution_count": 112,
   "metadata": {
    "ExecuteTime": {
     "end_time": "2020-09-04T16:57:22.873532Z",
     "start_time": "2020-09-04T16:57:22.509417Z"
    }
   },
   "outputs": [],
   "source": [
    "df_all['n_time_hospital_bed'] = df_all.groupby(['patientid', 'Hospital_code', 'City_Code_Hospital', 'Hospital_region_code'])\\\n",
    "['Bed Grade'].cumcount() + 1"
   ]
  },
  {
   "cell_type": "code",
   "execution_count": 113,
   "metadata": {
    "ExecuteTime": {
     "end_time": "2020-09-04T16:57:23.156832Z",
     "start_time": "2020-09-04T16:57:22.876435Z"
    }
   },
   "outputs": [],
   "source": [
    "df_all['n_time_dept'] = df_all.groupby(['patientid', 'Department'])\\\n",
    "['Department'].cumcount() + 1"
   ]
  },
  {
   "cell_type": "code",
   "execution_count": 114,
   "metadata": {
    "ExecuteTime": {
     "end_time": "2020-09-04T16:57:23.459964Z",
     "start_time": "2020-09-04T16:57:23.159678Z"
    }
   },
   "outputs": [],
   "source": [
    "df_all['n_time_admission'] = df_all.groupby(['patientid', 'City_Code_Hospital'])['City_Code_Hospital'].cumcount()+1"
   ]
  },
  {
   "cell_type": "code",
   "execution_count": 115,
   "metadata": {
    "ExecuteTime": {
     "end_time": "2020-09-04T16:57:23.731145Z",
     "start_time": "2020-09-04T16:57:23.463865Z"
    }
   },
   "outputs": [],
   "source": [
    "df_all['n_time_city'] = df_all.groupby(['patientid', 'City_Code_Patient'])['City_Code_Patient'].cumcount()+1"
   ]
  },
  {
   "cell_type": "code",
   "execution_count": 116,
   "metadata": {
    "ExecuteTime": {
     "end_time": "2020-09-04T16:57:54.044203Z",
     "start_time": "2020-09-04T16:57:23.734141Z"
    }
   },
   "outputs": [],
   "source": [
    "df_all['change_in_admissionrooms'] = df_all.groupby('patientid')['Available Extra Rooms in Hospital'].diff(1)\n",
    "df_all['change_in_admissionrooms'].fillna(0, inplace=True)"
   ]
  },
  {
   "cell_type": "code",
   "execution_count": 117,
   "metadata": {
    "ExecuteTime": {
     "end_time": "2020-09-04T16:57:54.201756Z",
     "start_time": "2020-09-04T16:57:54.047079Z"
    }
   },
   "outputs": [],
   "source": [
    "df_all['n_time_dept_hostype'] = df_all.groupby(['Hospital_type_code', 'Department'])\\\n",
    "['Department'].cumcount() + 1"
   ]
  },
  {
   "cell_type": "code",
   "execution_count": 118,
   "metadata": {
    "ExecuteTime": {
     "end_time": "2020-09-04T16:57:54.312412Z",
     "start_time": "2020-09-04T16:57:54.204658Z"
    }
   },
   "outputs": [],
   "source": [
    "df_all_prefeat = df_all.copy()\n",
    "\n",
    "# df_all_prefeat = df_all_prefeat.to_csv('preprocess_entire_features.csv', index=False) "
   ]
  },
  {
   "cell_type": "code",
   "execution_count": 119,
   "metadata": {
    "ExecuteTime": {
     "end_time": "2020-09-04T16:57:54.327368Z",
     "start_time": "2020-09-04T16:57:54.315399Z"
    }
   },
   "outputs": [
    {
     "data": {
      "text/plain": [
       "(455495, 32)"
      ]
     },
     "execution_count": 119,
     "metadata": {},
     "output_type": "execute_result"
    }
   ],
   "source": [
    "df_all.shape"
   ]
  },
  {
   "cell_type": "code",
   "execution_count": 120,
   "metadata": {
    "ExecuteTime": {
     "end_time": "2020-09-04T16:57:54.343284Z",
     "start_time": "2020-09-04T16:57:54.330322Z"
    }
   },
   "outputs": [
    {
     "data": {
      "text/plain": [
       "(455495, 32)"
      ]
     },
     "execution_count": 120,
     "metadata": {},
     "output_type": "execute_result"
    }
   ],
   "source": [
    "df_all.shape"
   ]
  },
  {
   "cell_type": "code",
   "execution_count": 121,
   "metadata": {
    "ExecuteTime": {
     "end_time": "2020-09-04T16:57:58.257905Z",
     "start_time": "2020-09-04T16:57:54.346276Z"
    }
   },
   "outputs": [],
   "source": [
    "for i in ['Hospital_code', 'Hospital_type_code', 'City_Code_Hospital',\n",
    "       'Hospital_region_code', 'Department', 'Ward_Type', 'Ward_Facility_Code', 'Bed Grade', 'City_Code_Patient', 'Type of Admission',\n",
    "       'Severity of Illness']:\n",
    "    df_all = pd.concat([df_all, pd.get_dummies(df_all[i], prefix=i+'_')],axis=1)"
   ]
  },
  {
   "cell_type": "code",
   "execution_count": 122,
   "metadata": {
    "ExecuteTime": {
     "end_time": "2020-09-04T16:57:58.541153Z",
     "start_time": "2020-09-04T16:57:58.260811Z"
    }
   },
   "outputs": [],
   "source": [
    "df_all_bp = df_all.copy()"
   ]
  },
  {
   "cell_type": "code",
   "execution_count": 123,
   "metadata": {
    "ExecuteTime": {
     "end_time": "2020-09-04T16:57:58.681830Z",
     "start_time": "2020-09-04T16:57:58.545048Z"
    }
   },
   "outputs": [],
   "source": [
    "df_all.drop(['case_id', 'patientid', 'Hospital_code', 'Hospital_type_code', 'City_Code_Hospital', \n",
    "       'Hospital_region_code', 'Department', 'Ward_Type', 'Ward_Facility_Code', 'Bed Grade', 'City_Code_Patient', 'Type of Admission',\n",
    "       'Severity of Illness', 'Age'], axis=1, inplace=True)"
   ]
  },
  {
   "cell_type": "code",
   "execution_count": 124,
   "metadata": {
    "ExecuteTime": {
     "end_time": "2020-09-04T16:57:58.728604Z",
     "start_time": "2020-09-04T16:57:58.684677Z"
    }
   },
   "outputs": [
    {
     "data": {
      "text/html": [
       "<div>\n",
       "<style scoped>\n",
       "    .dataframe tbody tr th:only-of-type {\n",
       "        vertical-align: middle;\n",
       "    }\n",
       "\n",
       "    .dataframe tbody tr th {\n",
       "        vertical-align: top;\n",
       "    }\n",
       "\n",
       "    .dataframe thead th {\n",
       "        text-align: right;\n",
       "    }\n",
       "</style>\n",
       "<table border=\"1\" class=\"dataframe\">\n",
       "  <thead>\n",
       "    <tr style=\"text-align: right;\">\n",
       "      <th></th>\n",
       "      <th>Available Extra Rooms in Hospital</th>\n",
       "      <th>Visitors with Patient</th>\n",
       "      <th>Admission_Deposit</th>\n",
       "      <th>n_time</th>\n",
       "      <th>patient_count</th>\n",
       "      <th>hospitalization_category</th>\n",
       "      <th>patient_category</th>\n",
       "      <th>change_in_admission_deposit</th>\n",
       "      <th>change_in_visitor_with_patient</th>\n",
       "      <th>min_age</th>\n",
       "      <th>...</th>\n",
       "      <th>City_Code_Patient__6.0</th>\n",
       "      <th>City_Code_Patient__7.0</th>\n",
       "      <th>City_Code_Patient__8.0</th>\n",
       "      <th>City_Code_Patient__9.0</th>\n",
       "      <th>Type of Admission__Emergency</th>\n",
       "      <th>Type of Admission__Trauma</th>\n",
       "      <th>Type of Admission__Urgent</th>\n",
       "      <th>Severity of Illness__Extreme</th>\n",
       "      <th>Severity of Illness__Minor</th>\n",
       "      <th>Severity of Illness__Moderate</th>\n",
       "    </tr>\n",
       "  </thead>\n",
       "  <tbody>\n",
       "    <tr>\n",
       "      <th>0</th>\n",
       "      <td>3</td>\n",
       "      <td>2</td>\n",
       "      <td>4911.0</td>\n",
       "      <td>1</td>\n",
       "      <td>56.0</td>\n",
       "      <td>4.0</td>\n",
       "      <td>4</td>\n",
       "      <td>0.0</td>\n",
       "      <td>0.0</td>\n",
       "      <td>51</td>\n",
       "      <td>...</td>\n",
       "      <td>0</td>\n",
       "      <td>1</td>\n",
       "      <td>0</td>\n",
       "      <td>0</td>\n",
       "      <td>1</td>\n",
       "      <td>0</td>\n",
       "      <td>0</td>\n",
       "      <td>1</td>\n",
       "      <td>0</td>\n",
       "      <td>0</td>\n",
       "    </tr>\n",
       "    <tr>\n",
       "      <th>1</th>\n",
       "      <td>2</td>\n",
       "      <td>2</td>\n",
       "      <td>5954.0</td>\n",
       "      <td>2</td>\n",
       "      <td>134.0</td>\n",
       "      <td>3.0</td>\n",
       "      <td>7</td>\n",
       "      <td>1043.0</td>\n",
       "      <td>0.0</td>\n",
       "      <td>51</td>\n",
       "      <td>...</td>\n",
       "      <td>0</td>\n",
       "      <td>1</td>\n",
       "      <td>0</td>\n",
       "      <td>0</td>\n",
       "      <td>0</td>\n",
       "      <td>1</td>\n",
       "      <td>0</td>\n",
       "      <td>1</td>\n",
       "      <td>0</td>\n",
       "      <td>0</td>\n",
       "    </tr>\n",
       "  </tbody>\n",
       "</table>\n",
       "<p>2 rows × 135 columns</p>\n",
       "</div>"
      ],
      "text/plain": [
       "   Available Extra Rooms in Hospital  Visitors with Patient  \\\n",
       "0                                  3                      2   \n",
       "1                                  2                      2   \n",
       "\n",
       "   Admission_Deposit  n_time  patient_count  hospitalization_category  \\\n",
       "0             4911.0       1           56.0                       4.0   \n",
       "1             5954.0       2          134.0                       3.0   \n",
       "\n",
       "   patient_category  change_in_admission_deposit  \\\n",
       "0                 4                          0.0   \n",
       "1                 7                       1043.0   \n",
       "\n",
       "   change_in_visitor_with_patient  min_age              ...                \\\n",
       "0                             0.0       51              ...                 \n",
       "1                             0.0       51              ...                 \n",
       "\n",
       "   City_Code_Patient__6.0  City_Code_Patient__7.0  City_Code_Patient__8.0  \\\n",
       "0                       0                       1                       0   \n",
       "1                       0                       1                       0   \n",
       "\n",
       "   City_Code_Patient__9.0  Type of Admission__Emergency  \\\n",
       "0                       0                             1   \n",
       "1                       0                             0   \n",
       "\n",
       "   Type of Admission__Trauma  Type of Admission__Urgent  \\\n",
       "0                          0                          0   \n",
       "1                          1                          0   \n",
       "\n",
       "   Severity of Illness__Extreme  Severity of Illness__Minor  \\\n",
       "0                             1                           0   \n",
       "1                             1                           0   \n",
       "\n",
       "   Severity of Illness__Moderate  \n",
       "0                              0  \n",
       "1                              0  \n",
       "\n",
       "[2 rows x 135 columns]"
      ]
     },
     "execution_count": 124,
     "metadata": {},
     "output_type": "execute_result"
    }
   ],
   "source": [
    "df_all.head(2)"
   ]
  },
  {
   "cell_type": "code",
   "execution_count": null,
   "metadata": {
    "ExecuteTime": {
     "start_time": "2020-09-04T17:02:46.682Z"
    }
   },
   "outputs": [],
   "source": [
    "train = df_all[:train_backup_fin.shape[0]]\n",
    "test = df_all[train_backup_fin.shape[0]:]"
   ]
  },
  {
   "cell_type": "code",
   "execution_count": null,
   "metadata": {
    "ExecuteTime": {
     "start_time": "2020-09-04T17:02:47.727Z"
    }
   },
   "outputs": [],
   "source": [
    "X_train, X_test, y_train, y_test = train_test_split(train, y, stratify=y, test_size=0.3, random_state=0)"
   ]
  },
  {
   "cell_type": "code",
   "execution_count": null,
   "metadata": {
    "ExecuteTime": {
     "start_time": "2020-09-04T17:02:30.266Z"
    },
    "scrolled": true
   },
   "outputs": [],
   "source": [
    "lgbm = lgb.LGBMClassifier(n_estimators=200)\n",
    "\n",
    "lgbm.fit(X_train, y_train)"
   ]
  },
  {
   "cell_type": "code",
   "execution_count": 128,
   "metadata": {
    "ExecuteTime": {
     "end_time": "2020-09-04T16:59:15.006142Z",
     "start_time": "2020-09-04T16:58:52.680792Z"
    }
   },
   "outputs": [],
   "source": [
    "train_preds = lgbm.predict(X_train)\n",
    "val_preds = lgbm.predict(X_test)"
   ]
  },
  {
   "cell_type": "code",
   "execution_count": 129,
   "metadata": {
    "ExecuteTime": {
     "end_time": "2020-09-04T16:59:15.562691Z",
     "start_time": "2020-09-04T16:59:15.008090Z"
    }
   },
   "outputs": [
    {
     "data": {
      "text/plain": [
       "0.4625716669807004"
      ]
     },
     "execution_count": 129,
     "metadata": {},
     "output_type": "execute_result"
    }
   ],
   "source": [
    "accuracy_score(y_train, train_preds)"
   ]
  },
  {
   "cell_type": "code",
   "execution_count": 130,
   "metadata": {
    "ExecuteTime": {
     "end_time": "2020-09-04T16:59:15.800017Z",
     "start_time": "2020-09-04T16:59:15.566596Z"
    }
   },
   "outputs": [
    {
     "data": {
      "text/plain": [
       "0.4327869195662187"
      ]
     },
     "execution_count": 130,
     "metadata": {},
     "output_type": "execute_result"
    }
   ],
   "source": [
    "accuracy_score(y_test, val_preds)"
   ]
  },
  {
   "cell_type": "code",
   "execution_count": 131,
   "metadata": {
    "ExecuteTime": {
     "end_time": "2020-09-04T16:59:17.103519Z",
     "start_time": "2020-09-04T16:59:15.802964Z"
    }
   },
   "outputs": [
    {
     "data": {
      "image/png": "[encoded data removed]",
      "text/plain": [
       "<Figure size 2880x1440 with 1 Axes>"
      ]
     },
     "metadata": {
      "needs_background": "light"
     },
     "output_type": "display_data"
    }
   ],
   "source": [
    "plotImp(lgbm, train, num=25)"
   ]
  },
  {
   "cell_type": "code",
   "execution_count": 132,
   "metadata": {
    "ExecuteTime": {
     "end_time": "2020-09-04T16:59:32.011888Z",
     "start_time": "2020-09-04T16:59:31.949049Z"
    }
   },
   "outputs": [],
   "source": [
    "train['Stay'] = y_backup_fin"
   ]
  },
  {
   "cell_type": "code",
   "execution_count": 133,
   "metadata": {
    "ExecuteTime": {
     "end_time": "2020-09-04T16:59:32.281164Z",
     "start_time": "2020-09-04T16:59:32.203372Z"
    }
   },
   "outputs": [
    {
     "data": {
      "text/plain": [
       "21-30                 87491\n",
       "11-20                 78139\n",
       "31-40                 55159\n",
       "51-60                 35018\n",
       "0-10                  23604\n",
       "41-50                 11743\n",
       "71-80                 10254\n",
       "More than 100 Days     6683\n",
       "81-90                  4838\n",
       "91-100                 2765\n",
       "61-70                  2744\n",
       "Name: Stay, dtype: int64"
      ]
     },
     "execution_count": 133,
     "metadata": {},
     "output_type": "execute_result"
    }
   ],
   "source": [
    "train['Stay'].value_counts()"
   ]
  },
  {
   "cell_type": "code",
   "execution_count": 134,
   "metadata": {
    "ExecuteTime": {
     "end_time": "2020-09-04T16:59:33.075043Z",
     "start_time": "2020-09-04T16:59:32.448706Z"
    },
    "scrolled": true
   },
   "outputs": [],
   "source": [
    "# train_fine = train[~train['Stay'].isin(['91-100', '61-70'])]\n",
    "# train_low1 = train[train['Stay'] == '61-70']\n",
    "# train_low2 = train[train['Stay'] == '91-100']\n",
    "\n",
    "# train = pd.concat([train_fine, train_low1, train_low1, train_low1, train_low2, train_low2, train_low2], ignore_index=True)"
   ]
  },
  {
   "cell_type": "code",
   "execution_count": 135,
   "metadata": {
    "ExecuteTime": {
     "end_time": "2020-09-04T16:59:33.202753Z",
     "start_time": "2020-09-04T16:59:33.077993Z"
    }
   },
   "outputs": [],
   "source": [
    "# y = train['Stay']\n",
    "# train.drop('Stay', axis=1, inplace=True)"
   ]
  },
  {
   "cell_type": "code",
   "execution_count": 136,
   "metadata": {
    "ExecuteTime": {
     "end_time": "2020-09-04T17:00:58.768434Z",
     "start_time": "2020-09-04T16:59:33.742847Z"
    }
   },
   "outputs": [
    {
     "data": {
      "text/plain": [
       "LGBMClassifier(n_estimators=200)"
      ]
     },
     "execution_count": 136,
     "metadata": {},
     "output_type": "execute_result"
    }
   ],
   "source": [
    "# lgbm.fit(train, y)"
   ]
  },
  {
   "cell_type": "code",
   "execution_count": 137,
   "metadata": {
    "ExecuteTime": {
     "end_time": "2020-09-04T17:01:09.308291Z",
     "start_time": "2020-09-04T17:00:58.774418Z"
    }
   },
   "outputs": [],
   "source": [
    "preds = lgbm.predict(test)"
   ]
  },
  {
   "cell_type": "code",
   "execution_count": 138,
   "metadata": {
    "ExecuteTime": {
     "end_time": "2020-09-04T17:01:09.324225Z",
     "start_time": "2020-09-04T17:01:09.311240Z"
    }
   },
   "outputs": [],
   "source": [
    "test = df_all_bp[-test_backup_fin.shape[0]:]"
   ]
  },
  {
   "cell_type": "code",
   "execution_count": 139,
   "metadata": {
    "ExecuteTime": {
     "end_time": "2020-09-04T17:01:09.388035Z",
     "start_time": "2020-09-04T17:01:09.328200Z"
    }
   },
   "outputs": [],
   "source": [
    "test['Stay'] = preds"
   ]
  },
  {
   "cell_type": "code",
   "execution_count": 140,
   "metadata": {
    "ExecuteTime": {
     "end_time": "2020-09-04T17:01:10.051356Z",
     "start_time": "2020-09-04T17:01:09.394019Z"
    }
   },
   "outputs": [],
   "source": [
    "test[['case_id', 'Stay']].to_csv('lgb_baseline.csv', index=False)"
   ]
  },
  {
   "cell_type": "code",
   "execution_count": null,
   "metadata": {},
   "outputs": [],
   "source": []
  }
 ],
 "metadata": {
  "hide_input": false,
  "kernelspec": {
   "display_name": "Python 3",
   "language": "python",
   "name": "python3"
  },
  "language_info": {
   "codemirror_mode": {
    "name": "ipython",
    "version": 3
   },
   "file_extension": ".py",
   "mimetype": "text/x-python",
   "name": "python",
   "nbconvert_exporter": "python",
   "pygments_lexer": "ipython3",
   "version": "3.7.0"
  },
  "toc": {
   "base_numbering": 1,
   "nav_menu": {},
   "number_sections": true,
   "sideBar": true,
   "skip_h1_title": false,
   "title_cell": "Table of Contents",
   "title_sidebar": "Contents",
   "toc_cell": false,
   "toc_position": {},
   "toc_section_display": true,
   "toc_window_display": false
  }
 },
 "nbformat": 4,
 "nbformat_minor": 2
}
