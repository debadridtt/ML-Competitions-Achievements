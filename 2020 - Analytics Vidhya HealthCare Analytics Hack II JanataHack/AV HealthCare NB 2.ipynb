{
 "cells": [
  {
   "cell_type": "code",
   "execution_count": 1,
   "metadata": {
    "ExecuteTime": {
     "end_time": "2020-09-04T17:54:43.701852Z",
     "start_time": "2020-09-04T17:54:42.841114Z"
    }
   },
   "outputs": [],
   "source": [
    "import pandas as pd\n",
    "import numpy as np\n",
    "import warnings\n",
    "warnings.filterwarnings('ignore')"
   ]
  },
  {
   "cell_type": "code",
   "execution_count": 2,
   "metadata": {
    "ExecuteTime": {
     "end_time": "2020-09-04T17:54:46.001680Z",
     "start_time": "2020-09-04T17:54:43.704807Z"
    }
   },
   "outputs": [
    {
     "data": {
      "text/html": [
       "<div>\n",
       "<style scoped>\n",
       "    .dataframe tbody tr th:only-of-type {\n",
       "        vertical-align: middle;\n",
       "    }\n",
       "\n",
       "    .dataframe tbody tr th {\n",
       "        vertical-align: top;\n",
       "    }\n",
       "\n",
       "    .dataframe thead th {\n",
       "        text-align: right;\n",
       "    }\n",
       "</style>\n",
       "<table border=\"1\" class=\"dataframe\">\n",
       "  <thead>\n",
       "    <tr style=\"text-align: right;\">\n",
       "      <th></th>\n",
       "      <th>case_id</th>\n",
       "      <th>Hospital_code</th>\n",
       "      <th>Hospital_type_code</th>\n",
       "      <th>City_Code_Hospital</th>\n",
       "      <th>Hospital_region_code</th>\n",
       "      <th>Available Extra Rooms in Hospital</th>\n",
       "      <th>Department</th>\n",
       "      <th>Ward_Type</th>\n",
       "      <th>Ward_Facility_Code</th>\n",
       "      <th>Bed Grade</th>\n",
       "      <th>patientid</th>\n",
       "      <th>City_Code_Patient</th>\n",
       "      <th>Type of Admission</th>\n",
       "      <th>Severity of Illness</th>\n",
       "      <th>Visitors with Patient</th>\n",
       "      <th>Age</th>\n",
       "      <th>Admission_Deposit</th>\n",
       "      <th>Stay</th>\n",
       "    </tr>\n",
       "  </thead>\n",
       "  <tbody>\n",
       "    <tr>\n",
       "      <th>0</th>\n",
       "      <td>1</td>\n",
       "      <td>8</td>\n",
       "      <td>c</td>\n",
       "      <td>3</td>\n",
       "      <td>Z</td>\n",
       "      <td>3</td>\n",
       "      <td>radiotherapy</td>\n",
       "      <td>R</td>\n",
       "      <td>F</td>\n",
       "      <td>2.0</td>\n",
       "      <td>31397</td>\n",
       "      <td>7.0</td>\n",
       "      <td>Emergency</td>\n",
       "      <td>Extreme</td>\n",
       "      <td>2</td>\n",
       "      <td>51-60</td>\n",
       "      <td>4911.0</td>\n",
       "      <td>0-10</td>\n",
       "    </tr>\n",
       "    <tr>\n",
       "      <th>1</th>\n",
       "      <td>2</td>\n",
       "      <td>2</td>\n",
       "      <td>c</td>\n",
       "      <td>5</td>\n",
       "      <td>Z</td>\n",
       "      <td>2</td>\n",
       "      <td>radiotherapy</td>\n",
       "      <td>S</td>\n",
       "      <td>F</td>\n",
       "      <td>2.0</td>\n",
       "      <td>31397</td>\n",
       "      <td>7.0</td>\n",
       "      <td>Trauma</td>\n",
       "      <td>Extreme</td>\n",
       "      <td>2</td>\n",
       "      <td>51-60</td>\n",
       "      <td>5954.0</td>\n",
       "      <td>41-50</td>\n",
       "    </tr>\n",
       "  </tbody>\n",
       "</table>\n",
       "</div>"
      ],
      "text/plain": [
       "   case_id  Hospital_code Hospital_type_code  City_Code_Hospital  \\\n",
       "0        1              8                  c                   3   \n",
       "1        2              2                  c                   5   \n",
       "\n",
       "  Hospital_region_code  Available Extra Rooms in Hospital    Department  \\\n",
       "0                    Z                                  3  radiotherapy   \n",
       "1                    Z                                  2  radiotherapy   \n",
       "\n",
       "  Ward_Type Ward_Facility_Code  Bed Grade  patientid  City_Code_Patient  \\\n",
       "0         R                  F        2.0      31397                7.0   \n",
       "1         S                  F        2.0      31397                7.0   \n",
       "\n",
       "  Type of Admission Severity of Illness  Visitors with Patient    Age  \\\n",
       "0         Emergency             Extreme                      2  51-60   \n",
       "1            Trauma             Extreme                      2  51-60   \n",
       "\n",
       "   Admission_Deposit   Stay  \n",
       "0             4911.0   0-10  \n",
       "1             5954.0  41-50  "
      ]
     },
     "execution_count": 2,
     "metadata": {},
     "output_type": "execute_result"
    }
   ],
   "source": [
    "train = pd.read_csv('train.csv')\n",
    "train_backup = train.copy()\n",
    "y = train['Stay']\n",
    "train.head(2)"
   ]
  },
  {
   "cell_type": "code",
   "execution_count": 3,
   "metadata": {
    "ExecuteTime": {
     "end_time": "2020-09-04T17:54:47.004990Z",
     "start_time": "2020-09-04T17:54:46.003618Z"
    }
   },
   "outputs": [
    {
     "data": {
      "text/html": [
       "<div>\n",
       "<style scoped>\n",
       "    .dataframe tbody tr th:only-of-type {\n",
       "        vertical-align: middle;\n",
       "    }\n",
       "\n",
       "    .dataframe tbody tr th {\n",
       "        vertical-align: top;\n",
       "    }\n",
       "\n",
       "    .dataframe thead th {\n",
       "        text-align: right;\n",
       "    }\n",
       "</style>\n",
       "<table border=\"1\" class=\"dataframe\">\n",
       "  <thead>\n",
       "    <tr style=\"text-align: right;\">\n",
       "      <th></th>\n",
       "      <th>case_id</th>\n",
       "      <th>Hospital_code</th>\n",
       "      <th>Hospital_type_code</th>\n",
       "      <th>City_Code_Hospital</th>\n",
       "      <th>Hospital_region_code</th>\n",
       "      <th>Available Extra Rooms in Hospital</th>\n",
       "      <th>Department</th>\n",
       "      <th>Ward_Type</th>\n",
       "      <th>Ward_Facility_Code</th>\n",
       "      <th>Bed Grade</th>\n",
       "      <th>patientid</th>\n",
       "      <th>City_Code_Patient</th>\n",
       "      <th>Type of Admission</th>\n",
       "      <th>Severity of Illness</th>\n",
       "      <th>Visitors with Patient</th>\n",
       "      <th>Age</th>\n",
       "      <th>Admission_Deposit</th>\n",
       "    </tr>\n",
       "  </thead>\n",
       "  <tbody>\n",
       "    <tr>\n",
       "      <th>0</th>\n",
       "      <td>318439</td>\n",
       "      <td>21</td>\n",
       "      <td>c</td>\n",
       "      <td>3</td>\n",
       "      <td>Z</td>\n",
       "      <td>3</td>\n",
       "      <td>gynecology</td>\n",
       "      <td>S</td>\n",
       "      <td>A</td>\n",
       "      <td>2.0</td>\n",
       "      <td>17006</td>\n",
       "      <td>2.0</td>\n",
       "      <td>Emergency</td>\n",
       "      <td>Moderate</td>\n",
       "      <td>2</td>\n",
       "      <td>71-80</td>\n",
       "      <td>3095.0</td>\n",
       "    </tr>\n",
       "    <tr>\n",
       "      <th>1</th>\n",
       "      <td>318440</td>\n",
       "      <td>29</td>\n",
       "      <td>a</td>\n",
       "      <td>4</td>\n",
       "      <td>X</td>\n",
       "      <td>2</td>\n",
       "      <td>gynecology</td>\n",
       "      <td>S</td>\n",
       "      <td>F</td>\n",
       "      <td>2.0</td>\n",
       "      <td>17006</td>\n",
       "      <td>2.0</td>\n",
       "      <td>Trauma</td>\n",
       "      <td>Moderate</td>\n",
       "      <td>4</td>\n",
       "      <td>71-80</td>\n",
       "      <td>4018.0</td>\n",
       "    </tr>\n",
       "  </tbody>\n",
       "</table>\n",
       "</div>"
      ],
      "text/plain": [
       "   case_id  Hospital_code Hospital_type_code  City_Code_Hospital  \\\n",
       "0   318439             21                  c                   3   \n",
       "1   318440             29                  a                   4   \n",
       "\n",
       "  Hospital_region_code  Available Extra Rooms in Hospital  Department  \\\n",
       "0                    Z                                  3  gynecology   \n",
       "1                    X                                  2  gynecology   \n",
       "\n",
       "  Ward_Type Ward_Facility_Code  Bed Grade  patientid  City_Code_Patient  \\\n",
       "0         S                  A        2.0      17006                2.0   \n",
       "1         S                  F        2.0      17006                2.0   \n",
       "\n",
       "  Type of Admission Severity of Illness  Visitors with Patient    Age  \\\n",
       "0         Emergency            Moderate                      2  71-80   \n",
       "1            Trauma            Moderate                      4  71-80   \n",
       "\n",
       "   Admission_Deposit  \n",
       "0             3095.0  \n",
       "1             4018.0  "
      ]
     },
     "execution_count": 3,
     "metadata": {},
     "output_type": "execute_result"
    }
   ],
   "source": [
    "test = pd.read_csv('test.csv')\n",
    "test_backup = test.copy() \n",
    "test.head(2)"
   ]
  },
  {
   "cell_type": "code",
   "execution_count": 4,
   "metadata": {
    "ExecuteTime": {
     "end_time": "2020-09-04T17:54:52.798490Z",
     "start_time": "2020-09-04T17:54:47.007968Z"
    },
    "scrolled": false
   },
   "outputs": [
    {
     "data": {
      "text/html": [
       "<div>\n",
       "<style scoped>\n",
       "    .dataframe tbody tr th:only-of-type {\n",
       "        vertical-align: middle;\n",
       "    }\n",
       "\n",
       "    .dataframe tbody tr th {\n",
       "        vertical-align: top;\n",
       "    }\n",
       "\n",
       "    .dataframe thead th {\n",
       "        text-align: right;\n",
       "    }\n",
       "</style>\n",
       "<table border=\"1\" class=\"dataframe\">\n",
       "  <thead>\n",
       "    <tr style=\"text-align: right;\">\n",
       "      <th></th>\n",
       "      <th>case_id</th>\n",
       "      <th>Hospital_code</th>\n",
       "      <th>Hospital_type_code</th>\n",
       "      <th>City_Code_Hospital</th>\n",
       "      <th>Hospital_region_code</th>\n",
       "      <th>Available Extra Rooms in Hospital</th>\n",
       "      <th>Department</th>\n",
       "      <th>Ward_Type</th>\n",
       "      <th>Ward_Facility_Code</th>\n",
       "      <th>Bed Grade</th>\n",
       "      <th>...</th>\n",
       "      <th>Age</th>\n",
       "      <th>Admission_Deposit</th>\n",
       "      <th>n_time</th>\n",
       "      <th>patient_count</th>\n",
       "      <th>hospitalization_category</th>\n",
       "      <th>patient_category</th>\n",
       "      <th>change_in_admission_deposit</th>\n",
       "      <th>change_in_visitor_with_patient</th>\n",
       "      <th>min_age</th>\n",
       "      <th>max_age</th>\n",
       "    </tr>\n",
       "  </thead>\n",
       "  <tbody>\n",
       "    <tr>\n",
       "      <th>0</th>\n",
       "      <td>1</td>\n",
       "      <td>8</td>\n",
       "      <td>c</td>\n",
       "      <td>3</td>\n",
       "      <td>Z</td>\n",
       "      <td>3</td>\n",
       "      <td>radiotherapy</td>\n",
       "      <td>R</td>\n",
       "      <td>F</td>\n",
       "      <td>2.0</td>\n",
       "      <td>...</td>\n",
       "      <td>51-60</td>\n",
       "      <td>4911.0</td>\n",
       "      <td>1</td>\n",
       "      <td>56.0</td>\n",
       "      <td>4.0</td>\n",
       "      <td>4</td>\n",
       "      <td>0.0</td>\n",
       "      <td>0.0</td>\n",
       "      <td>51</td>\n",
       "      <td>60</td>\n",
       "    </tr>\n",
       "    <tr>\n",
       "      <th>1</th>\n",
       "      <td>2</td>\n",
       "      <td>2</td>\n",
       "      <td>c</td>\n",
       "      <td>5</td>\n",
       "      <td>Z</td>\n",
       "      <td>2</td>\n",
       "      <td>radiotherapy</td>\n",
       "      <td>S</td>\n",
       "      <td>F</td>\n",
       "      <td>2.0</td>\n",
       "      <td>...</td>\n",
       "      <td>51-60</td>\n",
       "      <td>5954.0</td>\n",
       "      <td>2</td>\n",
       "      <td>134.0</td>\n",
       "      <td>3.0</td>\n",
       "      <td>7</td>\n",
       "      <td>1043.0</td>\n",
       "      <td>0.0</td>\n",
       "      <td>51</td>\n",
       "      <td>60</td>\n",
       "    </tr>\n",
       "  </tbody>\n",
       "</table>\n",
       "<p>2 rows × 25 columns</p>\n",
       "</div>"
      ],
      "text/plain": [
       "   case_id  Hospital_code Hospital_type_code  City_Code_Hospital  \\\n",
       "0        1              8                  c                   3   \n",
       "1        2              2                  c                   5   \n",
       "\n",
       "  Hospital_region_code  Available Extra Rooms in Hospital    Department  \\\n",
       "0                    Z                                  3  radiotherapy   \n",
       "1                    Z                                  2  radiotherapy   \n",
       "\n",
       "  Ward_Type Ward_Facility_Code  Bed Grade   ...       Age  Admission_Deposit  \\\n",
       "0         R                  F        2.0   ...     51-60             4911.0   \n",
       "1         S                  F        2.0   ...     51-60             5954.0   \n",
       "\n",
       "  n_time patient_count  hospitalization_category patient_category  \\\n",
       "0      1          56.0                       4.0                4   \n",
       "1      2         134.0                       3.0                7   \n",
       "\n",
       "   change_in_admission_deposit  change_in_visitor_with_patient  min_age  \\\n",
       "0                          0.0                             0.0       51   \n",
       "1                       1043.0                             0.0       51   \n",
       "\n",
       "   max_age  \n",
       "0       60  \n",
       "1       60  \n",
       "\n",
       "[2 rows x 25 columns]"
      ]
     },
     "execution_count": 4,
     "metadata": {},
     "output_type": "execute_result"
    }
   ],
   "source": [
    "df_all = pd.read_csv('preprocess_entire_features.csv')\n",
    "df_all.head(2)"
   ]
  },
  {
   "cell_type": "code",
   "execution_count": 5,
   "metadata": {
    "ExecuteTime": {
     "end_time": "2020-09-04T17:54:52.926108Z",
     "start_time": "2020-09-04T17:54:52.801475Z"
    }
   },
   "outputs": [
    {
     "data": {
      "text/plain": [
       "gynecology            356688\n",
       "anesthesia             42358\n",
       "radiotherapy           41033\n",
       "TB & Chest disease     13751\n",
       "surgery                 1665\n",
       "Name: Department, dtype: int64"
      ]
     },
     "execution_count": 5,
     "metadata": {},
     "output_type": "execute_result"
    }
   ],
   "source": [
    "df_all['Department'].value_counts()"
   ]
  },
  {
   "cell_type": "code",
   "execution_count": 6,
   "metadata": {
    "ExecuteTime": {
     "end_time": "2020-09-04T17:54:53.065784Z",
     "start_time": "2020-09-04T17:54:52.930094Z"
    }
   },
   "outputs": [
    {
     "data": {
      "text/plain": [
       "41-50     91495\n",
       "31-40     90420\n",
       "51-60     69506\n",
       "21-30     58560\n",
       "71-80     50737\n",
       "61-70     48619\n",
       "11-20     23871\n",
       "81-90     11240\n",
       "0-10       9140\n",
       "91-100     1907\n",
       "Name: Age, dtype: int64"
      ]
     },
     "execution_count": 6,
     "metadata": {},
     "output_type": "execute_result"
    }
   ],
   "source": [
    "df_all['Age'].value_counts()"
   ]
  },
  {
   "cell_type": "code",
   "execution_count": 7,
   "metadata": {
    "ExecuteTime": {
     "end_time": "2020-09-04T17:54:53.081689Z",
     "start_time": "2020-09-04T17:54:53.068723Z"
    }
   },
   "outputs": [
    {
     "data": {
      "text/plain": [
       "Index(['case_id', 'Hospital_code', 'Hospital_type_code', 'City_Code_Hospital',\n",
       "       'Hospital_region_code', 'Available Extra Rooms in Hospital',\n",
       "       'Department', 'Ward_Type', 'Ward_Facility_Code', 'Bed Grade',\n",
       "       'patientid', 'City_Code_Patient', 'Type of Admission',\n",
       "       'Severity of Illness', 'Visitors with Patient', 'Age',\n",
       "       'Admission_Deposit', 'n_time', 'patient_count',\n",
       "       'hospitalization_category', 'patient_category',\n",
       "       'change_in_admission_deposit', 'change_in_visitor_with_patient',\n",
       "       'min_age', 'max_age'],\n",
       "      dtype='object')"
      ]
     },
     "execution_count": 7,
     "metadata": {},
     "output_type": "execute_result"
    }
   ],
   "source": [
    "df_all.columns"
   ]
  },
  {
   "cell_type": "code",
   "execution_count": 8,
   "metadata": {
    "ExecuteTime": {
     "end_time": "2020-09-04T17:54:53.129604Z",
     "start_time": "2020-09-04T17:54:53.085677Z"
    }
   },
   "outputs": [
    {
     "data": {
      "text/plain": [
       "2.0    176451\n",
       "3.0    159090\n",
       "4.0     82387\n",
       "1.0     37567\n",
       "Name: Bed Grade, dtype: int64"
      ]
     },
     "execution_count": 8,
     "metadata": {},
     "output_type": "execute_result"
    }
   ],
   "source": [
    "df_all['Bed Grade'].value_counts()"
   ]
  },
  {
   "cell_type": "code",
   "execution_count": 9,
   "metadata": {
    "ExecuteTime": {
     "end_time": "2020-09-04T17:54:53.222339Z",
     "start_time": "2020-09-04T17:54:53.133550Z"
    }
   },
   "outputs": [],
   "source": [
    "df_all['Gender_Female'] = np.where(df_all['Department'] == 'gynecology', 1, 0)"
   ]
  },
  {
   "cell_type": "code",
   "execution_count": 10,
   "metadata": {
    "ExecuteTime": {
     "end_time": "2020-09-04T17:54:53.269237Z",
     "start_time": "2020-09-04T17:54:53.225305Z"
    }
   },
   "outputs": [
    {
     "data": {
      "text/plain": [
       "1    356688\n",
       "0     98807\n",
       "Name: Gender_Female, dtype: int64"
      ]
     },
     "execution_count": 10,
     "metadata": {},
     "output_type": "execute_result"
    }
   ],
   "source": [
    "df_all['Gender_Female'].value_counts()"
   ]
  },
  {
   "cell_type": "code",
   "execution_count": 11,
   "metadata": {
    "ExecuteTime": {
     "end_time": "2020-09-04T17:54:53.380932Z",
     "start_time": "2020-09-04T17:54:53.272214Z"
    },
    "scrolled": true
   },
   "outputs": [
    {
     "data": {
      "text/plain": [
       "R    182939\n",
       "Q    152046\n",
       "S    111166\n",
       "P      7199\n",
       "T      2133\n",
       "U        12\n",
       "Name: Ward_Type, dtype: int64"
      ]
     },
     "execution_count": 11,
     "metadata": {},
     "output_type": "execute_result"
    }
   ],
   "source": [
    "df_all['Ward_Type'].value_counts()"
   ]
  },
  {
   "cell_type": "code",
   "execution_count": 12,
   "metadata": {
    "ExecuteTime": {
     "end_time": "2020-09-04T17:54:53.490716Z",
     "start_time": "2020-09-04T17:54:53.383880Z"
    }
   },
   "outputs": [
    {
     "data": {
      "text/plain": [
       "F    161470\n",
       "E     79058\n",
       "D     74312\n",
       "C     50279\n",
       "B     50116\n",
       "A     40260\n",
       "Name: Ward_Facility_Code, dtype: int64"
      ]
     },
     "execution_count": 12,
     "metadata": {},
     "output_type": "execute_result"
    }
   ],
   "source": [
    "df_all['Ward_Facility_Code'].value_counts()"
   ]
  },
  {
   "cell_type": "code",
   "execution_count": 13,
   "metadata": {
    "ExecuteTime": {
     "end_time": "2020-09-04T17:54:53.570423Z",
     "start_time": "2020-09-04T17:54:53.494623Z"
    }
   },
   "outputs": [
    {
     "data": {
      "text/html": [
       "<div>\n",
       "<style scoped>\n",
       "    .dataframe tbody tr th:only-of-type {\n",
       "        vertical-align: middle;\n",
       "    }\n",
       "\n",
       "    .dataframe tbody tr th {\n",
       "        vertical-align: top;\n",
       "    }\n",
       "\n",
       "    .dataframe thead th {\n",
       "        text-align: right;\n",
       "    }\n",
       "</style>\n",
       "<table border=\"1\" class=\"dataframe\">\n",
       "  <thead>\n",
       "    <tr style=\"text-align: right;\">\n",
       "      <th></th>\n",
       "      <th>case_id</th>\n",
       "      <th>Hospital_code</th>\n",
       "      <th>Hospital_type_code</th>\n",
       "      <th>City_Code_Hospital</th>\n",
       "      <th>Hospital_region_code</th>\n",
       "      <th>Available Extra Rooms in Hospital</th>\n",
       "      <th>Department</th>\n",
       "      <th>Ward_Type</th>\n",
       "      <th>Ward_Facility_Code</th>\n",
       "      <th>Bed Grade</th>\n",
       "      <th>...</th>\n",
       "      <th>Admission_Deposit</th>\n",
       "      <th>n_time</th>\n",
       "      <th>patient_count</th>\n",
       "      <th>hospitalization_category</th>\n",
       "      <th>patient_category</th>\n",
       "      <th>change_in_admission_deposit</th>\n",
       "      <th>change_in_visitor_with_patient</th>\n",
       "      <th>min_age</th>\n",
       "      <th>max_age</th>\n",
       "      <th>Gender_Female</th>\n",
       "    </tr>\n",
       "  </thead>\n",
       "  <tbody>\n",
       "    <tr>\n",
       "      <th>0</th>\n",
       "      <td>1</td>\n",
       "      <td>8</td>\n",
       "      <td>c</td>\n",
       "      <td>3</td>\n",
       "      <td>Z</td>\n",
       "      <td>3</td>\n",
       "      <td>radiotherapy</td>\n",
       "      <td>R</td>\n",
       "      <td>F</td>\n",
       "      <td>2.0</td>\n",
       "      <td>...</td>\n",
       "      <td>4911.0</td>\n",
       "      <td>1</td>\n",
       "      <td>56.0</td>\n",
       "      <td>4.0</td>\n",
       "      <td>4</td>\n",
       "      <td>0.0</td>\n",
       "      <td>0.0</td>\n",
       "      <td>51</td>\n",
       "      <td>60</td>\n",
       "      <td>0</td>\n",
       "    </tr>\n",
       "  </tbody>\n",
       "</table>\n",
       "<p>1 rows × 26 columns</p>\n",
       "</div>"
      ],
      "text/plain": [
       "   case_id  Hospital_code Hospital_type_code  City_Code_Hospital  \\\n",
       "0        1              8                  c                   3   \n",
       "\n",
       "  Hospital_region_code  Available Extra Rooms in Hospital    Department  \\\n",
       "0                    Z                                  3  radiotherapy   \n",
       "\n",
       "  Ward_Type Ward_Facility_Code  Bed Grade      ...        Admission_Deposit  \\\n",
       "0         R                  F        2.0      ...                   4911.0   \n",
       "\n",
       "   n_time patient_count hospitalization_category  patient_category  \\\n",
       "0       1          56.0                      4.0                 4   \n",
       "\n",
       "  change_in_admission_deposit  change_in_visitor_with_patient  min_age  \\\n",
       "0                         0.0                             0.0       51   \n",
       "\n",
       "   max_age  Gender_Female  \n",
       "0       60              0  \n",
       "\n",
       "[1 rows x 26 columns]"
      ]
     },
     "execution_count": 13,
     "metadata": {},
     "output_type": "execute_result"
    }
   ],
   "source": [
    "df_all.head(1)"
   ]
  },
  {
   "cell_type": "code",
   "execution_count": 14,
   "metadata": {
    "ExecuteTime": {
     "end_time": "2020-09-04T17:54:53.967414Z",
     "start_time": "2020-09-04T17:54:53.573378Z"
    }
   },
   "outputs": [],
   "source": [
    "df_all['n_time_hospital'] = df_all.groupby(['patientid', 'Hospital_code', 'Hospital_type_code', 'City_Code_Hospital', 'Hospital_region_code'])\\\n",
    "['patientid'].cumcount() + 1"
   ]
  },
  {
   "cell_type": "code",
   "execution_count": 15,
   "metadata": {
    "ExecuteTime": {
     "end_time": "2020-09-04T17:54:54.315477Z",
     "start_time": "2020-09-04T17:54:53.970345Z"
    }
   },
   "outputs": [],
   "source": [
    "df_all['n_time_hospital_bed'] = df_all.groupby(['patientid', 'Hospital_code', 'City_Code_Hospital', 'Hospital_region_code'])\\\n",
    "['Bed Grade'].cumcount() + 1"
   ]
  },
  {
   "cell_type": "code",
   "execution_count": 16,
   "metadata": {
    "ExecuteTime": {
     "end_time": "2020-09-04T17:54:54.618665Z",
     "start_time": "2020-09-04T17:54:54.318381Z"
    }
   },
   "outputs": [],
   "source": [
    "df_all['n_time_dept'] = df_all.groupby(['patientid', 'Department'])\\\n",
    "['Department'].cumcount() + 1"
   ]
  },
  {
   "cell_type": "code",
   "execution_count": 17,
   "metadata": {
    "ExecuteTime": {
     "end_time": "2020-09-04T17:54:54.919863Z",
     "start_time": "2020-09-04T17:54:54.621603Z"
    }
   },
   "outputs": [],
   "source": [
    "df_all['n_time_admission'] = df_all.groupby(['patientid', 'City_Code_Hospital'])['City_Code_Hospital'].cumcount()+1"
   ]
  },
  {
   "cell_type": "code",
   "execution_count": 18,
   "metadata": {
    "ExecuteTime": {
     "end_time": "2020-09-04T17:54:55.175184Z",
     "start_time": "2020-09-04T17:54:54.922765Z"
    }
   },
   "outputs": [],
   "source": [
    "df_all['n_time_city'] = df_all.groupby(['patientid', 'City_Code_Patient'])['City_Code_Patient'].cumcount()+1"
   ]
  },
  {
   "cell_type": "code",
   "execution_count": 19,
   "metadata": {
    "ExecuteTime": {
     "end_time": "2020-09-04T17:55:25.877596Z",
     "start_time": "2020-09-04T17:54:55.178083Z"
    }
   },
   "outputs": [],
   "source": [
    "df_all['change_in_admissionrooms'] = df_all.groupby('patientid')['Available Extra Rooms in Hospital'].diff(1)\n",
    "df_all['change_in_admissionrooms'].fillna(0, inplace=True)"
   ]
  },
  {
   "cell_type": "code",
   "execution_count": 20,
   "metadata": {
    "ExecuteTime": {
     "end_time": "2020-09-04T17:55:26.036181Z",
     "start_time": "2020-09-04T17:55:25.880538Z"
    }
   },
   "outputs": [],
   "source": [
    "df_all['n_time_dept_hostype'] = df_all.groupby(['Hospital_type_code', 'Department'])\\\n",
    "['Department'].cumcount() + 1"
   ]
  },
  {
   "cell_type": "code",
   "execution_count": 21,
   "metadata": {
    "ExecuteTime": {
     "end_time": "2020-09-04T17:55:26.084000Z",
     "start_time": "2020-09-04T17:55:26.039081Z"
    }
   },
   "outputs": [
    {
     "data": {
      "text/plain": [
       "array([     1,      2,      3, ..., 158643, 158644, 158645], dtype=int64)"
      ]
     },
     "execution_count": 21,
     "metadata": {},
     "output_type": "execute_result"
    }
   ],
   "source": [
    "df_all['n_time_dept_hostype'].unique()"
   ]
  },
  {
   "cell_type": "code",
   "execution_count": 22,
   "metadata": {
    "ExecuteTime": {
     "end_time": "2020-09-04T17:55:26.131828Z",
     "start_time": "2020-09-04T17:55:26.087946Z"
    }
   },
   "outputs": [
    {
     "data": {
      "text/html": [
       "<div>\n",
       "<style scoped>\n",
       "    .dataframe tbody tr th:only-of-type {\n",
       "        vertical-align: middle;\n",
       "    }\n",
       "\n",
       "    .dataframe tbody tr th {\n",
       "        vertical-align: top;\n",
       "    }\n",
       "\n",
       "    .dataframe thead th {\n",
       "        text-align: right;\n",
       "    }\n",
       "</style>\n",
       "<table border=\"1\" class=\"dataframe\">\n",
       "  <thead>\n",
       "    <tr style=\"text-align: right;\">\n",
       "      <th></th>\n",
       "      <th>case_id</th>\n",
       "      <th>Hospital_code</th>\n",
       "      <th>Hospital_type_code</th>\n",
       "      <th>City_Code_Hospital</th>\n",
       "      <th>Hospital_region_code</th>\n",
       "      <th>Available Extra Rooms in Hospital</th>\n",
       "      <th>Department</th>\n",
       "      <th>Ward_Type</th>\n",
       "      <th>Ward_Facility_Code</th>\n",
       "      <th>Bed Grade</th>\n",
       "      <th>...</th>\n",
       "      <th>min_age</th>\n",
       "      <th>max_age</th>\n",
       "      <th>Gender_Female</th>\n",
       "      <th>n_time_hospital</th>\n",
       "      <th>n_time_hospital_bed</th>\n",
       "      <th>n_time_dept</th>\n",
       "      <th>n_time_admission</th>\n",
       "      <th>n_time_city</th>\n",
       "      <th>change_in_admissionrooms</th>\n",
       "      <th>n_time_dept_hostype</th>\n",
       "    </tr>\n",
       "  </thead>\n",
       "  <tbody>\n",
       "    <tr>\n",
       "      <th>0</th>\n",
       "      <td>1</td>\n",
       "      <td>8</td>\n",
       "      <td>c</td>\n",
       "      <td>3</td>\n",
       "      <td>Z</td>\n",
       "      <td>3</td>\n",
       "      <td>radiotherapy</td>\n",
       "      <td>R</td>\n",
       "      <td>F</td>\n",
       "      <td>2.0</td>\n",
       "      <td>...</td>\n",
       "      <td>51</td>\n",
       "      <td>60</td>\n",
       "      <td>0</td>\n",
       "      <td>1</td>\n",
       "      <td>1</td>\n",
       "      <td>1</td>\n",
       "      <td>1</td>\n",
       "      <td>1</td>\n",
       "      <td>0.0</td>\n",
       "      <td>1</td>\n",
       "    </tr>\n",
       "    <tr>\n",
       "      <th>1</th>\n",
       "      <td>2</td>\n",
       "      <td>2</td>\n",
       "      <td>c</td>\n",
       "      <td>5</td>\n",
       "      <td>Z</td>\n",
       "      <td>2</td>\n",
       "      <td>radiotherapy</td>\n",
       "      <td>S</td>\n",
       "      <td>F</td>\n",
       "      <td>2.0</td>\n",
       "      <td>...</td>\n",
       "      <td>51</td>\n",
       "      <td>60</td>\n",
       "      <td>0</td>\n",
       "      <td>1</td>\n",
       "      <td>1</td>\n",
       "      <td>2</td>\n",
       "      <td>1</td>\n",
       "      <td>2</td>\n",
       "      <td>-1.0</td>\n",
       "      <td>2</td>\n",
       "    </tr>\n",
       "  </tbody>\n",
       "</table>\n",
       "<p>2 rows × 33 columns</p>\n",
       "</div>"
      ],
      "text/plain": [
       "   case_id  Hospital_code Hospital_type_code  City_Code_Hospital  \\\n",
       "0        1              8                  c                   3   \n",
       "1        2              2                  c                   5   \n",
       "\n",
       "  Hospital_region_code  Available Extra Rooms in Hospital    Department  \\\n",
       "0                    Z                                  3  radiotherapy   \n",
       "1                    Z                                  2  radiotherapy   \n",
       "\n",
       "  Ward_Type Ward_Facility_Code  Bed Grade         ...           min_age  \\\n",
       "0         R                  F        2.0         ...                51   \n",
       "1         S                  F        2.0         ...                51   \n",
       "\n",
       "   max_age Gender_Female n_time_hospital  n_time_hospital_bed n_time_dept  \\\n",
       "0       60             0               1                    1           1   \n",
       "1       60             0               1                    1           2   \n",
       "\n",
       "   n_time_admission  n_time_city  change_in_admissionrooms  \\\n",
       "0                 1            1                       0.0   \n",
       "1                 1            2                      -1.0   \n",
       "\n",
       "   n_time_dept_hostype  \n",
       "0                    1  \n",
       "1                    2  \n",
       "\n",
       "[2 rows x 33 columns]"
      ]
     },
     "execution_count": 22,
     "metadata": {},
     "output_type": "execute_result"
    }
   ],
   "source": [
    "df_all.head(2)"
   ]
  },
  {
   "cell_type": "code",
   "execution_count": 23,
   "metadata": {
    "ExecuteTime": {
     "end_time": "2020-09-04T17:55:26.147829Z",
     "start_time": "2020-09-04T17:55:26.134859Z"
    }
   },
   "outputs": [],
   "source": [
    "# cat_num_feats=pd.DataFrame(np.column_stack([df[m[0]].map(dict(df.groupby(m[0])[m[1]].mean()))\\\n",
    "# for m in [(a,b) for a in cat_cols for b in num_cols]]),\\\n",
    "#          columns=['cat_num_feat'+str(i) for i in range(len(cat_cols)*len(num_cols))])"
   ]
  },
  {
   "cell_type": "code",
   "execution_count": 24,
   "metadata": {
    "ExecuteTime": {
     "end_time": "2020-09-04T17:55:29.901853Z",
     "start_time": "2020-09-04T17:55:26.150778Z"
    },
    "scrolled": true
   },
   "outputs": [],
   "source": [
    "for i in ['Hospital_code', 'Hospital_type_code', 'City_Code_Hospital',\n",
    "       'Hospital_region_code', 'Department', 'Ward_Type', 'Ward_Facility_Code', 'Bed Grade', 'City_Code_Patient', 'Type of Admission',\n",
    "       'Severity of Illness']:\n",
    "    df_all = pd.concat([df_all, pd.get_dummies(df_all[i], prefix=i+'_')],axis=1)"
   ]
  },
  {
   "cell_type": "code",
   "execution_count": 25,
   "metadata": {
    "ExecuteTime": {
     "end_time": "2020-09-04T17:55:30.203029Z",
     "start_time": "2020-09-04T17:55:29.904740Z"
    }
   },
   "outputs": [],
   "source": [
    "df_all.drop(['case_id', 'patientid', 'Hospital_code', 'Hospital_type_code', 'City_Code_Hospital', \n",
    "       'Hospital_region_code', 'Department', 'Ward_Type', 'Ward_Facility_Code', 'Bed Grade', 'City_Code_Patient', 'Type of Admission',\n",
    "       'Severity of Illness', 'Age'], axis=1, inplace=True)"
   ]
  },
  {
   "cell_type": "code",
   "execution_count": 26,
   "metadata": {
    "ExecuteTime": {
     "end_time": "2020-09-04T17:55:30.218898Z",
     "start_time": "2020-09-04T17:55:30.205967Z"
    }
   },
   "outputs": [
    {
     "data": {
      "text/plain": [
       "(455495, 136)"
      ]
     },
     "execution_count": 26,
     "metadata": {},
     "output_type": "execute_result"
    }
   ],
   "source": [
    "df_all.shape"
   ]
  },
  {
   "cell_type": "code",
   "execution_count": 27,
   "metadata": {
    "ExecuteTime": {
     "end_time": "2020-09-04T17:55:30.234856Z",
     "start_time": "2020-09-04T17:55:30.221890Z"
    }
   },
   "outputs": [],
   "source": [
    "train = df_all[:train_backup.shape[0]]\n",
    "test = df_all[train_backup.shape[0]:]"
   ]
  },
  {
   "cell_type": "code",
   "execution_count": 28,
   "metadata": {
    "ExecuteTime": {
     "end_time": "2020-09-04T17:55:30.265775Z",
     "start_time": "2020-09-04T17:55:30.237848Z"
    }
   },
   "outputs": [
    {
     "data": {
      "text/plain": [
       "(318438, 136)"
      ]
     },
     "execution_count": 28,
     "metadata": {},
     "output_type": "execute_result"
    }
   ],
   "source": [
    "train.shape"
   ]
  },
  {
   "cell_type": "code",
   "execution_count": 29,
   "metadata": {
    "ExecuteTime": {
     "end_time": "2020-09-04T17:55:31.618308Z",
     "start_time": "2020-09-04T17:55:30.269763Z"
    }
   },
   "outputs": [],
   "source": [
    "from sklearn.model_selection import train_test_split\n",
    "\n",
    "X_train, X_test, y_train, y_test = train_test_split(train, y, test_size=0.3, random_state=0)"
   ]
  },
  {
   "cell_type": "code",
   "execution_count": 31,
   "metadata": {
    "ExecuteTime": {
     "end_time": "2020-09-04T18:16:23.621852Z",
     "start_time": "2020-09-04T17:55:49.860382Z"
    }
   },
   "outputs": [
    {
     "data": {
      "text/plain": [
       "LinearSVC()"
      ]
     },
     "execution_count": 31,
     "metadata": {},
     "output_type": "execute_result"
    }
   ],
   "source": [
    "from sklearn.svm import LinearSVC\n",
    "\n",
    "lgbm = LinearSVC()\n",
    "\n",
    "lgbm.fit(X_train, y_train)"
   ]
  },
  {
   "cell_type": "code",
   "execution_count": 32,
   "metadata": {
    "ExecuteTime": {
     "end_time": "2020-09-04T18:16:24.047738Z",
     "start_time": "2020-09-04T18:16:23.625805Z"
    }
   },
   "outputs": [],
   "source": [
    "train_preds = lgbm.predict(X_train)\n",
    "val_preds = lgbm.predict(X_test)"
   ]
  },
  {
   "cell_type": "code",
   "execution_count": 33,
   "metadata": {
    "ExecuteTime": {
     "end_time": "2020-09-04T18:16:24.650236Z",
     "start_time": "2020-09-04T18:16:24.051726Z"
    }
   },
   "outputs": [
    {
     "data": {
      "text/plain": [
       "0.2455160471230025"
      ]
     },
     "execution_count": 33,
     "metadata": {},
     "output_type": "execute_result"
    }
   ],
   "source": [
    "from sklearn.metrics import accuracy_score\n",
    "\n",
    "accuracy_score(y_train, train_preds)"
   ]
  },
  {
   "cell_type": "code",
   "execution_count": 34,
   "metadata": {
    "ExecuteTime": {
     "end_time": "2020-09-04T18:16:24.887698Z",
     "start_time": "2020-09-04T18:16:24.654114Z"
    }
   },
   "outputs": [
    {
     "data": {
      "text/plain": [
       "0.2485345224636771"
      ]
     },
     "execution_count": 34,
     "metadata": {},
     "output_type": "execute_result"
    }
   ],
   "source": [
    "accuracy_score(y_test, val_preds)"
   ]
  },
  {
   "cell_type": "code",
   "execution_count": 31,
   "metadata": {
    "ExecuteTime": {
     "end_time": "2020-09-04T04:39:46.076952Z",
     "start_time": "2020-09-04T04:39:46.063976Z"
    }
   },
   "outputs": [],
   "source": [
    "# train = df_all[:train_backup.shape[0]]\n",
    "# test = df_all[train_backup.shape[0]:]"
   ]
  },
  {
   "cell_type": "code",
   "execution_count": 32,
   "metadata": {
    "ExecuteTime": {
     "end_time": "2020-09-04T04:39:46.092910Z",
     "start_time": "2020-09-04T04:39:46.079933Z"
    }
   },
   "outputs": [],
   "source": [
    "# train['Stay'] = y"
   ]
  },
  {
   "cell_type": "code",
   "execution_count": 33,
   "metadata": {
    "ExecuteTime": {
     "end_time": "2020-09-04T04:39:46.108821Z",
     "start_time": "2020-09-04T04:39:46.095886Z"
    },
    "scrolled": true
   },
   "outputs": [],
   "source": [
    "# train_fine = train[~train['Stay'].isin(['91-100', '61-70'])]\n",
    "# train_low1 = train[train['Stay'] == '61-70']\n",
    "# train_low2 = train[train['Stay'] == '91-100']\n",
    "\n",
    "# train = pd.concat([train_fine, train_low1, train_low1, train_low2, train_low2], ignore_index=True)"
   ]
  },
  {
   "cell_type": "code",
   "execution_count": 34,
   "metadata": {
    "ExecuteTime": {
     "end_time": "2020-09-04T04:39:46.140787Z",
     "start_time": "2020-09-04T04:39:46.111813Z"
    }
   },
   "outputs": [],
   "source": [
    "# train.to_csv('train_best.csv', index=False)\n",
    "# test.to_csv('test_best.csv', index=False)"
   ]
  },
  {
   "cell_type": "code",
   "execution_count": 35,
   "metadata": {
    "ExecuteTime": {
     "end_time": "2020-09-04T04:39:46.156694Z",
     "start_time": "2020-09-04T04:39:46.143764Z"
    }
   },
   "outputs": [],
   "source": [
    "# y = train['Stay']\n",
    "# train.drop('Stay', axis=1, inplace=True)"
   ]
  },
  {
   "cell_type": "code",
   "execution_count": 36,
   "metadata": {
    "ExecuteTime": {
     "end_time": "2020-09-04T04:39:46.172701Z",
     "start_time": "2020-09-04T04:39:46.159688Z"
    }
   },
   "outputs": [],
   "source": [
    "# lgbm = lgb.LGBMClassifier(n_estimators=200, random_state=0)\n",
    "\n",
    "# lgbm.fit(train, y)"
   ]
  },
  {
   "cell_type": "code",
   "execution_count": 37,
   "metadata": {
    "ExecuteTime": {
     "end_time": "2020-09-04T04:39:55.494199Z",
     "start_time": "2020-09-04T04:39:46.175687Z"
    }
   },
   "outputs": [],
   "source": [
    "preds = lgbm.predict(test)"
   ]
  },
  {
   "cell_type": "code",
   "execution_count": 38,
   "metadata": {
    "ExecuteTime": {
     "end_time": "2020-09-04T04:39:55.510146Z",
     "start_time": "2020-09-04T04:39:55.498183Z"
    }
   },
   "outputs": [],
   "source": [
    "test_backup['Stay'] = preds"
   ]
  },
  {
   "cell_type": "code",
   "execution_count": 39,
   "metadata": {
    "ExecuteTime": {
     "end_time": "2020-09-04T04:39:56.114560Z",
     "start_time": "2020-09-04T04:39:55.513178Z"
    }
   },
   "outputs": [],
   "source": [
    "test_backup[['case_id', 'Stay']].to_csv('lgb_baseline.csv', index=False)"
   ]
  },
  {
   "cell_type": "code",
   "execution_count": null,
   "metadata": {},
   "outputs": [],
   "source": []
  }
 ],
 "metadata": {
  "hide_input": false,
  "kernelspec": {
   "display_name": "Python 3",
   "language": "python",
   "name": "python3"
  },
  "language_info": {
   "codemirror_mode": {
    "name": "ipython",
    "version": 3
   },
   "file_extension": ".py",
   "mimetype": "text/x-python",
   "name": "python",
   "nbconvert_exporter": "python",
   "pygments_lexer": "ipython3",
   "version": "3.7.0"
  },
  "toc": {
   "base_numbering": 1,
   "nav_menu": {},
   "number_sections": true,
   "sideBar": true,
   "skip_h1_title": false,
   "title_cell": "Table of Contents",
   "title_sidebar": "Contents",
   "toc_cell": false,
   "toc_position": {},
   "toc_section_display": true,
   "toc_window_display": false
  }
 },
 "nbformat": 4,
 "nbformat_minor": 2
}
