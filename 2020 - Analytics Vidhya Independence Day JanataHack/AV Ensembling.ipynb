{
 "cells": [
  {
   "cell_type": "code",
   "execution_count": 1,
   "metadata": {
    "ExecuteTime": {
     "end_time": "2020-08-23T18:26:03.702903Z",
     "start_time": "2020-08-23T18:26:02.669669Z"
    }
   },
   "outputs": [],
   "source": [
    "import pandas as pd\n",
    "import numpy as np\n",
    "import warnings\n",
    "warnings.filterwarnings('ignore')"
   ]
  },
  {
   "cell_type": "code",
   "execution_count": 2,
   "metadata": {
    "ExecuteTime": {
     "end_time": "2020-08-23T18:26:03.862511Z",
     "start_time": "2020-08-23T18:26:03.705898Z"
    }
   },
   "outputs": [
    {
     "data": {
      "text/html": [
       "<div>\n",
       "<style scoped>\n",
       "    .dataframe tbody tr th:only-of-type {\n",
       "        vertical-align: middle;\n",
       "    }\n",
       "\n",
       "    .dataframe tbody tr th {\n",
       "        vertical-align: top;\n",
       "    }\n",
       "\n",
       "    .dataframe thead th {\n",
       "        text-align: right;\n",
       "    }\n",
       "</style>\n",
       "<table border=\"1\" class=\"dataframe\">\n",
       "  <thead>\n",
       "    <tr style=\"text-align: right;\">\n",
       "      <th></th>\n",
       "      <th>ID</th>\n",
       "      <th>Computer Science</th>\n",
       "      <th>Physics</th>\n",
       "      <th>Mathematics</th>\n",
       "      <th>Statistics</th>\n",
       "      <th>Quantitative Biology</th>\n",
       "      <th>Quantitative Finance</th>\n",
       "    </tr>\n",
       "  </thead>\n",
       "  <tbody>\n",
       "    <tr>\n",
       "      <th>0</th>\n",
       "      <td>20973</td>\n",
       "      <td>0.419476</td>\n",
       "      <td>0.104656</td>\n",
       "      <td>0.408000</td>\n",
       "      <td>0.813944</td>\n",
       "      <td>0.090331</td>\n",
       "      <td>0.079037</td>\n",
       "    </tr>\n",
       "    <tr>\n",
       "      <th>1</th>\n",
       "      <td>20974</td>\n",
       "      <td>0.040021</td>\n",
       "      <td>0.964366</td>\n",
       "      <td>0.035707</td>\n",
       "      <td>0.051682</td>\n",
       "      <td>0.020966</td>\n",
       "      <td>0.020888</td>\n",
       "    </tr>\n",
       "    <tr>\n",
       "      <th>2</th>\n",
       "      <td>20975</td>\n",
       "      <td>0.895150</td>\n",
       "      <td>0.102535</td>\n",
       "      <td>0.234577</td>\n",
       "      <td>0.115487</td>\n",
       "      <td>0.030800</td>\n",
       "      <td>0.035173</td>\n",
       "    </tr>\n",
       "    <tr>\n",
       "      <th>3</th>\n",
       "      <td>20976</td>\n",
       "      <td>0.036645</td>\n",
       "      <td>0.959158</td>\n",
       "      <td>0.032259</td>\n",
       "      <td>0.039896</td>\n",
       "      <td>0.028884</td>\n",
       "      <td>0.021676</td>\n",
       "    </tr>\n",
       "    <tr>\n",
       "      <th>4</th>\n",
       "      <td>20977</td>\n",
       "      <td>0.912465</td>\n",
       "      <td>0.096289</td>\n",
       "      <td>0.253912</td>\n",
       "      <td>0.075876</td>\n",
       "      <td>0.028660</td>\n",
       "      <td>0.037610</td>\n",
       "    </tr>\n",
       "  </tbody>\n",
       "</table>\n",
       "</div>"
      ],
      "text/plain": [
       "      ID  Computer Science   Physics  Mathematics  Statistics  \\\n",
       "0  20973          0.419476  0.104656     0.408000    0.813944   \n",
       "1  20974          0.040021  0.964366     0.035707    0.051682   \n",
       "2  20975          0.895150  0.102535     0.234577    0.115487   \n",
       "3  20976          0.036645  0.959158     0.032259    0.039896   \n",
       "4  20977          0.912465  0.096289     0.253912    0.075876   \n",
       "\n",
       "   Quantitative Biology  Quantitative Finance  \n",
       "0              0.090331              0.079037  \n",
       "1              0.020966              0.020888  \n",
       "2              0.030800              0.035173  \n",
       "3              0.028884              0.021676  \n",
       "4              0.028660              0.037610  "
      ]
     },
     "execution_count": 2,
     "metadata": {},
     "output_type": "execute_result"
    }
   ],
   "source": [
    "df_bert = pd.read_csv('Output Files/submission_probs_bert.csv')\n",
    "df_bert.head()"
   ]
  },
  {
   "cell_type": "code",
   "execution_count": 3,
   "metadata": {
    "ExecuteTime": {
     "end_time": "2020-08-23T18:26:03.973182Z",
     "start_time": "2020-08-23T18:26:03.865468Z"
    }
   },
   "outputs": [
    {
     "data": {
      "text/html": [
       "<div>\n",
       "<style scoped>\n",
       "    .dataframe tbody tr th:only-of-type {\n",
       "        vertical-align: middle;\n",
       "    }\n",
       "\n",
       "    .dataframe tbody tr th {\n",
       "        vertical-align: top;\n",
       "    }\n",
       "\n",
       "    .dataframe thead th {\n",
       "        text-align: right;\n",
       "    }\n",
       "</style>\n",
       "<table border=\"1\" class=\"dataframe\">\n",
       "  <thead>\n",
       "    <tr style=\"text-align: right;\">\n",
       "      <th></th>\n",
       "      <th>0</th>\n",
       "      <th>1</th>\n",
       "      <th>2</th>\n",
       "      <th>3</th>\n",
       "      <th>4</th>\n",
       "      <th>5</th>\n",
       "    </tr>\n",
       "  </thead>\n",
       "  <tbody>\n",
       "    <tr>\n",
       "      <th>0</th>\n",
       "      <td>0.627166</td>\n",
       "      <td>0.004963</td>\n",
       "      <td>0.219607</td>\n",
       "      <td>0.981550</td>\n",
       "      <td>0.004264</td>\n",
       "      <td>0.003214</td>\n",
       "    </tr>\n",
       "    <tr>\n",
       "      <th>1</th>\n",
       "      <td>0.007799</td>\n",
       "      <td>0.996992</td>\n",
       "      <td>0.011145</td>\n",
       "      <td>0.006290</td>\n",
       "      <td>0.007151</td>\n",
       "      <td>0.005450</td>\n",
       "    </tr>\n",
       "    <tr>\n",
       "      <th>2</th>\n",
       "      <td>0.992977</td>\n",
       "      <td>0.022863</td>\n",
       "      <td>0.042320</td>\n",
       "      <td>0.010588</td>\n",
       "      <td>0.007099</td>\n",
       "      <td>0.008368</td>\n",
       "    </tr>\n",
       "    <tr>\n",
       "      <th>3</th>\n",
       "      <td>0.007237</td>\n",
       "      <td>0.996787</td>\n",
       "      <td>0.010212</td>\n",
       "      <td>0.005349</td>\n",
       "      <td>0.008605</td>\n",
       "      <td>0.006122</td>\n",
       "    </tr>\n",
       "    <tr>\n",
       "      <th>4</th>\n",
       "      <td>0.991940</td>\n",
       "      <td>0.047109</td>\n",
       "      <td>0.098162</td>\n",
       "      <td>0.003781</td>\n",
       "      <td>0.007090</td>\n",
       "      <td>0.011946</td>\n",
       "    </tr>\n",
       "  </tbody>\n",
       "</table>\n",
       "</div>"
      ],
      "text/plain": [
       "          0         1         2         3         4         5\n",
       "0  0.627166  0.004963  0.219607  0.981550  0.004264  0.003214\n",
       "1  0.007799  0.996992  0.011145  0.006290  0.007151  0.005450\n",
       "2  0.992977  0.022863  0.042320  0.010588  0.007099  0.008368\n",
       "3  0.007237  0.996787  0.010212  0.005349  0.008605  0.006122\n",
       "4  0.991940  0.047109  0.098162  0.003781  0.007090  0.011946"
      ]
     },
     "execution_count": 3,
     "metadata": {},
     "output_type": "execute_result"
    }
   ],
   "source": [
    "df_roberta = pd.read_csv('Output Files/scores_prob_roberta.csv')\n",
    "df_roberta.head()"
   ]
  },
  {
   "cell_type": "code",
   "execution_count": 4,
   "metadata": {
    "ExecuteTime": {
     "end_time": "2020-08-23T18:26:03.988142Z",
     "start_time": "2020-08-23T18:26:03.977169Z"
    }
   },
   "outputs": [],
   "source": [
    "df_roberta.columns = df_bert.columns[1:]"
   ]
  },
  {
   "cell_type": "code",
   "execution_count": 5,
   "metadata": {
    "ExecuteTime": {
     "end_time": "2020-08-23T18:26:04.034019Z",
     "start_time": "2020-08-23T18:26:03.992131Z"
    }
   },
   "outputs": [],
   "source": [
    "df_roberta['ID'] = df_bert['ID']"
   ]
  },
  {
   "cell_type": "code",
   "execution_count": 6,
   "metadata": {
    "ExecuteTime": {
     "end_time": "2020-08-23T18:26:04.079893Z",
     "start_time": "2020-08-23T18:26:04.038007Z"
    }
   },
   "outputs": [
    {
     "data": {
      "text/html": [
       "<div>\n",
       "<style scoped>\n",
       "    .dataframe tbody tr th:only-of-type {\n",
       "        vertical-align: middle;\n",
       "    }\n",
       "\n",
       "    .dataframe tbody tr th {\n",
       "        vertical-align: top;\n",
       "    }\n",
       "\n",
       "    .dataframe thead th {\n",
       "        text-align: right;\n",
       "    }\n",
       "</style>\n",
       "<table border=\"1\" class=\"dataframe\">\n",
       "  <thead>\n",
       "    <tr style=\"text-align: right;\">\n",
       "      <th></th>\n",
       "      <th>Computer Science</th>\n",
       "      <th>Physics</th>\n",
       "      <th>Mathematics</th>\n",
       "      <th>Statistics</th>\n",
       "      <th>Quantitative Biology</th>\n",
       "      <th>Quantitative Finance</th>\n",
       "      <th>ID</th>\n",
       "    </tr>\n",
       "  </thead>\n",
       "  <tbody>\n",
       "    <tr>\n",
       "      <th>0</th>\n",
       "      <td>0.627166</td>\n",
       "      <td>0.004963</td>\n",
       "      <td>0.219607</td>\n",
       "      <td>0.981550</td>\n",
       "      <td>0.004264</td>\n",
       "      <td>0.003214</td>\n",
       "      <td>20973</td>\n",
       "    </tr>\n",
       "    <tr>\n",
       "      <th>1</th>\n",
       "      <td>0.007799</td>\n",
       "      <td>0.996992</td>\n",
       "      <td>0.011145</td>\n",
       "      <td>0.006290</td>\n",
       "      <td>0.007151</td>\n",
       "      <td>0.005450</td>\n",
       "      <td>20974</td>\n",
       "    </tr>\n",
       "    <tr>\n",
       "      <th>2</th>\n",
       "      <td>0.992977</td>\n",
       "      <td>0.022863</td>\n",
       "      <td>0.042320</td>\n",
       "      <td>0.010588</td>\n",
       "      <td>0.007099</td>\n",
       "      <td>0.008368</td>\n",
       "      <td>20975</td>\n",
       "    </tr>\n",
       "    <tr>\n",
       "      <th>3</th>\n",
       "      <td>0.007237</td>\n",
       "      <td>0.996787</td>\n",
       "      <td>0.010212</td>\n",
       "      <td>0.005349</td>\n",
       "      <td>0.008605</td>\n",
       "      <td>0.006122</td>\n",
       "      <td>20976</td>\n",
       "    </tr>\n",
       "    <tr>\n",
       "      <th>4</th>\n",
       "      <td>0.991940</td>\n",
       "      <td>0.047109</td>\n",
       "      <td>0.098162</td>\n",
       "      <td>0.003781</td>\n",
       "      <td>0.007090</td>\n",
       "      <td>0.011946</td>\n",
       "      <td>20977</td>\n",
       "    </tr>\n",
       "  </tbody>\n",
       "</table>\n",
       "</div>"
      ],
      "text/plain": [
       "   Computer Science   Physics  Mathematics  Statistics  Quantitative Biology  \\\n",
       "0          0.627166  0.004963     0.219607    0.981550              0.004264   \n",
       "1          0.007799  0.996992     0.011145    0.006290              0.007151   \n",
       "2          0.992977  0.022863     0.042320    0.010588              0.007099   \n",
       "3          0.007237  0.996787     0.010212    0.005349              0.008605   \n",
       "4          0.991940  0.047109     0.098162    0.003781              0.007090   \n",
       "\n",
       "   Quantitative Finance     ID  \n",
       "0              0.003214  20973  \n",
       "1              0.005450  20974  \n",
       "2              0.008368  20975  \n",
       "3              0.006122  20976  \n",
       "4              0.011946  20977  "
      ]
     },
     "execution_count": 6,
     "metadata": {},
     "output_type": "execute_result"
    }
   ],
   "source": [
    "df_roberta.head()"
   ]
  },
  {
   "cell_type": "code",
   "execution_count": 7,
   "metadata": {
    "ExecuteTime": {
     "end_time": "2020-08-23T18:26:04.219558Z",
     "start_time": "2020-08-23T18:26:04.083885Z"
    },
    "scrolled": true
   },
   "outputs": [
    {
     "data": {
      "text/html": [
       "<div>\n",
       "<style scoped>\n",
       "    .dataframe tbody tr th:only-of-type {\n",
       "        vertical-align: middle;\n",
       "    }\n",
       "\n",
       "    .dataframe tbody tr th {\n",
       "        vertical-align: top;\n",
       "    }\n",
       "\n",
       "    .dataframe thead th {\n",
       "        text-align: right;\n",
       "    }\n",
       "</style>\n",
       "<table border=\"1\" class=\"dataframe\">\n",
       "  <thead>\n",
       "    <tr style=\"text-align: right;\">\n",
       "      <th></th>\n",
       "      <th>0</th>\n",
       "      <th>1</th>\n",
       "      <th>2</th>\n",
       "      <th>3</th>\n",
       "      <th>4</th>\n",
       "      <th>5</th>\n",
       "    </tr>\n",
       "  </thead>\n",
       "  <tbody>\n",
       "    <tr>\n",
       "      <th>0</th>\n",
       "      <td>0.529520</td>\n",
       "      <td>0.004198</td>\n",
       "      <td>0.035811</td>\n",
       "      <td>0.954310</td>\n",
       "      <td>0.004092</td>\n",
       "      <td>0.001641</td>\n",
       "    </tr>\n",
       "    <tr>\n",
       "      <th>1</th>\n",
       "      <td>0.004763</td>\n",
       "      <td>0.992359</td>\n",
       "      <td>0.004531</td>\n",
       "      <td>0.007740</td>\n",
       "      <td>0.004364</td>\n",
       "      <td>0.003262</td>\n",
       "    </tr>\n",
       "    <tr>\n",
       "      <th>2</th>\n",
       "      <td>0.976087</td>\n",
       "      <td>0.008357</td>\n",
       "      <td>0.139746</td>\n",
       "      <td>0.010985</td>\n",
       "      <td>0.001519</td>\n",
       "      <td>0.001651</td>\n",
       "    </tr>\n",
       "    <tr>\n",
       "      <th>3</th>\n",
       "      <td>0.004209</td>\n",
       "      <td>0.990955</td>\n",
       "      <td>0.003879</td>\n",
       "      <td>0.007634</td>\n",
       "      <td>0.006617</td>\n",
       "      <td>0.003392</td>\n",
       "    </tr>\n",
       "    <tr>\n",
       "      <th>4</th>\n",
       "      <td>0.987342</td>\n",
       "      <td>0.014400</td>\n",
       "      <td>0.111772</td>\n",
       "      <td>0.009054</td>\n",
       "      <td>0.001935</td>\n",
       "      <td>0.002422</td>\n",
       "    </tr>\n",
       "  </tbody>\n",
       "</table>\n",
       "</div>"
      ],
      "text/plain": [
       "          0         1         2         3         4         5\n",
       "0  0.529520  0.004198  0.035811  0.954310  0.004092  0.001641\n",
       "1  0.004763  0.992359  0.004531  0.007740  0.004364  0.003262\n",
       "2  0.976087  0.008357  0.139746  0.010985  0.001519  0.001651\n",
       "3  0.004209  0.990955  0.003879  0.007634  0.006617  0.003392\n",
       "4  0.987342  0.014400  0.111772  0.009054  0.001935  0.002422"
      ]
     },
     "execution_count": 7,
     "metadata": {},
     "output_type": "execute_result"
    }
   ],
   "source": [
    "df_roberta2 = pd.read_csv('Output Files/scores_prob_roberta_2.csv')\n",
    "df_roberta2.head()"
   ]
  },
  {
   "cell_type": "code",
   "execution_count": 8,
   "metadata": {
    "ExecuteTime": {
     "end_time": "2020-08-23T18:26:04.235479Z",
     "start_time": "2020-08-23T18:26:04.222513Z"
    }
   },
   "outputs": [],
   "source": [
    "df_roberta2.columns = df_bert.columns[1:]"
   ]
  },
  {
   "cell_type": "code",
   "execution_count": 9,
   "metadata": {
    "ExecuteTime": {
     "end_time": "2020-08-23T18:26:04.267395Z",
     "start_time": "2020-08-23T18:26:04.240465Z"
    }
   },
   "outputs": [],
   "source": [
    "df_roberta2['ID'] = df_bert['ID']"
   ]
  },
  {
   "cell_type": "code",
   "execution_count": 10,
   "metadata": {
    "ExecuteTime": {
     "end_time": "2020-08-23T18:26:04.313270Z",
     "start_time": "2020-08-23T18:26:04.270385Z"
    }
   },
   "outputs": [
    {
     "data": {
      "text/html": [
       "<div>\n",
       "<style scoped>\n",
       "    .dataframe tbody tr th:only-of-type {\n",
       "        vertical-align: middle;\n",
       "    }\n",
       "\n",
       "    .dataframe tbody tr th {\n",
       "        vertical-align: top;\n",
       "    }\n",
       "\n",
       "    .dataframe thead th {\n",
       "        text-align: right;\n",
       "    }\n",
       "</style>\n",
       "<table border=\"1\" class=\"dataframe\">\n",
       "  <thead>\n",
       "    <tr style=\"text-align: right;\">\n",
       "      <th></th>\n",
       "      <th>Computer Science</th>\n",
       "      <th>Physics</th>\n",
       "      <th>Mathematics</th>\n",
       "      <th>Statistics</th>\n",
       "      <th>Quantitative Biology</th>\n",
       "      <th>Quantitative Finance</th>\n",
       "      <th>ID</th>\n",
       "    </tr>\n",
       "  </thead>\n",
       "  <tbody>\n",
       "    <tr>\n",
       "      <th>0</th>\n",
       "      <td>0.529520</td>\n",
       "      <td>0.004198</td>\n",
       "      <td>0.035811</td>\n",
       "      <td>0.954310</td>\n",
       "      <td>0.004092</td>\n",
       "      <td>0.001641</td>\n",
       "      <td>20973</td>\n",
       "    </tr>\n",
       "    <tr>\n",
       "      <th>1</th>\n",
       "      <td>0.004763</td>\n",
       "      <td>0.992359</td>\n",
       "      <td>0.004531</td>\n",
       "      <td>0.007740</td>\n",
       "      <td>0.004364</td>\n",
       "      <td>0.003262</td>\n",
       "      <td>20974</td>\n",
       "    </tr>\n",
       "    <tr>\n",
       "      <th>2</th>\n",
       "      <td>0.976087</td>\n",
       "      <td>0.008357</td>\n",
       "      <td>0.139746</td>\n",
       "      <td>0.010985</td>\n",
       "      <td>0.001519</td>\n",
       "      <td>0.001651</td>\n",
       "      <td>20975</td>\n",
       "    </tr>\n",
       "    <tr>\n",
       "      <th>3</th>\n",
       "      <td>0.004209</td>\n",
       "      <td>0.990955</td>\n",
       "      <td>0.003879</td>\n",
       "      <td>0.007634</td>\n",
       "      <td>0.006617</td>\n",
       "      <td>0.003392</td>\n",
       "      <td>20976</td>\n",
       "    </tr>\n",
       "    <tr>\n",
       "      <th>4</th>\n",
       "      <td>0.987342</td>\n",
       "      <td>0.014400</td>\n",
       "      <td>0.111772</td>\n",
       "      <td>0.009054</td>\n",
       "      <td>0.001935</td>\n",
       "      <td>0.002422</td>\n",
       "      <td>20977</td>\n",
       "    </tr>\n",
       "  </tbody>\n",
       "</table>\n",
       "</div>"
      ],
      "text/plain": [
       "   Computer Science   Physics  Mathematics  Statistics  Quantitative Biology  \\\n",
       "0          0.529520  0.004198     0.035811    0.954310              0.004092   \n",
       "1          0.004763  0.992359     0.004531    0.007740              0.004364   \n",
       "2          0.976087  0.008357     0.139746    0.010985              0.001519   \n",
       "3          0.004209  0.990955     0.003879    0.007634              0.006617   \n",
       "4          0.987342  0.014400     0.111772    0.009054              0.001935   \n",
       "\n",
       "   Quantitative Finance     ID  \n",
       "0              0.001641  20973  \n",
       "1              0.003262  20974  \n",
       "2              0.001651  20975  \n",
       "3              0.003392  20976  \n",
       "4              0.002422  20977  "
      ]
     },
     "execution_count": 10,
     "metadata": {},
     "output_type": "execute_result"
    }
   ],
   "source": [
    "df_roberta2.head()"
   ]
  },
  {
   "cell_type": "code",
   "execution_count": 11,
   "metadata": {
    "ExecuteTime": {
     "end_time": "2020-08-23T18:26:04.550638Z",
     "start_time": "2020-08-23T18:26:04.317261Z"
    }
   },
   "outputs": [
    {
     "data": {
      "text/html": [
       "<div>\n",
       "<style scoped>\n",
       "    .dataframe tbody tr th:only-of-type {\n",
       "        vertical-align: middle;\n",
       "    }\n",
       "\n",
       "    .dataframe tbody tr th {\n",
       "        vertical-align: top;\n",
       "    }\n",
       "\n",
       "    .dataframe thead th {\n",
       "        text-align: right;\n",
       "    }\n",
       "</style>\n",
       "<table border=\"1\" class=\"dataframe\">\n",
       "  <thead>\n",
       "    <tr style=\"text-align: right;\">\n",
       "      <th></th>\n",
       "      <th>ID</th>\n",
       "      <th>Computer Science</th>\n",
       "      <th>Physics</th>\n",
       "      <th>Mathematics</th>\n",
       "      <th>Statistics</th>\n",
       "      <th>Quantitative Biology</th>\n",
       "      <th>Quantitative Finance</th>\n",
       "    </tr>\n",
       "  </thead>\n",
       "  <tbody>\n",
       "    <tr>\n",
       "      <th>0</th>\n",
       "      <td>20973</td>\n",
       "      <td>0.398132</td>\n",
       "      <td>0.246272</td>\n",
       "      <td>0.344008</td>\n",
       "      <td>0.811573</td>\n",
       "      <td>0.227383</td>\n",
       "      <td>0.299004</td>\n",
       "    </tr>\n",
       "    <tr>\n",
       "      <th>1</th>\n",
       "      <td>20974</td>\n",
       "      <td>0.260467</td>\n",
       "      <td>0.810319</td>\n",
       "      <td>0.229476</td>\n",
       "      <td>0.260720</td>\n",
       "      <td>0.234741</td>\n",
       "      <td>0.267537</td>\n",
       "    </tr>\n",
       "    <tr>\n",
       "      <th>2</th>\n",
       "      <td>20975</td>\n",
       "      <td>0.731480</td>\n",
       "      <td>0.258456</td>\n",
       "      <td>0.250279</td>\n",
       "      <td>0.362072</td>\n",
       "      <td>0.313508</td>\n",
       "      <td>0.256594</td>\n",
       "    </tr>\n",
       "    <tr>\n",
       "      <th>3</th>\n",
       "      <td>20976</td>\n",
       "      <td>0.208622</td>\n",
       "      <td>0.815689</td>\n",
       "      <td>0.200903</td>\n",
       "      <td>0.265735</td>\n",
       "      <td>0.272365</td>\n",
       "      <td>0.248114</td>\n",
       "    </tr>\n",
       "    <tr>\n",
       "      <th>4</th>\n",
       "      <td>20977</td>\n",
       "      <td>0.716060</td>\n",
       "      <td>0.219148</td>\n",
       "      <td>0.338610</td>\n",
       "      <td>0.249313</td>\n",
       "      <td>0.239906</td>\n",
       "      <td>0.255159</td>\n",
       "    </tr>\n",
       "  </tbody>\n",
       "</table>\n",
       "</div>"
      ],
      "text/plain": [
       "      ID  Computer Science   Physics  Mathematics  Statistics  \\\n",
       "0  20973          0.398132  0.246272     0.344008    0.811573   \n",
       "1  20974          0.260467  0.810319     0.229476    0.260720   \n",
       "2  20975          0.731480  0.258456     0.250279    0.362072   \n",
       "3  20976          0.208622  0.815689     0.200903    0.265735   \n",
       "4  20977          0.716060  0.219148     0.338610    0.249313   \n",
       "\n",
       "   Quantitative Biology  Quantitative Finance  \n",
       "0              0.227383              0.299004  \n",
       "1              0.234741              0.267537  \n",
       "2              0.313508              0.256594  \n",
       "3              0.272365              0.248114  \n",
       "4              0.239906              0.255159  "
      ]
     },
     "execution_count": 11,
     "metadata": {},
     "output_type": "execute_result"
    }
   ],
   "source": [
    "lvc_sub = pd.read_csv('Output Files/lvc_ksplit_ensemble.csv')\n",
    "lvc_sub.head()"
   ]
  },
  {
   "cell_type": "code",
   "execution_count": 12,
   "metadata": {
    "ExecuteTime": {
     "end_time": "2020-08-23T18:26:04.724172Z",
     "start_time": "2020-08-23T18:26:04.554626Z"
    }
   },
   "outputs": [
    {
     "data": {
      "text/html": [
       "<div>\n",
       "<style scoped>\n",
       "    .dataframe tbody tr th:only-of-type {\n",
       "        vertical-align: middle;\n",
       "    }\n",
       "\n",
       "    .dataframe tbody tr th {\n",
       "        vertical-align: top;\n",
       "    }\n",
       "\n",
       "    .dataframe thead th {\n",
       "        text-align: right;\n",
       "    }\n",
       "</style>\n",
       "<table border=\"1\" class=\"dataframe\">\n",
       "  <thead>\n",
       "    <tr style=\"text-align: right;\">\n",
       "      <th></th>\n",
       "      <th>ID</th>\n",
       "      <th>Computer Science</th>\n",
       "      <th>Physics</th>\n",
       "      <th>Mathematics</th>\n",
       "      <th>Statistics</th>\n",
       "      <th>Quantitative Biology</th>\n",
       "      <th>Quantitative Finance</th>\n",
       "    </tr>\n",
       "  </thead>\n",
       "  <tbody>\n",
       "    <tr>\n",
       "      <th>0</th>\n",
       "      <td>20973</td>\n",
       "      <td>0.046268</td>\n",
       "      <td>0.000046</td>\n",
       "      <td>0.004774</td>\n",
       "      <td>0.999995</td>\n",
       "      <td>0.000005</td>\n",
       "      <td>0.000091</td>\n",
       "    </tr>\n",
       "    <tr>\n",
       "      <th>1</th>\n",
       "      <td>20974</td>\n",
       "      <td>0.000134</td>\n",
       "      <td>0.999995</td>\n",
       "      <td>0.000012</td>\n",
       "      <td>0.000035</td>\n",
       "      <td>0.000008</td>\n",
       "      <td>0.000009</td>\n",
       "    </tr>\n",
       "    <tr>\n",
       "      <th>2</th>\n",
       "      <td>20975</td>\n",
       "      <td>0.999742</td>\n",
       "      <td>0.000073</td>\n",
       "      <td>0.000090</td>\n",
       "      <td>0.009739</td>\n",
       "      <td>0.000266</td>\n",
       "      <td>0.000011</td>\n",
       "    </tr>\n",
       "    <tr>\n",
       "      <th>3</th>\n",
       "      <td>20976</td>\n",
       "      <td>0.000003</td>\n",
       "      <td>0.999999</td>\n",
       "      <td>0.000002</td>\n",
       "      <td>0.000044</td>\n",
       "      <td>0.000061</td>\n",
       "      <td>0.000003</td>\n",
       "    </tr>\n",
       "    <tr>\n",
       "      <th>4</th>\n",
       "      <td>20977</td>\n",
       "      <td>0.999698</td>\n",
       "      <td>0.000011</td>\n",
       "      <td>0.002542</td>\n",
       "      <td>0.000083</td>\n",
       "      <td>0.000007</td>\n",
       "      <td>0.000008</td>\n",
       "    </tr>\n",
       "  </tbody>\n",
       "</table>\n",
       "</div>"
      ],
      "text/plain": [
       "      ID  Computer Science   Physics  Mathematics  Statistics  \\\n",
       "0  20973          0.046268  0.000046     0.004774    0.999995   \n",
       "1  20974          0.000134  0.999995     0.000012    0.000035   \n",
       "2  20975          0.999742  0.000073     0.000090    0.009739   \n",
       "3  20976          0.000003  0.999999     0.000002    0.000044   \n",
       "4  20977          0.999698  0.000011     0.002542    0.000083   \n",
       "\n",
       "   Quantitative Biology  Quantitative Finance  \n",
       "0              0.000005              0.000091  \n",
       "1              0.000008              0.000009  \n",
       "2              0.000266              0.000011  \n",
       "3              0.000061              0.000003  \n",
       "4              0.000007              0.000008  "
      ]
     },
     "execution_count": 12,
     "metadata": {},
     "output_type": "execute_result"
    }
   ],
   "source": [
    "lr_sub = pd.read_csv('Output Files/lr_ksplit_ensemble.csv')\n",
    "lr_sub.head()"
   ]
  },
  {
   "cell_type": "code",
   "execution_count": 13,
   "metadata": {
    "ExecuteTime": {
     "end_time": "2020-08-23T18:26:04.834876Z",
     "start_time": "2020-08-23T18:26:04.728162Z"
    }
   },
   "outputs": [
    {
     "data": {
      "text/html": [
       "<div>\n",
       "<style scoped>\n",
       "    .dataframe tbody tr th:only-of-type {\n",
       "        vertical-align: middle;\n",
       "    }\n",
       "\n",
       "    .dataframe tbody tr th {\n",
       "        vertical-align: top;\n",
       "    }\n",
       "\n",
       "    .dataframe thead th {\n",
       "        text-align: right;\n",
       "    }\n",
       "</style>\n",
       "<table border=\"1\" class=\"dataframe\">\n",
       "  <thead>\n",
       "    <tr style=\"text-align: right;\">\n",
       "      <th></th>\n",
       "      <th>ID</th>\n",
       "      <th>Computer Science</th>\n",
       "      <th>Physics</th>\n",
       "      <th>Mathematics</th>\n",
       "      <th>Statistics</th>\n",
       "      <th>Quantitative Biology</th>\n",
       "      <th>Quantitative Finance</th>\n",
       "    </tr>\n",
       "  </thead>\n",
       "  <tbody>\n",
       "    <tr>\n",
       "      <th>0</th>\n",
       "      <td>20973</td>\n",
       "      <td>0.555657</td>\n",
       "      <td>0.000000</td>\n",
       "      <td>0.244289</td>\n",
       "      <td>1.000000</td>\n",
       "      <td>0.000000</td>\n",
       "      <td>0.0</td>\n",
       "    </tr>\n",
       "    <tr>\n",
       "      <th>1</th>\n",
       "      <td>20974</td>\n",
       "      <td>0.000000</td>\n",
       "      <td>1.000000</td>\n",
       "      <td>0.000000</td>\n",
       "      <td>0.000000</td>\n",
       "      <td>0.000000</td>\n",
       "      <td>0.0</td>\n",
       "    </tr>\n",
       "    <tr>\n",
       "      <th>2</th>\n",
       "      <td>20975</td>\n",
       "      <td>0.644879</td>\n",
       "      <td>0.066483</td>\n",
       "      <td>0.244297</td>\n",
       "      <td>0.332745</td>\n",
       "      <td>0.088804</td>\n",
       "      <td>0.0</td>\n",
       "    </tr>\n",
       "    <tr>\n",
       "      <th>3</th>\n",
       "      <td>20976</td>\n",
       "      <td>0.000000</td>\n",
       "      <td>1.000000</td>\n",
       "      <td>0.000000</td>\n",
       "      <td>0.000000</td>\n",
       "      <td>0.000000</td>\n",
       "      <td>0.0</td>\n",
       "    </tr>\n",
       "    <tr>\n",
       "      <th>4</th>\n",
       "      <td>20977</td>\n",
       "      <td>0.822470</td>\n",
       "      <td>0.000000</td>\n",
       "      <td>0.399539</td>\n",
       "      <td>0.000000</td>\n",
       "      <td>0.000000</td>\n",
       "      <td>0.0</td>\n",
       "    </tr>\n",
       "  </tbody>\n",
       "</table>\n",
       "</div>"
      ],
      "text/plain": [
       "      ID  Computer Science   Physics  Mathematics  Statistics  \\\n",
       "0  20973          0.555657  0.000000     0.244289    1.000000   \n",
       "1  20974          0.000000  1.000000     0.000000    0.000000   \n",
       "2  20975          0.644879  0.066483     0.244297    0.332745   \n",
       "3  20976          0.000000  1.000000     0.000000    0.000000   \n",
       "4  20977          0.822470  0.000000     0.399539    0.000000   \n",
       "\n",
       "   Quantitative Biology  Quantitative Finance  \n",
       "0              0.000000                   0.0  \n",
       "1              0.000000                   0.0  \n",
       "2              0.088804                   0.0  \n",
       "3              0.000000                   0.0  \n",
       "4              0.000000                   0.0  "
      ]
     },
     "execution_count": 13,
     "metadata": {},
     "output_type": "execute_result"
    }
   ],
   "source": [
    "knn_sub = pd.read_csv('Output Files/knn_ksplit_ensemble.csv')\n",
    "knn_sub.head()"
   ]
  },
  {
   "cell_type": "code",
   "execution_count": 14,
   "metadata": {
    "ExecuteTime": {
     "end_time": "2020-08-23T18:26:04.850834Z",
     "start_time": "2020-08-23T18:26:04.838867Z"
    }
   },
   "outputs": [],
   "source": [
    "submission = pd.DataFrame()\n",
    "submission['ID'] = df_bert['ID']"
   ]
  },
  {
   "cell_type": "code",
   "execution_count": 15,
   "metadata": {
    "ExecuteTime": {
     "end_time": "2020-08-23T18:26:04.927665Z",
     "start_time": "2020-08-23T18:26:04.855820Z"
    }
   },
   "outputs": [],
   "source": [
    "submission['Computer Science'] = 0.4*df_bert['Computer Science']+0.2*df_roberta['Computer Science']+0.2*lvc_sub['Computer Science']\\\n",
    "+ 0.1*lr_sub['Computer Science']+0.1*knn_sub['Computer Science']+0.0*df_roberta2['Computer Science']"
   ]
  },
  {
   "cell_type": "code",
   "execution_count": 16,
   "metadata": {
    "ExecuteTime": {
     "end_time": "2020-08-23T18:26:05.085206Z",
     "start_time": "2020-08-23T18:26:05.057281Z"
    }
   },
   "outputs": [],
   "source": [
    "submission['Physics'] = 0.4*df_bert['Physics']+0.2*df_roberta['Physics']+0.2*lvc_sub['Physics']\\\n",
    "+0.1*lr_sub['Physics']+0.1*knn_sub['Physics']+0.0*df_roberta2['Physics']"
   ]
  },
  {
   "cell_type": "code",
   "execution_count": 17,
   "metadata": {
    "ExecuteTime": {
     "end_time": "2020-08-23T18:26:05.085206Z",
     "start_time": "2020-08-23T18:26:05.057281Z"
    },
    "scrolled": true
   },
   "outputs": [],
   "source": [
    "submission['Mathematics'] = 0.4*df_bert['Mathematics']+0.2*df_roberta['Mathematics']+0.2*lvc_sub['Mathematics']\\\n",
    "+0.1*lr_sub['Mathematics']+0.1*knn_sub['Mathematics']+0.0*df_roberta2['Mathematics']"
   ]
  },
  {
   "cell_type": "code",
   "execution_count": 18,
   "metadata": {
    "ExecuteTime": {
     "end_time": "2020-08-23T18:26:05.085206Z",
     "start_time": "2020-08-23T18:26:05.057281Z"
    }
   },
   "outputs": [],
   "source": [
    "submission['Statistics'] = 0.4*df_bert['Statistics']+0.2*df_roberta['Statistics']+0.2*lvc_sub['Statistics']\\\n",
    "+0.1*lr_sub['Statistics']+0.1*knn_sub['Statistics']+0.0*df_roberta2['Statistics']"
   ]
  },
  {
   "cell_type": "code",
   "execution_count": 19,
   "metadata": {
    "ExecuteTime": {
     "end_time": "2020-08-23T18:26:05.085206Z",
     "start_time": "2020-08-23T18:26:05.057281Z"
    }
   },
   "outputs": [],
   "source": [
    "submission['Quantitative Biology'] = 0.4*df_bert['Quantitative Biology']+0.2*df_roberta['Quantitative Biology']+0.2*lvc_sub['Quantitative Biology']\\\n",
    "+0.1*lr_sub['Quantitative Biology']+0.1*knn_sub['Quantitative Biology']+0.0*df_roberta2['Quantitative Biology']"
   ]
  },
  {
   "cell_type": "code",
   "execution_count": 20,
   "metadata": {
    "ExecuteTime": {
     "end_time": "2020-08-23T18:26:05.085206Z",
     "start_time": "2020-08-23T18:26:05.057281Z"
    }
   },
   "outputs": [],
   "source": [
    "submission['Quantitative Finance'] = 0.4*df_bert['Quantitative Finance']+0.2*df_roberta['Quantitative Finance']+0.2*lvc_sub['Quantitative Finance']\\\n",
    "+0.1*lr_sub['Quantitative Finance']+0.1*knn_sub['Quantitative Finance']+0.0*df_roberta2['Quantitative Finance']"
   ]
  },
  {
   "cell_type": "code",
   "execution_count": 21,
   "metadata": {
    "ExecuteTime": {
     "end_time": "2020-08-23T18:26:05.117121Z",
     "start_time": "2020-08-23T18:26:05.088202Z"
    }
   },
   "outputs": [],
   "source": [
    "for i in ['Computer Science', 'Physics', 'Mathematics', 'Statistics', 'Quantitative Biology','Quantitative Finance']:\n",
    "    conditions = [submission[i] > 0.5]\n",
    "    choices = [1]\n",
    "    submission[i] = np.select(conditions, choices, default=0)"
   ]
  },
  {
   "cell_type": "code",
   "execution_count": 22,
   "metadata": {
    "ExecuteTime": {
     "end_time": "2020-08-23T18:26:05.147041Z",
     "start_time": "2020-08-23T18:26:05.121111Z"
    }
   },
   "outputs": [
    {
     "data": {
      "text/html": [
       "<div>\n",
       "<style scoped>\n",
       "    .dataframe tbody tr th:only-of-type {\n",
       "        vertical-align: middle;\n",
       "    }\n",
       "\n",
       "    .dataframe tbody tr th {\n",
       "        vertical-align: top;\n",
       "    }\n",
       "\n",
       "    .dataframe thead th {\n",
       "        text-align: right;\n",
       "    }\n",
       "</style>\n",
       "<table border=\"1\" class=\"dataframe\">\n",
       "  <thead>\n",
       "    <tr style=\"text-align: right;\">\n",
       "      <th></th>\n",
       "      <th>ID</th>\n",
       "      <th>Computer Science</th>\n",
       "      <th>Physics</th>\n",
       "      <th>Mathematics</th>\n",
       "      <th>Statistics</th>\n",
       "      <th>Quantitative Biology</th>\n",
       "      <th>Quantitative Finance</th>\n",
       "    </tr>\n",
       "  </thead>\n",
       "  <tbody>\n",
       "    <tr>\n",
       "      <th>0</th>\n",
       "      <td>20973</td>\n",
       "      <td>0</td>\n",
       "      <td>0</td>\n",
       "      <td>0</td>\n",
       "      <td>1</td>\n",
       "      <td>0</td>\n",
       "      <td>0</td>\n",
       "    </tr>\n",
       "    <tr>\n",
       "      <th>1</th>\n",
       "      <td>20974</td>\n",
       "      <td>0</td>\n",
       "      <td>1</td>\n",
       "      <td>0</td>\n",
       "      <td>0</td>\n",
       "      <td>0</td>\n",
       "      <td>0</td>\n",
       "    </tr>\n",
       "    <tr>\n",
       "      <th>2</th>\n",
       "      <td>20975</td>\n",
       "      <td>1</td>\n",
       "      <td>0</td>\n",
       "      <td>0</td>\n",
       "      <td>0</td>\n",
       "      <td>0</td>\n",
       "      <td>0</td>\n",
       "    </tr>\n",
       "    <tr>\n",
       "      <th>3</th>\n",
       "      <td>20976</td>\n",
       "      <td>0</td>\n",
       "      <td>1</td>\n",
       "      <td>0</td>\n",
       "      <td>0</td>\n",
       "      <td>0</td>\n",
       "      <td>0</td>\n",
       "    </tr>\n",
       "    <tr>\n",
       "      <th>4</th>\n",
       "      <td>20977</td>\n",
       "      <td>1</td>\n",
       "      <td>0</td>\n",
       "      <td>0</td>\n",
       "      <td>0</td>\n",
       "      <td>0</td>\n",
       "      <td>0</td>\n",
       "    </tr>\n",
       "  </tbody>\n",
       "</table>\n",
       "</div>"
      ],
      "text/plain": [
       "      ID  Computer Science  Physics  Mathematics  Statistics  \\\n",
       "0  20973                 0        0            0           1   \n",
       "1  20974                 0        1            0           0   \n",
       "2  20975                 1        0            0           0   \n",
       "3  20976                 0        1            0           0   \n",
       "4  20977                 1        0            0           0   \n",
       "\n",
       "   Quantitative Biology  Quantitative Finance  \n",
       "0                     0                     0  \n",
       "1                     0                     0  \n",
       "2                     0                     0  \n",
       "3                     0                     0  \n",
       "4                     0                     0  "
      ]
     },
     "execution_count": 22,
     "metadata": {},
     "output_type": "execute_result"
    }
   ],
   "source": [
    "submission.head()"
   ]
  },
  {
   "cell_type": "code",
   "execution_count": 23,
   "metadata": {
    "ExecuteTime": {
     "end_time": "2020-08-23T18:26:05.338527Z",
     "start_time": "2020-08-23T18:26:05.151029Z"
    }
   },
   "outputs": [],
   "source": [
    "submission.to_csv('Output Files/submission_ensemble.csv', index=False)"
   ]
  },
  {
   "cell_type": "code",
   "execution_count": null,
   "metadata": {},
   "outputs": [],
   "source": []
  }
 ],
 "metadata": {
  "hide_input": false,
  "kernelspec": {
   "display_name": "Python 3",
   "language": "python",
   "name": "python3"
  },
  "language_info": {
   "codemirror_mode": {
    "name": "ipython",
    "version": 3
   },
   "file_extension": ".py",
   "mimetype": "text/x-python",
   "name": "python",
   "nbconvert_exporter": "python",
   "pygments_lexer": "ipython3",
   "version": "3.7.0"
  },
  "toc": {
   "base_numbering": 1,
   "nav_menu": {},
   "number_sections": true,
   "sideBar": true,
   "skip_h1_title": false,
   "title_cell": "Table of Contents",
   "title_sidebar": "Contents",
   "toc_cell": false,
   "toc_position": {},
   "toc_section_display": true,
   "toc_window_display": false
  },
  "varInspector": {
   "cols": {
    "lenName": 16,
    "lenType": 16,
    "lenVar": 40
   },
   "kernels_config": {
    "python": {
     "delete_cmd_postfix": "",
     "delete_cmd_prefix": "del ",
     "library": "var_list.py",
     "varRefreshCmd": "print(var_dic_list())"
    },
    "r": {
     "delete_cmd_postfix": ") ",
     "delete_cmd_prefix": "rm(",
     "library": "var_list.r",
     "varRefreshCmd": "cat(var_dic_list()) "
    }
   },
   "types_to_exclude": [
    "module",
    "function",
    "builtin_function_or_method",
    "instance",
    "_Feature"
   ],
   "window_display": false
  }
 },
 "nbformat": 4,
 "nbformat_minor": 2
}
